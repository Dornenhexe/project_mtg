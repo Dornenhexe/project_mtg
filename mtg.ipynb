{
 "cells": [
  {
   "cell_type": "code",
   "execution_count": 145,
   "id": "initial_id",
   "metadata": {
    "collapsed": true,
    "ExecuteTime": {
     "end_time": "2024-03-05T14:34:30.421288Z",
     "start_time": "2024-03-05T14:34:30.415690Z"
    }
   },
   "outputs": [],
   "source": [
    "import requests\n",
    "import json\n",
    "\n",
    "from pathlib import Path\n",
    "from pprint import pprint\n",
    "from datetime import datetime\n",
    "\n",
    "from openai import OpenAI\n",
    "from langchain_openai import OpenAI, ChatOpenAI, OpenAIEmbeddings\n",
    "from langchain.prompts import PromptTemplate, ChatPromptTemplate\n",
    "from langchain.chains import LLMChain\n",
    "\n",
    "from langchain_community.document_loaders import TextLoader\n",
    "from langchain.text_splitter import RecursiveCharacterTextSplitter\n",
    "from langchain_community.vectorstores import Chroma\n",
    "from langchain_core.runnables import RunnablePassthrough\n",
    "from langchain_core.output_parsers import StrOutputParser\n"
   ]
  },
  {
   "cell_type": "code",
   "execution_count": 146,
   "outputs": [],
   "source": [
    "import os\n",
    "from dotenv import load_dotenv"
   ],
   "metadata": {
    "collapsed": false,
    "ExecuteTime": {
     "end_time": "2024-03-05T14:34:31.434363Z",
     "start_time": "2024-03-05T14:34:31.431338Z"
    }
   },
   "id": "71960520b40c6440"
  },
  {
   "cell_type": "code",
   "execution_count": 147,
   "outputs": [],
   "source": [
    "load_dotenv()\n",
    "openai_api_key = os.environ.get(\"OPENAI_API_KEY\")"
   ],
   "metadata": {
    "collapsed": false,
    "ExecuteTime": {
     "end_time": "2024-03-05T14:34:32.754042Z",
     "start_time": "2024-03-05T14:34:32.746938Z"
    }
   },
   "id": "a404e15cfa73ae92"
  },
  {
   "cell_type": "markdown",
   "source": [
    "## Prompt\n",
    "- load prompt\n",
    "- load template with prompt"
   ],
   "metadata": {
    "collapsed": false
   },
   "id": "b39fccbc222cd06f"
  },
  {
   "cell_type": "code",
   "outputs": [
    {
     "name": "stdout",
     "output_type": "stream",
     "text": [
      "\"\"\"\n",
      "You act as a referee or judge in a game of Magic: the Gathering and have to judge a situation where two cards are played. {card1} and {card2} both have continuous effects.\n",
      "Use the {rules_db} as context for your decision. If you make a decision for one rule, you have to stick with it.\n",
      "You will get a {question} about two cards and give a judging regarding two contradicting continuous effects.\n",
      "Make sure your judging, explanation und quoting of the rules don't contradict each other.\n",
      "\n",
      "You will follow these steps:\n",
      "\n",
      "1. Give the oracle texts from both {card1} and {card2}. Check the additional comments in the card informations.\n",
      "1a. Determine the layer on which the effects of the cards are applied. Layers are defined in 613.1 in the {rules_db}.\n",
      "1b. Decide if one card depends on the other like stated in rule 613.8a in the {rules_db}.\n",
      "2. Decide which rule is fitting in the case: Timestamp (613.1 to 613.7) or Dependency (613.8) and quote the rule. Only one of the rule is the right answer to the question.\n",
      "2a. If you choose Timestamp, you can assume that {card1} is played first and has the earlier timestamp, while {card2} is played second and has the later timestamp.\n",
      "3. Explain why you would apply the rule.\n",
      "4. Give your judging and describe the final boardstate: The continuous effect of which card is applied in game: {card1} or {card2}?\n",
      "\n",
      "\"\"\"\n"
     ]
    }
   ],
   "source": [
    "with open(\"prompt_continuouseffects.txt\", \"r\") as file:\n",
    "    prompt_continuous_effects = file.read()\n",
    "print(prompt_continuous_effects)\n",
    "\n",
    "prompt_template = PromptTemplate.from_template(prompt_continuous_effects)\n",
    "#prompt_template = ChatPromptTemplate.from_template(prompt_continuous_effects)"
   ],
   "metadata": {
    "collapsed": false,
    "ExecuteTime": {
     "end_time": "2024-03-06T13:41:39.003062Z",
     "start_time": "2024-03-06T13:41:38.997899Z"
    }
   },
   "id": "a848cd6d90e83b8e",
   "execution_count": 250
  },
  {
   "cell_type": "markdown",
   "source": [
    "## RAG\n",
    "= Retrieved Augmented Generation\n",
    "- ChatGPT's knowlegde of the rules is from January 2022: for current state the rulebook needs to be retrieved and passed to the LLM\n",
    "- this data can provide context for the specific questions\n",
    "### Loader\n",
    "- simple loader to load .txt data: complete rule book from Magic: The Gathering"
   ],
   "metadata": {
    "collapsed": false
   },
   "id": "3b59c02d1d84e5f6"
  },
  {
   "cell_type": "code",
   "outputs": [],
   "source": [
    "#loader = TextLoader(\"./data/rules_shortened.txt\")\n",
    "loader = TextLoader(\"./data/rules.txt\")\n",
    "rules_doc = loader.load()"
   ],
   "metadata": {
    "collapsed": false,
    "ExecuteTime": {
     "end_time": "2024-03-05T14:35:29.981706Z",
     "start_time": "2024-03-05T14:35:29.976269Z"
    }
   },
   "id": "27f00bbe91b18e9",
   "execution_count": 152
  },
  {
   "cell_type": "markdown",
   "source": [
    "### Splitter\n",
    "- splitting the text into smaller chunks\n",
    "- this text splitter splits text recursively by characters: [\"\\n\\n\", \"\\n\", \" \", \"\"], so first paragraphs, then sentences, then words\n",
    "- keeps semantically related pieces together as long as possible"
   ],
   "metadata": {
    "collapsed": false
   },
   "id": "90397fedb75ce76f"
  },
  {
   "cell_type": "code",
   "outputs": [],
   "source": [
    "text_splitter = RecursiveCharacterTextSplitter(chunk_size=1000, chunk_overlap=200)\n",
    "rules_splits = text_splitter.split_documents(rules_doc)\n",
    "# print(rules_splits[0])"
   ],
   "metadata": {
    "collapsed": false,
    "ExecuteTime": {
     "end_time": "2024-03-05T14:35:34.171829Z",
     "start_time": "2024-03-05T14:35:34.126928Z"
    }
   },
   "id": "b2ca6492e32cd42c",
   "execution_count": 153
  },
  {
   "cell_type": "markdown",
   "source": [
    "### Vector Store\n",
    "- for storage of the embeddings\n",
    "- embedding for capture semantic meaning of the text: that's how context is given for later question\n",
    "- OpenAI embedding for ChatGPT\n",
    "- Chroma as open-source embedding database\n",
    "- finally, construct a retriever out of vectorstore "
   ],
   "metadata": {
    "collapsed": false
   },
   "id": "359b9cfc6dddfddd"
  },
  {
   "cell_type": "code",
   "outputs": [],
   "source": [
    "rules_db = Chroma.from_documents(documents=rules_splits, embedding=OpenAIEmbeddings())\n",
    "retriever_rules = rules_db.as_retriever()"
   ],
   "metadata": {
    "collapsed": false,
    "ExecuteTime": {
     "end_time": "2024-03-05T14:35:49.675735Z",
     "start_time": "2024-03-05T14:35:36.669029Z"
    }
   },
   "id": "afb3d85ff7036f43",
   "execution_count": 154
  },
  {
   "cell_type": "markdown",
   "source": [
    "- create new LLM: temperature 0 for more consistent, non-creative and therefor comparable output"
   ],
   "metadata": {
    "collapsed": false
   },
   "id": "cd2d8fe25b5886d6"
  },
  {
   "cell_type": "code",
   "outputs": [],
   "source": [
    "# llm = OpenAI(temperature=0, openai_api_key=openai_api_key)\n",
    "model = ChatOpenAI(temperature=0, openai_api_key=openai_api_key)"
   ],
   "metadata": {
    "collapsed": false,
    "ExecuteTime": {
     "end_time": "2024-03-05T14:38:52.220689Z",
     "start_time": "2024-03-05T14:38:52.085174Z"
    }
   },
   "id": "f28c13e80fd1b991",
   "execution_count": 166
  },
  {
   "cell_type": "markdown",
   "source": [
    "## Case 1: Blood Moon vs. Urborg, Tomb of Yawgmoth\n",
    "- Get card information via scryfall.com and delete unnecessary data: \n",
    "- keep only: name, mana cost, converted mana cost, type, oracle text, colors, keywords"
   ],
   "metadata": {
    "collapsed": false
   },
   "id": "6addb1af7246dfa4"
  },
  {
   "cell_type": "code",
   "outputs": [
    {
     "name": "stdout",
     "output_type": "stream",
     "text": [
      "{'id': '9e1a9e38-6ffc-490f-b0be-23ba4e8204c6', 'name': 'Urborg, Tomb of Yawgmoth', 'mana_cost': '', 'cmc': 0.0, 'type_line': 'Legendary Land', 'oracle_text': 'Each land is a Swamp in addition to its other land types.', 'colors': [], 'keywords': [], 'produced_mana': ['B'], 'comments': [\"Urborg, Tomb of Yawgmoth isn't a Swamp while it's not on the battlefield.\", \"Land cards not on the battlefield aren't Swamps while Urborg is on the battlefield.\", 'Urborg\\'s ability causes each land on the battlefield to have the land type Swamp. Any land that\\'s a Swamp has the ability \"{T}: Add {B}.\" Nothing else changes about those lands, including their names, other subtypes, other abilities, and whether they\\'re legendary, basic, or snow.', \"If an effect such as that of Magus of the Moon causes Urborg to lose its abilities by setting it to a basic land type not in addition to its other types, it won't turn lands into Swamps, no matter in what order those effects started to apply.\"]}\n"
     ]
    }
   ],
   "source": [
    "card1 = \"Urborg, Tomb of Yawgmoth\"\n",
    "response = requests.get(f'https://api.scryfall.com/cards/named?exact={card1} ', \n",
    "                 headers={'Accept': 'application/json'})\n",
    "if response.status_code == 200:\n",
    "    # Parse the JSON response into a Python dictionary to delete keywords\n",
    "    data = response.json()\n",
    "    keywords = [\"object\", \"oracle_id\", \"mtgo_foil_id\", \"rarity\", \"color_identity\", \"penny_rank\", \"multiverse_ids\", \"mtgo_id\", \"tcgplayer_id\", \"cardmarket_id\", \"lang\", \"released_at\", \"uri\", \"scryfall_uri\", \"layout\", \"frame_effects\", \"highres_image\", \"image_status\", \"image_uris\", \"legalities\", \"games\", \"reserved\", \"foil\", \"nonfoil\", \"finishes\", \"oversized\", \"promo\", \"reprint\", \"variation\", \"set_id\", \"set\", \"set_name\", \"set_type\", \"set_uri\", \"rulings_uri\", \"set_search_uri\", \"scryfall_set_uri\", \"prints_search_uri\", \"collector_number\", \"digital\", \"flavor_text\", \"card_back_id\", \"artist\", \"artist_ids\", \"illustration_id\", \"border_color\", \"frame\", \"security_stamp\", \"full_art\", \"textless\", \"booster\", \"story_spotlight\", \"edhrec_rank\", \"preview\", \"related_uris\", \"prices\", \"tcgplayer_infinite_articles\", \"tcgplayer_infinite_decks\", \"edhrec\", \"purchase_uris\", \"cardmarket\", \"cardhoarder\"]\n",
    "    for keyword in keywords:\n",
    "        if keyword in data:\n",
    "            del data[keyword]\n",
    "        \n",
    "    # convert into json dict\n",
    "    card1 = json.loads(json.dumps(data))\n",
    "    \n",
    "    # check for additional rulings via id\n",
    "    card_id = card1.get('id')\n",
    "    if card_id:\n",
    "        response = requests.get(f'https://api.scryfall.com/cards/{card_id}/rulings', \n",
    "                 headers={'Accept': 'application/json'})\n",
    "    \n",
    "    # add additional rules to card\n",
    "        if response.status_code == 200:\n",
    "            data_rulings = response.json()\n",
    "            comments = [item.get('comment') for item in data_rulings.get('data', [])]\n",
    "            card1['comments'] = comments\n",
    "        \n",
    "    with open('./data/card1.json', 'w') as f:\n",
    "        json.dump(card1, f)\n",
    "    print(card1)\n"
   ],
   "metadata": {
    "collapsed": false,
    "ExecuteTime": {
     "end_time": "2024-03-06T13:35:06.586336Z",
     "start_time": "2024-03-06T13:35:06.221421Z"
    }
   },
   "id": "eb35d55ab5881fae",
   "execution_count": 243
  },
  {
   "cell_type": "code",
   "outputs": [
    {
     "name": "stdout",
     "output_type": "stream",
     "text": [
      "{'id': 'd072e9ca-aae7-45dc-8025-3ce590bae63f', 'name': 'Blood Moon', 'mana_cost': '{2}{R}', 'cmc': 3.0, 'type_line': 'Enchantment', 'oracle_text': 'Nonbasic lands are Mountains.', 'colors': ['R'], 'keywords': [], 'comments': ['If a nonbasic land has an ability that triggers “when” it enters the battlefield, it will lose that ability before it can trigger.', 'If a nonbasic land has an ability that causes it to enter the battlefield tapped, it will lose that ability before it can apply. The same is also true of any other abilities that modify how a land enters the battlefield or apply “as” a land enters the battlefield, such as the first ability of Cavern of Souls.', 'Nonbasic lands will lose any other land types and abilities they had. They will gain the land type Mountain and gain the ability “{T}: Add {R}.”', \"This effect doesn't affect names or supertypes. It won't turn any land into a basic land or remove the legendary supertype from a legendary land, and the lands won't be named “Mountain.”\"]}\n"
     ]
    }
   ],
   "source": [
    "card2 = \"Blood Moon\"\n",
    "response = requests.get(f'https://api.scryfall.com/cards/named?exact={card2} ', \n",
    "                 headers={'Accept': 'application/json'})\n",
    "if response.status_code == 200:\n",
    "    # Parse the JSON response into a Python dictionary to delete keywords\n",
    "    data = response.json()\n",
    "    keywords = [\"object\", \"oracle_id\", \"mtgo_foil_id\", \"rarity\", \"color_identity\", \"penny_rank\", \"multiverse_ids\", \"mtgo_id\", \"tcgplayer_id\", \"cardmarket_id\", \"lang\", \"released_at\", \"uri\", \"scryfall_uri\", \"layout\", \"frame_effects\", \"highres_image\", \"image_status\", \"image_uris\", \"legalities\", \"games\", \"reserved\", \"foil\", \"nonfoil\", \"finishes\", \"oversized\", \"promo\", \"reprint\", \"variation\", \"set_id\", \"set\", \"set_name\", \"set_type\", \"set_uri\", \"set_search_uri\", \"scryfall_set_uri\", \"rulings_uri\", \"prints_search_uri\", \"collector_number\", \"digital\", \"flavor_text\", \"card_back_id\", \"artist\", \"artist_ids\", \"illustration_id\", \"border_color\", \"frame\", \"security_stamp\", \"full_art\", \"textless\", \"booster\", \"story_spotlight\", \"edhrec_rank\", \"preview\", \"related_uris\", \"prices\", \"tcgplayer_infinite_articles\", \"tcgplayer_infinite_decks\", \"edhrec\", \"purchase_uris\", \"cardmarket\", \"cardhoarder\"]\n",
    "    for keyword in keywords:\n",
    "        if keyword in data:\n",
    "            del data[keyword]\n",
    "    \n",
    "    clean_json = json.dumps(data)\n",
    "    # convert into json dict\n",
    "    card2 = json.loads(clean_json)\n",
    "    \n",
    "    # check for additional rulings via id\n",
    "    card_id = card2.get('id')\n",
    "    if card_id:\n",
    "        response = requests.get(f'https://api.scryfall.com/cards/{card_id}/rulings', \n",
    "                 headers={'Accept': 'application/json'})\n",
    "    \n",
    "    # add additional rules to card\n",
    "        if response.status_code == 200:\n",
    "            data_rulings = response.json()\n",
    "            comments = [item.get('comment') for item in data_rulings.get('data', [])]\n",
    "            card2['comments'] = comments\n",
    "    \n",
    "    with open('./data/card2.json', 'w') as f:\n",
    "        json.dump(card2, f)\n",
    "    print(card2)"
   ],
   "metadata": {
    "collapsed": false,
    "ExecuteTime": {
     "end_time": "2024-03-06T13:38:12.005717Z",
     "start_time": "2024-03-06T13:38:11.220931Z"
    }
   },
   "id": "9ba51bbf6643a219",
   "execution_count": 246
  },
  {
   "cell_type": "code",
   "outputs": [],
   "source": [
    "prompt_template = ChatPromptTemplate.from_template(\n",
    "    template=prompt_continuous_effects,\n",
    "    partial_variables={\"card1\": card1, \"card2\": card2},\n",
    ")"
   ],
   "metadata": {
    "collapsed": false,
    "ExecuteTime": {
     "end_time": "2024-03-06T13:41:46.294312Z",
     "start_time": "2024-03-06T13:41:46.290363Z"
    }
   },
   "id": "3bc09f69eb503566",
   "execution_count": 251
  },
  {
   "cell_type": "markdown",
   "source": [
    "- Use Chatmodel instead of LLM: more possible token in prompt\n",
    "- Outputparser to parse message response from Chatmodel to str\n",
    "- check testcases.md to compare expected outcome with ChatGPT's answer"
   ],
   "metadata": {
    "collapsed": false
   },
   "id": "5c09b5958862406e"
  },
  {
   "cell_type": "code",
   "outputs": [
    {
     "name": "stdout",
     "output_type": "stream",
     "text": [
      "1. Oracle texts:\n",
      "- Urborg, Tomb of Yawgmoth: Each land is a Swamp in addition to its other land types.\n",
      "- Blood Moon: Nonbasic lands are Mountains.\n",
      "\n",
      "1a. Layer:\n",
      "The effects of Urborg, Tomb of Yawgmoth and Blood Moon are applied in layer 4, the type-changing effects layer.\n",
      "\n",
      "1b. Dependency:\n",
      "The effects of Urborg, Tomb of Yawgmoth and Blood Moon do not depend on each other.\n",
      "\n",
      "2. Rule:\n",
      "I would apply the Timestamp rule (613.7) in this case.\n",
      "\n",
      "3. Explanation:\n",
      "According to the Timestamp rule, the continuous effect of the card played first with the earlier timestamp takes precedence over the effect of the card played later with the later timestamp.\n",
      "\n",
      "4. Judging:\n",
      "In this scenario, Urborg, Tomb of Yawgmoth is played first and has the earlier timestamp. Therefore, its continuous effect of making each land a Swamp in addition to its other types would be applied. This means that all nonbasic lands would become Swamps, overriding the effect of Blood Moon that would turn nonbasic lands into Mountains. The final board state would have all nonbasic lands as Swamps due to Urborg, Tomb of Yawgmoth's effect.\n"
     ]
    }
   ],
   "source": [
    "chain = ({\"rules_db\": retriever_rules, \"question\": RunnablePassthrough()} | prompt_template | model | StrOutputParser())\n",
    "answer = chain.invoke(\"What is the final board state of two cards played with continuous effects from Magic: the Gathering?\")\n",
    "print(answer)"
   ],
   "metadata": {
    "collapsed": false,
    "ExecuteTime": {
     "end_time": "2024-03-06T13:41:56.298799Z",
     "start_time": "2024-03-06T13:41:49.642262Z"
    }
   },
   "id": "34c08b3114fab1dc",
   "execution_count": 252
  },
  {
   "cell_type": "markdown",
   "source": [
    "- saving the answers as .txt for comparison by date & time: "
   ],
   "metadata": {
    "collapsed": false
   },
   "id": "8ce46fd91e648ac5"
  },
  {
   "cell_type": "code",
   "outputs": [],
   "source": [
    "current_datetime = str(datetime.now().strftime(\"%Y-%m-%d %H-%M-%S\"))\n",
    "file_name = current_datetime+\".txt\"\n",
    "\n",
    "with open(f'./data/answers/{file_name}', 'w') as f:\n",
    "    f.write(answer)"
   ],
   "metadata": {
    "collapsed": false,
    "ExecuteTime": {
     "end_time": "2024-02-29T09:38:23.656538Z",
     "start_time": "2024-02-29T09:38:23.651124Z"
    }
   },
   "id": "3b3b487f00e9d942",
   "execution_count": 156
  },
  {
   "cell_type": "code",
   "outputs": [],
   "source": [
    "# cleanup\n",
    "rules_db.delete_collection()"
   ],
   "metadata": {
    "collapsed": false,
    "ExecuteTime": {
     "end_time": "2024-03-04T14:51:39.836703Z",
     "start_time": "2024-03-04T14:51:39.591677Z"
    }
   },
   "id": "1a87757a2c34e812",
   "execution_count": 22
  },
  {
   "cell_type": "markdown",
   "source": [
    "## Case 2a: Opalescence vs. Humility\n",
    "- timestamp rule determines the outcome: *Humility* is played last and it's effect overrides *Opalescence*"
   ],
   "metadata": {
    "collapsed": false
   },
   "id": "e36e3ada1a279f8d"
  },
  {
   "cell_type": "code",
   "outputs": [
    {
     "name": "stdout",
     "output_type": "stream",
     "text": [
      "{'name': 'Opalescence', 'mana_cost': '{2}{W}{W}', 'cmc': 4.0, 'type_line': 'Enchantment', 'oracle_text': 'Each other non-Aura enchantment is a creature in addition to its other types and has base power and base toughness each equal to its mana value.', 'colors': ['W'], 'keywords': []}\n"
     ]
    }
   ],
   "source": [
    "card1 = \"Opalescence\"\n",
    "response = requests.get(f'https://api.scryfall.com/cards/named?exact={card1} ', \n",
    "                 headers={'Accept': 'application/json'})\n",
    "if response.status_code == 200:\n",
    "    # Parse the JSON response into a Python dictionary to delete keywords\n",
    "    data = response.json()\n",
    "    keywords = [\"object\", \"id\", \"oracle_id\", \"mtgo_foil_id\", \"rarity\", \"color_identity\", \"penny_rank\", \"multiverse_ids\", \"mtgo_id\", \"tcgplayer_id\", \"cardmarket_id\", \"lang\", \"released_at\", \"uri\", \"scryfall_uri\", \"layout\", \"frame_effects\", \"highres_image\", \"image_status\", \"image_uris\", \"legalities\", \"games\", \"reserved\", \"foil\", \"nonfoil\", \"finishes\", \"oversized\", \"promo\", \"reprint\", \"variation\", \"set_id\", \"set\", \"set_name\", \"set_type\", \"set_uri\", \"set_search_uri\", \"scryfall_set_uri\", \"rulings_uri\", \"prints_search_uri\", \"collector_number\", \"digital\", \"flavor_text\", \"card_back_id\", \"artist\", \"artist_ids\", \"illustration_id\", \"border_color\", \"frame\", \"security_stamp\", \"full_art\", \"textless\", \"booster\", \"story_spotlight\", \"edhrec_rank\", \"preview\", \"related_uris\", \"prices\", \"tcgplayer_infinite_articles\", \"tcgplayer_infinite_decks\", \"edhrec\", \"purchase_uris\", \"cardmarket\", \"cardhoarder\"]\n",
    "    for keyword in keywords:\n",
    "        if keyword in data:\n",
    "            del data[keyword]\n",
    "    \n",
    "    clean_json = json.dumps(data)\n",
    "    # convert into json dict & save:\n",
    "    card1 = json.loads(clean_json)\n",
    "    with open('./data/card1.json', 'w') as f:\n",
    "        json.dump(card1, f)\n",
    "    print(card1)"
   ],
   "metadata": {
    "collapsed": false,
    "ExecuteTime": {
     "end_time": "2024-03-05T14:55:34.102397Z",
     "start_time": "2024-03-05T14:55:33.703217Z"
    }
   },
   "id": "3080d61e967ea42e",
   "execution_count": 185
  },
  {
   "cell_type": "code",
   "outputs": [
    {
     "name": "stdout",
     "output_type": "stream",
     "text": [
      "Humility\n",
      "{'name': 'Humility', 'mana_cost': '{2}{W}{W}', 'cmc': 4.0, 'type_line': 'Enchantment', 'oracle_text': 'All creatures lose all abilities and have base power and toughness 1/1.', 'colors': ['W'], 'keywords': []}\n"
     ]
    }
   ],
   "source": [
    "card2 = \"Humility\"\n",
    "response = requests.get(f'https://api.scryfall.com/cards/named?exact={card2} ', \n",
    "                 headers={'Accept': 'application/json'})\n",
    "if response.status_code == 200:\n",
    "    # Parse the JSON response into a Python dictionary to delete keywords\n",
    "    data = response.json()\n",
    "    print(card2)\n",
    "    keywords = [\"object\", \"id\", \"oracle_id\", \"mtgo_foil_id\", \"rarity\", \"color_identity\", \"penny_rank\", \"multiverse_ids\", \"mtgo_id\", \"tcgplayer_id\", \"cardmarket_id\", \"lang\", \"released_at\", \"uri\", \"scryfall_uri\", \"layout\", \"frame_effects\", \"highres_image\", \"image_status\", \"image_uris\", \"legalities\", \"games\", \"reserved\", \"foil\", \"nonfoil\", \"finishes\", \"oversized\", \"promo\", \"reprint\", \"variation\", \"set_id\", \"set\", \"set_name\", \"set_type\", \"set_uri\", \"set_search_uri\", \"scryfall_set_uri\", \"rulings_uri\", \"prints_search_uri\", \"collector_number\", \"digital\", \"flavor_text\", \"card_back_id\", \"artist\", \"artist_ids\", \"illustration_id\", \"border_color\", \"frame\", \"security_stamp\", \"full_art\", \"textless\", \"booster\", \"story_spotlight\", \"edhrec_rank\", \"preview\", \"related_uris\", \"prices\", \"tcgplayer_infinite_articles\", \"tcgplayer_infinite_decks\", \"edhrec\", \"purchase_uris\", \"cardmarket\", \"cardhoarder\"]\n",
    "    for keyword in keywords:\n",
    "        if keyword in data:\n",
    "            del data[keyword]\n",
    "    \n",
    "    clean_json = json.dumps(data)\n",
    "    # convert into json dict & save:\n",
    "    card2 = json.loads(clean_json)\n",
    "    with open('./data/card2.json', 'w') as f:\n",
    "        json.dump(card2, f)\n",
    "    print(card2)"
   ],
   "metadata": {
    "collapsed": false,
    "ExecuteTime": {
     "end_time": "2024-03-05T14:55:35.825397Z",
     "start_time": "2024-03-05T14:55:35.505446Z"
    }
   },
   "id": "940cb0f195a2860c",
   "execution_count": 186
  },
  {
   "cell_type": "code",
   "outputs": [],
   "source": [
    "prompt_template = ChatPromptTemplate.from_template(\n",
    "    template=prompt_continuous_effects,\n",
    "    partial_variables={\"card1\": card1, \"card2\": card2},\n",
    ")"
   ],
   "metadata": {
    "collapsed": false,
    "ExecuteTime": {
     "end_time": "2024-03-05T14:55:36.861048Z",
     "start_time": "2024-03-05T14:55:36.857265Z"
    }
   },
   "id": "8866f2edf7bb637d",
   "execution_count": 187
  },
  {
   "cell_type": "code",
   "outputs": [
    {
     "name": "stdout",
     "output_type": "stream",
     "text": [
      "1. Oracle text of Opalescence: \"Each other non-Aura enchantment is a creature in addition to its other types and has base power and base toughness each equal to its mana value.\"\n",
      "Oracle text of Humility: \"All creatures lose all abilities and have base power and toughness 1/1.\"\n",
      "\n",
      "2. I would choose the Timestamp rule (613.1 to 613.7) in this case. The Timestamp rule states that when two continuous effects are in conflict, the effect generated last \"wins.\" In this scenario, Opalescence was played first and Humility was played second, so Humility's effect would be applied last.\n",
      "\n",
      "3. I would apply the Timestamp rule in this case because it specifically addresses situations where conflicting continuous effects are in play and provides a clear resolution method.\n",
      "\n",
      "4. Judging: The continuous effect of Humility would be applied in the game. This means that all creatures, including the enchantments turned into creatures by Opalescence, would lose all abilities and have base power and toughness of 1/1. The final boardstate would have all creatures as 1/1 creatures with no abilities.\n"
     ]
    }
   ],
   "source": [
    "chain = ({\"rules_db\": retriever_rules, \"question\": RunnablePassthrough()} | prompt_template | model | StrOutputParser())\n",
    "answer = chain.invoke(\"What is the outcome of two played cards with continuous effects from Magic: the Gathering?\")\n",
    "print(answer)"
   ],
   "metadata": {
    "collapsed": false,
    "ExecuteTime": {
     "end_time": "2024-03-05T14:55:43.415181Z",
     "start_time": "2024-03-05T14:55:37.969887Z"
    }
   },
   "id": "b6b5a2e29d54be7b",
   "execution_count": 188
  },
  {
   "cell_type": "code",
   "outputs": [],
   "source": [
    "file_name = str(datetime.now().strftime(\"%Y-%m-%d %H-%M-%S\"))\n",
    "# file_name = current_datetime+\".txt\"\n",
    "\n",
    "with open(f'./data/answers/case2_{file_name}.txt', 'w') as f:\n",
    "    f.write(answer)"
   ],
   "metadata": {
    "collapsed": false,
    "ExecuteTime": {
     "end_time": "2024-03-04T15:46:06.931001Z",
     "start_time": "2024-03-04T15:46:06.925626Z"
    }
   },
   "id": "f4c911c5fff90359",
   "execution_count": 111
  },
  {
   "cell_type": "markdown",
   "source": [
    "## Case 2b: Humility vs. Opalescence \n",
    "- because timestamp is important here, testing the case with changed order"
   ],
   "metadata": {
    "collapsed": false
   },
   "id": "8505e1378aea73aa"
  },
  {
   "cell_type": "code",
   "outputs": [
    {
     "name": "stdout",
     "output_type": "stream",
     "text": [
      "{'name': 'Humility', 'mana_cost': '{2}{W}{W}', 'cmc': 4.0, 'type_line': 'Enchantment', 'oracle_text': 'All creatures lose all abilities and have base power and toughness 1/1.', 'colors': ['W'], 'keywords': []}\n"
     ]
    }
   ],
   "source": [
    "card1 = \"Humility\"\n",
    "response = requests.get(f'https://api.scryfall.com/cards/named?exact={card1} ', \n",
    "                 headers={'Accept': 'application/json'})\n",
    "if response.status_code == 200:\n",
    "    # Parse the JSON response into a Python dictionary to delete keywords\n",
    "    data = response.json()\n",
    "    keywords = [\"object\", \"id\", \"oracle_id\", \"mtgo_foil_id\", \"rarity\", \"color_identity\", \"penny_rank\", \"multiverse_ids\", \"mtgo_id\", \"tcgplayer_id\", \"cardmarket_id\", \"lang\", \"released_at\", \"uri\", \"scryfall_uri\", \"layout\", \"frame_effects\", \"highres_image\", \"image_status\", \"image_uris\", \"legalities\", \"games\", \"reserved\", \"foil\", \"nonfoil\", \"finishes\", \"oversized\", \"promo\", \"reprint\", \"variation\", \"set_id\", \"set\", \"set_name\", \"set_type\", \"set_uri\", \"set_search_uri\", \"scryfall_set_uri\", \"rulings_uri\", \"prints_search_uri\", \"collector_number\", \"digital\", \"flavor_text\", \"card_back_id\", \"artist\", \"artist_ids\", \"illustration_id\", \"border_color\", \"frame\", \"security_stamp\", \"full_art\", \"textless\", \"booster\", \"story_spotlight\", \"edhrec_rank\", \"preview\", \"related_uris\", \"prices\", \"tcgplayer_infinite_articles\", \"tcgplayer_infinite_decks\", \"edhrec\", \"purchase_uris\", \"cardmarket\", \"cardhoarder\"]\n",
    "    for keyword in keywords:\n",
    "        if keyword in data:\n",
    "            del data[keyword]\n",
    "    \n",
    "    clean_json = json.dumps(data)\n",
    "    # convert into json dict & save:\n",
    "    card1 = json.loads(clean_json)\n",
    "    with open('./data/card1.json', 'w') as f:\n",
    "        json.dump(card1, f)\n",
    "    print(card1)"
   ],
   "metadata": {
    "collapsed": false,
    "ExecuteTime": {
     "end_time": "2024-03-05T15:11:58.297298Z",
     "start_time": "2024-03-05T15:11:57.178295Z"
    }
   },
   "id": "57c164860151737e",
   "execution_count": 206
  },
  {
   "cell_type": "code",
   "outputs": [
    {
     "name": "stdout",
     "output_type": "stream",
     "text": [
      "Opalescence\n",
      "{'name': 'Opalescence', 'mana_cost': '{2}{W}{W}', 'cmc': 4.0, 'type_line': 'Enchantment', 'oracle_text': 'Each other non-Aura enchantment is a creature in addition to its other types and has base power and base toughness each equal to its mana value.', 'colors': ['W'], 'keywords': []}\n"
     ]
    }
   ],
   "source": [
    "card2 = \"Opalescence\"\n",
    "response = requests.get(f'https://api.scryfall.com/cards/named?exact={card2} ', \n",
    "                 headers={'Accept': 'application/json'})\n",
    "if response.status_code == 200:\n",
    "    # Parse the JSON response into a Python dictionary to delete keywords\n",
    "    data = response.json()\n",
    "    print(card2)\n",
    "    keywords = [\"object\", \"id\", \"oracle_id\", \"mtgo_foil_id\", \"rarity\", \"color_identity\", \"penny_rank\", \"multiverse_ids\", \"mtgo_id\", \"tcgplayer_id\", \"cardmarket_id\", \"lang\", \"released_at\", \"uri\", \"scryfall_uri\", \"layout\", \"frame_effects\", \"highres_image\", \"image_status\", \"image_uris\", \"legalities\", \"games\", \"reserved\", \"foil\", \"nonfoil\", \"finishes\", \"oversized\", \"promo\", \"reprint\", \"variation\", \"set_id\", \"set\", \"set_name\", \"set_type\", \"set_uri\", \"set_search_uri\", \"scryfall_set_uri\", \"rulings_uri\", \"prints_search_uri\", \"collector_number\", \"digital\", \"flavor_text\", \"card_back_id\", \"artist\", \"artist_ids\", \"illustration_id\", \"border_color\", \"frame\", \"security_stamp\", \"full_art\", \"textless\", \"booster\", \"story_spotlight\", \"edhrec_rank\", \"preview\", \"related_uris\", \"prices\", \"tcgplayer_infinite_articles\", \"tcgplayer_infinite_decks\", \"edhrec\", \"purchase_uris\", \"cardmarket\", \"cardhoarder\"]\n",
    "    for keyword in keywords:\n",
    "        if keyword in data:\n",
    "            del data[keyword]\n",
    "    \n",
    "    clean_json = json.dumps(data)\n",
    "    # convert into json dict & save:\n",
    "    card2 = json.loads(clean_json)\n",
    "    with open('./data/card2.json', 'w') as f:\n",
    "        json.dump(card2, f)\n",
    "    print(card2)"
   ],
   "metadata": {
    "collapsed": false,
    "ExecuteTime": {
     "end_time": "2024-03-05T15:11:59.425455Z",
     "start_time": "2024-03-05T15:11:59.054024Z"
    }
   },
   "id": "160ba840414c3b8f",
   "execution_count": 207
  },
  {
   "cell_type": "code",
   "outputs": [],
   "source": [
    "prompt_template = ChatPromptTemplate.from_template(\n",
    "    template=prompt_continuous_effects,\n",
    "    partial_variables={\"card1\": card1, \"card2\": card2},\n",
    ")"
   ],
   "metadata": {
    "collapsed": false,
    "ExecuteTime": {
     "end_time": "2024-03-05T15:12:00.361554Z",
     "start_time": "2024-03-05T15:12:00.357538Z"
    }
   },
   "id": "7389ad16be09ca26",
   "execution_count": 208
  },
  {
   "cell_type": "code",
   "outputs": [
    {
     "name": "stdout",
     "output_type": "stream",
     "text": [
      "1. Oracle texts:\n",
      "- Humility: All creatures lose all abilities and have base power and toughness 1/1.\n",
      "- Opalescence: Each other non-Aura enchantment is a creature in addition to its other types and has base power and base toughness each equal to its mana value.\n",
      "\n",
      "1a. The effects of the cards are applied in different layers. Humility affects the abilities and power/toughness of creatures in layer 6 (ability adding or removing effects), while Opalescence affects the type-changing effects in layer 4 (type-changing effects).\n",
      "\n",
      "1b. The text of the cards do not depend on each other as they are affecting different aspects of the game state.\n",
      "\n",
      "2. The rule that is fitting in this case is the Timestamp rule (613.1 to 613.7).\n",
      "\n",
      "3. I would apply the Timestamp rule because it determines the order in which continuous effects are applied based on when they entered the battlefield. In this case, Humility entered the battlefield first and therefore has the earlier timestamp.\n",
      "\n",
      "4. Judging: The continuous effect of Humility takes precedence over Opalescence in this scenario. This means that all creatures on the battlefield will lose all abilities and have base power and toughness 1/1, regardless of Opalescence turning enchantments into creatures. The final boardstate will have creatures with 1/1 stats and no abilities.\n"
     ]
    }
   ],
   "source": [
    "chain = ({\"rules_db\": retriever_rules, \"question\": RunnablePassthrough()} | prompt_template | model | StrOutputParser())\n",
    "answer = chain.invoke(\"What is the outcome of two played cards with continuous effects from Magic: the Gathering?\")\n",
    "print(answer)"
   ],
   "metadata": {
    "collapsed": false,
    "ExecuteTime": {
     "end_time": "2024-03-05T15:12:07.516846Z",
     "start_time": "2024-03-05T15:12:01.243954Z"
    }
   },
   "id": "b2fa02271b9c4fa3",
   "execution_count": 209
  },
  {
   "cell_type": "code",
   "outputs": [],
   "source": [
    "file_name = str(datetime.now().strftime(\"%Y-%m-%d %H-%M-%S\"))\n",
    "# file_name = current_datetime+\".txt\"\n",
    "\n",
    "with open(f'./data/answers/case2_{file_name}.txt', 'w') as f:\n",
    "    f.write(answer)"
   ],
   "metadata": {
    "collapsed": false,
    "ExecuteTime": {
     "end_time": "2024-03-04T15:59:48.675568Z",
     "start_time": "2024-03-04T15:59:48.670805Z"
    }
   },
   "id": "b9bb8f9747e17ec",
   "execution_count": 143
  },
  {
   "cell_type": "code",
   "outputs": [],
   "source": [
    "# cleanup\n",
    "rules_db.delete_collection()"
   ],
   "metadata": {
    "collapsed": false,
    "ExecuteTime": {
     "end_time": "2024-03-04T16:00:54.830639Z",
     "start_time": "2024-03-04T16:00:54.604429Z"
    }
   },
   "id": "ccc24138ef06e935",
   "execution_count": 144
  }
 ],
 "metadata": {
  "kernelspec": {
   "display_name": "Python 3",
   "language": "python",
   "name": "python3"
  },
  "language_info": {
   "codemirror_mode": {
    "name": "ipython",
    "version": 2
   },
   "file_extension": ".py",
   "mimetype": "text/x-python",
   "name": "python",
   "nbconvert_exporter": "python",
   "pygments_lexer": "ipython2",
   "version": "2.7.6"
  }
 },
 "nbformat": 4,
 "nbformat_minor": 5
}
