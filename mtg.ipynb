{
 "cells": [
  {
   "cell_type": "code",
   "execution_count": 39,
   "id": "initial_id",
   "metadata": {
    "collapsed": true,
    "ExecuteTime": {
     "end_time": "2024-03-12T13:05:14.865986Z",
     "start_time": "2024-03-12T13:05:14.861150Z"
    }
   },
   "outputs": [],
   "source": [
    "import requests\n",
    "import json\n",
    "import os\n",
    "\n",
    "from dotenv import load_dotenv\n",
    "\n",
    "from datetime import datetime\n",
    "\n",
    "from langchain_openai import ChatOpenAI, OpenAIEmbeddings\n",
    "from langchain.prompts import ChatPromptTemplate\n",
    "from langchain_community.document_loaders import TextLoader\n",
    "from langchain.text_splitter import RecursiveCharacterTextSplitter\n",
    "from langchain_community.vectorstores import Chroma\n",
    "from langchain_core.runnables import RunnablePassthrough\n",
    "from langchain_core.output_parsers import StrOutputParser"
   ]
  },
  {
   "cell_type": "code",
   "execution_count": 40,
   "outputs": [],
   "source": [
    "load_dotenv()\n",
    "openai_api_key = os.environ.get(\"OPENAI_API_KEY\")"
   ],
   "metadata": {
    "collapsed": false,
    "ExecuteTime": {
     "end_time": "2024-03-12T13:05:15.621601Z",
     "start_time": "2024-03-12T13:05:15.617591Z"
    }
   },
   "id": "a404e15cfa73ae92"
  },
  {
   "cell_type": "markdown",
   "source": [
    "## Card Data\n",
    "- Get card information via scryfall.com and delete unnecessary data: \n",
    "    - keep only: id, name, mana cost, converted mana cost, type, oracle text, colors, keywords\n",
    "    - add comments via id\n",
    "- save as .json"
   ],
   "metadata": {
    "collapsed": false
   },
   "id": "d870bfdac91bcf9e"
  },
  {
   "cell_type": "code",
   "outputs": [],
   "source": [
    "cards = [\"Urborg, Tomb of Yawgmoth\", \"Blood Moon\", \"Humility\", \"Opalescence\"]\n",
    "\n",
    "for card in cards:\n",
    "    response = requests.get(f'https://api.scryfall.com/cards/named?exact={card} ', \n",
    "                     headers={'Accept': 'application/json'})\n",
    "    if response.status_code == 200:\n",
    "        # Parse the JSON response into a Python dictionary to delete keywords\n",
    "        data = response.json()\n",
    "        keywords = [\"object\", \"oracle_id\", \"mtgo_foil_id\", \"rarity\", \"color_identity\", \"penny_rank\", \"multiverse_ids\", \"mtgo_id\", \"tcgplayer_id\", \"cardmarket_id\", \"lang\", \"released_at\", \"uri\", \"scryfall_uri\", \"layout\", \"frame_effects\", \"highres_image\", \"image_status\", \"image_uris\", \"legalities\", \"games\", \"reserved\", \"foil\", \"nonfoil\", \"finishes\", \"oversized\", \"promo\", \"reprint\", \"variation\", \"set_id\", \"set\", \"set_name\", \"set_type\", \"set_uri\", \"rulings_uri\", \"set_search_uri\", \"scryfall_set_uri\", \"prints_search_uri\", \"collector_number\", \"digital\", \"flavor_text\", \"card_back_id\", \"artist\", \"artist_ids\", \"illustration_id\", \"border_color\", \"frame\", \"security_stamp\", \"full_art\", \"textless\", \"booster\", \"story_spotlight\", \"edhrec_rank\", \"preview\", \"related_uris\", \"prices\", \"tcgplayer_infinite_articles\", \"tcgplayer_infinite_decks\", \"edhrec\", \"purchase_uris\", \"cardmarket\", \"cardhoarder\"]\n",
    "        for keyword in keywords:\n",
    "            if keyword in data:\n",
    "                del data[keyword]\n",
    "            \n",
    "        # convert into json dict\n",
    "        card = json.loads(json.dumps(data))\n",
    "        \n",
    "        # check for additional rulings via id\n",
    "        card_id = card.get('id')\n",
    "        if card_id:\n",
    "            response = requests.get(f'https://api.scryfall.com/cards/{card_id}/rulings', \n",
    "                     headers={'Accept': 'application/json'})\n",
    "        \n",
    "        # add additional rules to card\n",
    "            if response.status_code == 200:\n",
    "                data_rulings = response.json()\n",
    "                comments = [item.get('comment') for item in data_rulings.get('data', [])]\n",
    "                card['comments'] = comments\n",
    "        \n",
    "        card_name = card.get('name')\n",
    "        with open(f'./data/cards/{card_name}.json', 'w') as f:\n",
    "            json.dump(card, f)"
   ],
   "metadata": {
    "collapsed": false,
    "ExecuteTime": {
     "end_time": "2024-03-12T13:41:20.288786Z",
     "start_time": "2024-03-12T13:41:17.107342Z"
    }
   },
   "id": "e7513efbc0016c45",
   "execution_count": 87
  },
  {
   "cell_type": "markdown",
   "source": [
    "## Prompt\n",
    "- load prompt\n",
    "- load template with prompt"
   ],
   "metadata": {
    "collapsed": false
   },
   "id": "b39fccbc222cd06f"
  },
  {
   "cell_type": "code",
   "outputs": [
    {
     "name": "stdout",
     "output_type": "stream",
     "text": [
      "\"\"\"\n",
      "You are a referee or judge in a game of Magic: the Gathering. You will get a {question} regarding {card1} and {card2} and have to make a decision.\n",
      "Use the {rules_db} as context for your decision.\n",
      "\n",
      "The following things are true:\n",
      "- {card1} and {card2} both have continuous effects\n",
      "- {card1} is played first and has the earlier timestamp, {card2} is played second and has the later timestamp. this may be relevant for the decision, but don't have to.\n",
      "- check the \"comments\" from {card1} and {card2} - they may be helpful\n",
      "- the \"type\" of the card may be relevant for the decision\n",
      "\n",
      "\n",
      "You will follow these steps to make a decision:\n",
      "\n",
      "1. Give the oracle texts from both cards as well the comments.\n",
      "2. Determine the layer on which the effects of the cards are applied. Layers are defined in 613.1 in the {rules_db}.\n",
      "3. Decide which rule you think is fitting: Timestamp and Layers (613.1 to 613.7), Dependency (613.8) or Overriding of effects (613.9).\n",
      "4. Give your judging: The continuous effect of which card is applied in game: {card1} or {card2}? Quote the effects.\n",
      "5. Explain why you decided this way.\n",
      "\n",
      "\"\"\"\n"
     ]
    }
   ],
   "source": [
    "with open(\"prompt_continuouseffects.txt\", \"r\") as file:\n",
    "    prompt_continuous_effects = file.read()\n",
    "print(prompt_continuous_effects)\n",
    "\n",
    "# prompt_template = ChatPromptTemplate.from_template(prompt_continuous_effects)"
   ],
   "metadata": {
    "collapsed": false,
    "ExecuteTime": {
     "end_time": "2024-03-12T13:44:41.658725Z",
     "start_time": "2024-03-12T13:44:41.650462Z"
    }
   },
   "id": "a848cd6d90e83b8e",
   "execution_count": 88
  },
  {
   "cell_type": "markdown",
   "source": [
    "## RAG\n",
    "= Retrieved Augmented Generation\n",
    "- ChatGPT's knowlegde of the rules is from January 2022: for current state the rulebook needs to be retrieved and passed to the LLM\n",
    "- this data can provide context for the specific questions\n",
    "### Loader\n",
    "- simple loader to load .txt data: complete rule book from Magic: The Gathering"
   ],
   "metadata": {
    "collapsed": false
   },
   "id": "3b59c02d1d84e5f6"
  },
  {
   "cell_type": "code",
   "outputs": [],
   "source": [
    "#loader = TextLoader(\"./data/rules_shortened.txt\")\n",
    "loader = TextLoader(\"./data/rules.txt\")\n",
    "rules_doc = loader.load()"
   ],
   "metadata": {
    "collapsed": false,
    "ExecuteTime": {
     "end_time": "2024-03-12T13:05:21.596290Z",
     "start_time": "2024-03-12T13:05:21.591368Z"
    }
   },
   "id": "27f00bbe91b18e9",
   "execution_count": 42
  },
  {
   "cell_type": "markdown",
   "source": [
    "### Splitter\n",
    "- splitting the text into smaller chunks\n",
    "- this text splitter splits text recursively by characters: [\"\\n\\n\", \"\\n\", \" \", \"\"], so first paragraphs, then sentences, then words\n",
    "- keeps semantically related pieces together as long as possible"
   ],
   "metadata": {
    "collapsed": false
   },
   "id": "90397fedb75ce76f"
  },
  {
   "cell_type": "code",
   "outputs": [],
   "source": [
    "text_splitter = RecursiveCharacterTextSplitter(chunk_size=1000, chunk_overlap=200)\n",
    "rules_splits = text_splitter.split_documents(rules_doc)\n",
    "# print(rules_splits[0])"
   ],
   "metadata": {
    "collapsed": false,
    "ExecuteTime": {
     "end_time": "2024-03-12T13:05:23.812539Z",
     "start_time": "2024-03-12T13:05:23.773291Z"
    }
   },
   "id": "b2ca6492e32cd42c",
   "execution_count": 43
  },
  {
   "cell_type": "markdown",
   "source": [
    "### Vector Store\n",
    "- for storage of the embeddings\n",
    "- embedding for capture semantic meaning of the text: that's how context is given for later question\n",
    "- OpenAI embedding for ChatGPT\n",
    "- Chroma as open-source embedding database\n",
    "- finally, construct a retriever out of vectorstore "
   ],
   "metadata": {
    "collapsed": false
   },
   "id": "359b9cfc6dddfddd"
  },
  {
   "cell_type": "code",
   "outputs": [],
   "source": [
    "rules_db = Chroma.from_documents(documents=rules_splits, embedding=OpenAIEmbeddings())\n",
    "retriever_rules = rules_db.as_retriever()"
   ],
   "metadata": {
    "collapsed": false,
    "ExecuteTime": {
     "end_time": "2024-03-12T13:05:38.428010Z",
     "start_time": "2024-03-12T13:05:25.745711Z"
    }
   },
   "id": "afb3d85ff7036f43",
   "execution_count": 44
  },
  {
   "cell_type": "markdown",
   "source": [
    "- create new LLM: temperature 0 for more consistent, non-creative and therefor comparable output"
   ],
   "metadata": {
    "collapsed": false
   },
   "id": "cd2d8fe25b5886d6"
  },
  {
   "cell_type": "code",
   "outputs": [],
   "source": [
    "model = ChatOpenAI(temperature=0, openai_api_key=openai_api_key)"
   ],
   "metadata": {
    "collapsed": false,
    "ExecuteTime": {
     "end_time": "2024-03-12T13:05:40.491183Z",
     "start_time": "2024-03-12T13:05:40.377519Z"
    }
   },
   "id": "f28c13e80fd1b991",
   "execution_count": 45
  },
  {
   "cell_type": "markdown",
   "source": [
    "## Case 1: Blood Moon vs. Urborg, Tomb of Yawgmoth"
   ],
   "metadata": {
    "collapsed": false
   },
   "id": "6addb1af7246dfa4"
  },
  {
   "cell_type": "code",
   "outputs": [],
   "source": [
    "# load card variables from saved data\n",
    "with open(\"./data/cards/Urborg, Tomb of Yawgmoth.json\", \"r\") as file:\n",
    "    card1 = file.read()\n",
    "\n",
    "with open(\"./data/cards/Blood Moon.json\", \"r\") as file:\n",
    "    card2 = file.read()"
   ],
   "metadata": {
    "collapsed": false,
    "ExecuteTime": {
     "end_time": "2024-03-12T13:17:37.056569Z",
     "start_time": "2024-03-12T13:17:37.051918Z"
    }
   },
   "id": "ef2501dbce11637e",
   "execution_count": 66
  },
  {
   "cell_type": "code",
   "outputs": [],
   "source": [
    "prompt_template = ChatPromptTemplate.from_template(\n",
    "    template=prompt_continuous_effects,\n",
    "    partial_variables={\"card1\": card1, \"card2\": card2},\n",
    ")"
   ],
   "metadata": {
    "collapsed": false,
    "ExecuteTime": {
     "end_time": "2024-03-12T13:29:09.918893Z",
     "start_time": "2024-03-12T13:29:09.913875Z"
    }
   },
   "id": "3bc09f69eb503566",
   "execution_count": 76
  },
  {
   "cell_type": "markdown",
   "source": [
    "- Outputparser to parse message response from Chatmodel to str\n",
    "- check testcases.md to compare expected outcome with ChatGPT's answer"
   ],
   "metadata": {
    "collapsed": false
   },
   "id": "5c09b5958862406e"
  },
  {
   "cell_type": "code",
   "outputs": [
    {
     "name": "stdout",
     "output_type": "stream",
     "text": [
      "1. Oracle texts and comments:\n",
      "- Urborg, Tomb of Yawgmoth:\n",
      "    - Oracle text: Each land is a Swamp in addition to its other land types.\n",
      "    - Comments: Urborg's ability causes each land on the battlefield to have the land type Swamp. Any land that's a Swamp has the ability \"{T}: Add {B}\". Nothing else changes about those lands, including their names, other subtypes, other abilities, and whether they're legendary, basic, or snow.\n",
      "- Blood Moon:\n",
      "    - Oracle text: Nonbasic lands are Mountains.\n",
      "    - Comments: Nonbasic lands will lose any other land types and abilities they had. They will gain the land type Mountain and gain the ability \"{T}: Add {R}\". This effect doesn't affect names or supertypes.\n",
      "\n",
      "2. Layer determination:\n",
      "The effects of Urborg, Tomb of Yawgmoth and Blood Moon fall under the dependency layer as they both modify the characteristics of lands on the battlefield.\n",
      "\n",
      "3. Rule choice:\n",
      "I will apply the Dependency rule (613.8) to determine which continuous effect takes precedence.\n",
      "\n",
      "4. Judging:\n",
      "The continuous effect of Urborg, Tomb of Yawgmoth is applied in the game.\n",
      "\n",
      "5. Explanation:\n",
      "According to the Dependency rule (613.8), when two continuous effects are dependent on one another, the effect that was generated last takes precedence. In this case, Urborg, Tomb of Yawgmoth's effect of turning all lands into Swamps overrides Blood Moon's effect of turning nonbasic lands into Mountains. Since Urborg's effect was applied last, it will be the one that is active in the game, making all lands on the battlefield Swamps in addition to their other types.\n"
     ]
    }
   ],
   "source": [
    "chain = ({\"rules_db\": retriever_rules, \"question\": RunnablePassthrough()} | prompt_template | model | StrOutputParser())\n",
    "answer = chain.invoke(\"What is the final board state of two cards played with continuous effects from Magic: the Gathering?\")\n",
    "print(answer)"
   ],
   "metadata": {
    "collapsed": false,
    "ExecuteTime": {
     "end_time": "2024-03-12T13:29:26.250174Z",
     "start_time": "2024-03-12T13:29:18.608785Z"
    }
   },
   "id": "34c08b3114fab1dc",
   "execution_count": 77
  },
  {
   "cell_type": "markdown",
   "source": [
    "- saving the answers as .txt for comparison by date & time: "
   ],
   "metadata": {
    "collapsed": false
   },
   "id": "8ce46fd91e648ac5"
  },
  {
   "cell_type": "code",
   "outputs": [],
   "source": [
    "file_name = str(datetime.now().strftime(\"%Y-%m-%d %H-%M-%S\"))\n",
    "\n",
    "with open(f'./data/answers/case2_{file_name}.txt', 'w') as f:\n",
    "    f.write(answer)"
   ],
   "metadata": {
    "collapsed": false,
    "ExecuteTime": {
     "end_time": "2024-03-12T13:29:53.230308Z",
     "start_time": "2024-03-12T13:29:53.224830Z"
    }
   },
   "id": "3b3b487f00e9d942",
   "execution_count": 78
  },
  {
   "cell_type": "code",
   "outputs": [],
   "source": [
    "# cleanup\n",
    "rules_db.delete_collection()"
   ],
   "metadata": {
    "collapsed": false,
    "ExecuteTime": {
     "end_time": "2024-03-04T14:51:39.836703Z",
     "start_time": "2024-03-04T14:51:39.591677Z"
    }
   },
   "id": "1a87757a2c34e812",
   "execution_count": 22
  },
  {
   "cell_type": "markdown",
   "source": [
    "## Case 2a: Opalescence vs. Humility\n",
    "- timestamp rule determines the outcome: *Humility* is played last and it's effect overrides *Opalescence*"
   ],
   "metadata": {
    "collapsed": false
   },
   "id": "e36e3ada1a279f8d"
  },
  {
   "cell_type": "code",
   "outputs": [],
   "source": [
    "with open(\"./data/cards/Opalescence.json\", \"r\") as file:\n",
    "    card1 = file.read()\n",
    "\n",
    "with open(\"./data/cards/Humility.json\", \"r\") as file:\n",
    "    card2 = file.read()"
   ],
   "metadata": {
    "collapsed": false,
    "ExecuteTime": {
     "end_time": "2024-03-12T13:30:05.303390Z",
     "start_time": "2024-03-12T13:30:05.298909Z"
    }
   },
   "id": "bb6dbafea9a1b50f",
   "execution_count": 80
  },
  {
   "cell_type": "code",
   "outputs": [],
   "source": [
    "prompt_template = ChatPromptTemplate.from_template(\n",
    "    template=prompt_continuous_effects,\n",
    "    partial_variables={\"card1\": card1, \"card2\": card2},\n",
    ")"
   ],
   "metadata": {
    "collapsed": false,
    "ExecuteTime": {
     "end_time": "2024-03-12T13:30:06.366494Z",
     "start_time": "2024-03-12T13:30:06.362504Z"
    }
   },
   "id": "8866f2edf7bb637d",
   "execution_count": 81
  },
  {
   "cell_type": "code",
   "outputs": [
    {
     "name": "stdout",
     "output_type": "stream",
     "text": [
      "1. Oracle texts and comments:\n",
      "- Opalescence: Each other non-Aura enchantment is a creature in addition to its other types and has base power and base toughness each equal to its mana value.\n",
      "- Humility: All creatures lose all abilities and have base power and toughness 1/1.\n",
      "\n",
      "Comments:\n",
      "- The interaction between Humility and Opalescence involves layer 4 for the type-changing effect, with the rest of the effects happening in subsequent layers.\n",
      "- The timestamp order between the two cards can affect the outcome of the continuous effects.\n",
      "\n",
      "2. Determining the layer:\n",
      "The effects of Opalescence and Humility are applied in different layers according to the rules of Magic: the Gathering. Opalescence's effect of turning enchantments into creatures with power and toughness equal to their mana value is applied in layer 4, while Humility's effect of setting all creatures' power and toughness to 1/1 and removing all abilities is applied in layer 6.\n",
      "\n",
      "3. Decision on the rule:\n",
      "In this scenario, the relevant rule to consider is the Timestamp and Layers rule (613.1 to 613.7). The timestamp order of the cards will determine which effect takes precedence in the game.\n",
      "\n",
      "4. Judging:\n",
      "The continuous effect that is applied in the game is the effect of Humility: All creatures lose all abilities and have base power and toughness 1/1.\n",
      "\n",
      "5. Explanation:\n",
      "Since Humility has the later timestamp compared to Opalescence and its effect is applied in layer 6, which is after the layer where Opalescence's effect is applied, Humility's effect takes precedence in this situation. Therefore, all creatures on the battlefield will have their abilities removed and their power and toughness set to 1/1 as per the effect of Humility.\n"
     ]
    }
   ],
   "source": [
    "chain = ({\"rules_db\": retriever_rules, \"question\": RunnablePassthrough()} | prompt_template | model | StrOutputParser())\n",
    "answer = chain.invoke(\"What is the outcome of two played cards with continuous effects from Magic: the Gathering?\")\n",
    "print(answer)"
   ],
   "metadata": {
    "collapsed": false,
    "ExecuteTime": {
     "end_time": "2024-03-12T13:30:15.507511Z",
     "start_time": "2024-03-12T13:30:07.468345Z"
    }
   },
   "id": "b6b5a2e29d54be7b",
   "execution_count": 82
  },
  {
   "cell_type": "code",
   "outputs": [],
   "source": [
    "file_name = str(datetime.now().strftime(\"%Y-%m-%d %H-%M-%S\"))\n",
    "\n",
    "with open(f'./data/answers/case2_{file_name}.txt', 'w') as f:\n",
    "    f.write(answer)"
   ],
   "metadata": {
    "collapsed": false,
    "ExecuteTime": {
     "end_time": "2024-03-04T15:46:06.931001Z",
     "start_time": "2024-03-04T15:46:06.925626Z"
    }
   },
   "id": "f4c911c5fff90359",
   "execution_count": 111
  },
  {
   "cell_type": "markdown",
   "source": [
    "## Case 2b: Humility vs. Opalescence \n",
    "- because timestamp is important here, testing the case with changed order"
   ],
   "metadata": {
    "collapsed": false
   },
   "id": "8505e1378aea73aa"
  },
  {
   "cell_type": "code",
   "outputs": [],
   "source": [
    "with open(\"./data/cards/humility.json\", \"r\") as file:\n",
    "    card1 = file.read()\n",
    "\n",
    "with open(\"./data/cards/opalescence.json\", \"r\") as file:\n",
    "    card2 = file.read()"
   ],
   "metadata": {
    "collapsed": false,
    "ExecuteTime": {
     "end_time": "2024-03-12T13:30:49.171328Z",
     "start_time": "2024-03-12T13:30:49.165661Z"
    }
   },
   "id": "93922763012c8728",
   "execution_count": 83
  },
  {
   "cell_type": "code",
   "outputs": [],
   "source": [
    "prompt_template = ChatPromptTemplate.from_template(\n",
    "    template=prompt_continuous_effects,\n",
    "    partial_variables={\"card1\": card1, \"card2\": card2},\n",
    ")"
   ],
   "metadata": {
    "collapsed": false,
    "ExecuteTime": {
     "end_time": "2024-03-12T13:30:50.094971Z",
     "start_time": "2024-03-12T13:30:50.091274Z"
    }
   },
   "id": "7389ad16be09ca26",
   "execution_count": 84
  },
  {
   "cell_type": "code",
   "outputs": [
    {
     "name": "stdout",
     "output_type": "stream",
     "text": [
      "1. Oracle texts and comments:\n",
      "- Humility: All creatures lose all abilities and have base power and toughness 1/1. Comments: The interaction between Humility and Opalescence involves layer 4 for type-changing effects, followed by applicable layers for the rest of the effects. The order of timestamps determines the outcome of the creatures' power and toughness.\n",
      "- Opalescence: Each other non-Aura enchantment is a creature with base power and toughness equal to its mana value. Comments: Opalescence interacts with Humility in layer 4 for type-changing effects and has specific interactions based on timestamp order.\n",
      "\n",
      "2. Layers:\n",
      "The effects of Humility and Opalescence are applied in layer 4 for type-changing effects, followed by other applicable layers for the rest of the effects.\n",
      "\n",
      "3. Rule:\n",
      "We will apply the Timestamp and Layers rule (613.1 to 613.7) to determine the outcome of the continuous effects.\n",
      "\n",
      "4. Judging:\n",
      "The continuous effect of Humility is applied in the game. The effect states: \"All creatures lose all abilities and have base power and toughness 1/1.\"\n",
      "\n",
      "5. Explanation:\n",
      "Based on the Timestamp and Layers rule, we consider the order of timestamps to determine the outcome of continuous effects. In this case, Humility was played first and has the earlier timestamp. Therefore, its effect of reducing all creatures' abilities and setting their power and toughness to 1/1 will take precedence over Opalescence's effect. This decision ensures consistency in applying continuous effects in Magic: the Gathering.\n"
     ]
    }
   ],
   "source": [
    "chain = ({\"rules_db\": retriever_rules, \"question\": RunnablePassthrough()} | prompt_template | model | StrOutputParser())\n",
    "answer = chain.invoke(\"What is the outcome of two played cards with continuous effects from Magic: the Gathering?\")\n",
    "print(answer)"
   ],
   "metadata": {
    "collapsed": false,
    "ExecuteTime": {
     "end_time": "2024-03-12T13:30:59.130751Z",
     "start_time": "2024-03-12T13:30:51.097900Z"
    }
   },
   "id": "b2fa02271b9c4fa3",
   "execution_count": 85
  },
  {
   "cell_type": "code",
   "outputs": [],
   "source": [
    "file_name = str(datetime.now().strftime(\"%Y-%m-%d %H-%M-%S\"))\n",
    "\n",
    "with open(f'./data/answers/case2_{file_name}.txt', 'w') as f:\n",
    "    f.write(answer)"
   ],
   "metadata": {
    "collapsed": false,
    "ExecuteTime": {
     "end_time": "2024-03-12T13:31:42.380394Z",
     "start_time": "2024-03-12T13:31:42.375100Z"
    }
   },
   "id": "b9bb8f9747e17ec",
   "execution_count": 86
  },
  {
   "cell_type": "code",
   "outputs": [],
   "source": [
    "# cleanup\n",
    "rules_db.delete_collection()"
   ],
   "metadata": {
    "collapsed": false,
    "ExecuteTime": {
     "end_time": "2024-03-12T11:12:43.813774Z",
     "start_time": "2024-03-12T11:12:43.621223Z"
    }
   },
   "id": "ccc24138ef06e935",
   "execution_count": 38
  },
  {
   "cell_type": "code",
   "outputs": [],
   "source": [],
   "metadata": {
    "collapsed": false
   },
   "id": "c123e7e9e68562f2"
  }
 ],
 "metadata": {
  "kernelspec": {
   "display_name": "Python 3",
   "language": "python",
   "name": "python3"
  },
  "language_info": {
   "codemirror_mode": {
    "name": "ipython",
    "version": 2
   },
   "file_extension": ".py",
   "mimetype": "text/x-python",
   "name": "python",
   "nbconvert_exporter": "python",
   "pygments_lexer": "ipython2",
   "version": "2.7.6"
  }
 },
 "nbformat": 4,
 "nbformat_minor": 5
}
