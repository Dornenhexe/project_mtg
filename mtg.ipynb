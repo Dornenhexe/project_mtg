{
 "cells": [
  {
   "cell_type": "code",
   "execution_count": 3,
   "id": "initial_id",
   "metadata": {
    "collapsed": true,
    "ExecuteTime": {
     "end_time": "2024-02-21T12:43:30.136487730Z",
     "start_time": "2024-02-21T12:43:28.131037932Z"
    }
   },
   "outputs": [],
   "source": [
    "from openai import OpenAI\n",
    "# from langchain.chat_models import ChatOpenAI\n",
    "from langchain_openai import OpenAI\n",
    "from langchain.prompts import PromptTemplate\n",
    "from langchain.chains import LLMChain\n"
   ]
  },
  {
   "cell_type": "code",
   "execution_count": 4,
   "outputs": [],
   "source": [
    "import os\n",
    "from dotenv import load_dotenv"
   ],
   "metadata": {
    "collapsed": false,
    "ExecuteTime": {
     "end_time": "2024-02-21T12:43:31.185778949Z",
     "start_time": "2024-02-21T12:43:31.172024181Z"
    }
   },
   "id": "71960520b40c6440"
  },
  {
   "cell_type": "code",
   "execution_count": 5,
   "outputs": [],
   "source": [
    "load_dotenv()\n",
    "openai_api_key = os.environ.get(\"OPENAI_API_KEY\")"
   ],
   "metadata": {
    "collapsed": false,
    "ExecuteTime": {
     "end_time": "2024-02-21T12:43:32.654059950Z",
     "start_time": "2024-02-21T12:43:32.634071775Z"
    }
   },
   "id": "a404e15cfa73ae92"
  },
  {
   "cell_type": "markdown",
   "source": [
    "create Testing Template "
   ],
   "metadata": {
    "collapsed": false
   },
   "id": "d1a777bab8405cc6"
  },
  {
   "cell_type": "code",
   "outputs": [],
   "source": [
    "template = \"\"\"What is a good name for a company that makes {product}?\"\"\"\n",
    "product = \"socks\"\n",
    "prompt_template = PromptTemplate.from_template(template)\n",
    "#prompt_template.format(product=\"socks\")\n",
    "\n",
    "prompt_test = PromptTemplate.from_template(template)"
   ],
   "metadata": {
    "collapsed": false,
    "ExecuteTime": {
     "end_time": "2024-02-19T15:54:08.924045429Z",
     "start_time": "2024-02-19T15:54:08.881440744Z"
    }
   },
   "id": "7ad1bcd43031b2b4",
   "execution_count": 22
  },
  {
   "cell_type": "markdown",
   "source": [
    "create new LLM, insert prompt and start chain"
   ],
   "metadata": {
    "collapsed": false
   },
   "id": "2993b5ce201e5d00"
  },
  {
   "cell_type": "code",
   "outputs": [],
   "source": [
    "llm = OpenAI(openai_api_key=openai_api_key)"
   ],
   "metadata": {
    "collapsed": false,
    "ExecuteTime": {
     "end_time": "2024-02-19T15:52:26.616225638Z",
     "start_time": "2024-02-19T15:52:26.487605728Z"
    }
   },
   "id": "cda84ddd25f56030",
   "execution_count": 20
  },
  {
   "cell_type": "code",
   "outputs": [
    {
     "data": {
      "text/plain": "{'product': 'socks', 'text': '\\n\\n\"Solemates Socks Co.\"'}"
     },
     "execution_count": 24,
     "metadata": {},
     "output_type": "execute_result"
    }
   ],
   "source": [
    "llm_chain = LLMChain(prompt=prompt_test, llm=llm)\n",
    "llm_chain.invoke(product)"
   ],
   "metadata": {
    "collapsed": false,
    "ExecuteTime": {
     "end_time": "2024-02-19T15:55:06.079694078Z",
     "start_time": "2024-02-19T15:55:05.356125757Z"
    }
   },
   "id": "9f4b1c8379def9b7",
   "execution_count": 24
  },
  {
   "cell_type": "markdown",
   "source": [
    "## Import Prompt"
   ],
   "metadata": {
    "collapsed": false
   },
   "id": "b39fccbc222cd06f"
  },
  {
   "cell_type": "code",
   "outputs": [],
   "source": [
    "with open(\"prompt_continuouseffects.txt\", \"r\") as file:\n",
    "    prompt_continuous_effects = file.read()"
   ],
   "metadata": {
    "collapsed": false,
    "ExecuteTime": {
     "end_time": "2024-02-21T12:44:09.106941672Z",
     "start_time": "2024-02-21T12:44:09.062427034Z"
    }
   },
   "id": "a848cd6d90e83b8e",
   "execution_count": 6
  },
  {
   "cell_type": "code",
   "outputs": [
    {
     "name": "stdout",
     "output_type": "stream",
     "text": [
      "\"\"\"\n",
      "You will get two cards from the cardgame Magic: the Gathering. {card1} and {card2} both have continuous effects. You need to determine which effect will have which impact on the game.\n",
      "You will follow these steps:\n",
      "\n",
      "1. Give the rulestexts from both cards.\n",
      "2. Check the official Magic: the Gathering rules.\n",
      "2a. Look up the complete paragraph 613: Interaction of contiuous effects.\n",
      "3. Determine whether the timestamp rule 613.7 occurs or the dependency rule 613.8\n",
      "4. Give your judging: Which effect have which impact on the game?\n",
      "5. Explain why you decided this way.\n",
      "5a. Quote the rule you used for your decision.\n",
      "\n",
      "\"\"\"\n"
     ]
    }
   ],
   "source": [
    "print(prompt_continuous_effects)"
   ],
   "metadata": {
    "collapsed": false,
    "ExecuteTime": {
     "end_time": "2024-02-21T12:44:10.947490424Z",
     "start_time": "2024-02-21T12:44:10.915402759Z"
    }
   },
   "id": "99e9447ced8582df",
   "execution_count": 7
  },
  {
   "cell_type": "markdown",
   "source": [
    "- create new LLM\n",
    "- load template"
   ],
   "metadata": {
    "collapsed": false
   },
   "id": "cd2d8fe25b5886d6"
  },
  {
   "cell_type": "code",
   "outputs": [],
   "source": [
    "llm = OpenAI(openai_api_key=openai_api_key)\n"
   ],
   "metadata": {
    "collapsed": false,
    "ExecuteTime": {
     "end_time": "2024-02-21T13:01:57.552689766Z",
     "start_time": "2024-02-21T13:01:57.432309694Z"
    }
   },
   "id": "f28c13e80fd1b991",
   "execution_count": 14
  },
  {
   "cell_type": "code",
   "outputs": [],
   "source": [
    "prompt_template = PromptTemplate.from_template(prompt_continuous_effects)"
   ],
   "metadata": {
    "collapsed": false,
    "ExecuteTime": {
     "end_time": "2024-02-21T13:10:57.184132009Z",
     "start_time": "2024-02-21T13:10:57.139383105Z"
    }
   },
   "id": "7dde561b9046820b",
   "execution_count": 20
  },
  {
   "cell_type": "markdown",
   "source": [
    "## Case 1: Blood Moon vs. Urborg, Tomb of Yawgmoth\n",
    "- Give Cardnames in prompt\n",
    "- LCEL for prompt variables"
   ],
   "metadata": {
    "collapsed": false
   },
   "id": "6addb1af7246dfa4"
  },
  {
   "cell_type": "code",
   "outputs": [],
   "source": [
    "\n",
    "prompt_val = prompt_template.invoke({\"card1\": \"Blood Moon\", \"card2\": \"Tomb of Yawgmoth\"})"
   ],
   "metadata": {
    "collapsed": false,
    "ExecuteTime": {
     "end_time": "2024-02-21T12:58:23.331553085Z",
     "start_time": "2024-02-21T12:58:23.289299307Z"
    }
   },
   "id": "bc169914651200dc",
   "execution_count": 13
  },
  {
   "cell_type": "code",
   "outputs": [
    {
     "data": {
      "text/plain": "'\\n\\n1. Blood Moon: Nonbasic lands are Mountains.\\nTomb of Yawgmoth: Each swamp is a 1/1 black and Phyrexian creature with \"Sacrifice this creature: Add {B}.\"\\n\\n2. According to the official Magic: the Gathering rules, continuous effects are those that continuously change the characteristics of objects, spells, or players. They are often created by the resolution of spells or abilities, and last until they are overwritten by a new continuous effect or the game ends. These effects can be applied in layers, with the most recently created effect being applied last.\\n\\n2a. In paragraph 613: Interaction of continuous effects, it is stated that if multiple continuous effects are applied to the same object, they are applied in timestamp order, meaning the most recently created effect is applied last.\\n\\n3. In this case, both Blood Moon and Tomb of Yawgmoth have continuous effects that affect the same game object (lands). Based on the timestamp rule in 613.7, the most recently created effect will be applied last.\\n\\n4. Based on the timestamp rule, the effect of Tomb of Yawgmoth will have a greater impact on the game as it was the most recently created effect and will therefore be the last one'"
     },
     "execution_count": 10,
     "metadata": {},
     "output_type": "execute_result"
    }
   ],
   "source": [
    "\n",
    "llm.invoke(prompt_val)"
   ],
   "metadata": {
    "collapsed": false,
    "ExecuteTime": {
     "end_time": "2024-02-21T12:45:33.338021293Z",
     "start_time": "2024-02-21T12:45:30.067296886Z"
    }
   },
   "id": "7d40881a72ff1bff",
   "execution_count": 10
  },
  {
   "cell_type": "markdown",
   "source": [
    "## Case 2: Opalescence vs Humility"
   ],
   "metadata": {
    "collapsed": false
   },
   "id": "c57b807767da13de"
  },
  {
   "cell_type": "code",
   "outputs": [],
   "source": [
    "prompt_val = prompt_template.invoke({\"card1\": \"Opalescence\", \"card2\": \"Humility\"})"
   ],
   "metadata": {
    "collapsed": false,
    "ExecuteTime": {
     "end_time": "2024-02-21T13:11:01.788386525Z",
     "start_time": "2024-02-21T13:11:01.772311127Z"
    }
   },
   "id": "1ec320d1a301abb1",
   "execution_count": 21
  },
  {
   "cell_type": "code",
   "outputs": [
    {
     "data": {
      "text/plain": "\"\\n\\n1. Opalescence - Each other non-Aura enchantment is a creature in addition to its other types and has base power and base toughness each equal to its converted mana cost.\\n\\nHumility - All creatures lose all abilities and have base power and toughness 1/1.\\n\\n2. According to the official Magic: the Gathering rules, continuous effects are those that continuously change the characteristics of objects or players. These effects can come from various sources, such as spells, abilities, and game rules.\\n\\n2a. In paragraph 613, the rules explain how multiple continuous effects interact with each other. It states that if two or more effects modify the same characteristic of an object, the one with the most recent timestamp is the one that applies.\\n\\n3. In this case, the timestamp rule 613.7 would apply. This is because both Opalescence and Humility have continuous effects that modify the same characteristic of creatures - their power and toughness. However, since Opalescence's effect has a more recent timestamp than Humility's, it would be the one that applies.\\n\\n4. My judging would be that all creatures would have their power and toughness equal to their converted mana cost, as per Opalescence's effect.\\n\\n5. I decided this way because the\""
     },
     "execution_count": 22,
     "metadata": {},
     "output_type": "execute_result"
    }
   ],
   "source": [
    "llm.invoke(prompt_val)"
   ],
   "metadata": {
    "collapsed": false,
    "ExecuteTime": {
     "end_time": "2024-02-21T13:11:06.477162329Z",
     "start_time": "2024-02-21T13:11:03.187731911Z"
    }
   },
   "id": "f3e3dccbec44dbe1",
   "execution_count": 22
  },
  {
   "cell_type": "code",
   "outputs": [],
   "source": [
    "prompt_val = prompt_template.invoke({\"card1\": \"Humility\", \"card2\": \"Opalescence\"})"
   ],
   "metadata": {
    "collapsed": false,
    "ExecuteTime": {
     "end_time": "2024-02-21T13:12:33.903054845Z",
     "start_time": "2024-02-21T13:12:33.886266143Z"
    }
   },
   "id": "16bc77a87edbb38f",
   "execution_count": 23
  },
  {
   "cell_type": "code",
   "outputs": [
    {
     "data": {
      "text/plain": "'\\n\\n1. Humility: All creatures lose all abilities and have base power and toughness 1/1.\\nOpalescence: Each other non-Aura enchantment is a creature in addition to its other types and has base power and toughness each equal to its converted mana cost.\\n\\n2. Rule 613: Interaction of Continuous Effects\\n613.1. The continuous effects of an object are determined by the text of that object and may be modified by other continuous effects. \\n613.2. Within layer 1, continuous effects are applied in a series of sublayers in the order described below. Within each sublayer, apply effects in timestamp order (see rule 613.7). Note that dependency may alter the order in which effects are applied within a sublayer. \\n613.7. Within a sublayer or within an object, determine the timestamp first, then apply effects in timestamp order. Within each timestamp, apply effects in a series of sublayers in the order described above. \\n613.8. Dependency may alter the order in which continuous effects are applied (see rule 613.9). \\n613.9. Some continuous effects are applied in layered order. In this case, any parts of the effect that generate dependencies are applied first, then the parts'"
     },
     "execution_count": 24,
     "metadata": {},
     "output_type": "execute_result"
    }
   ],
   "source": [
    "llm.invoke(prompt_val)"
   ],
   "metadata": {
    "collapsed": false,
    "ExecuteTime": {
     "end_time": "2024-02-21T13:12:37.974977186Z",
     "start_time": "2024-02-21T13:12:34.786204050Z"
    }
   },
   "id": "cdc9eea0e98ce05",
   "execution_count": 24
  },
  {
   "cell_type": "code",
   "outputs": [],
   "source": [],
   "metadata": {
    "collapsed": false
   },
   "id": "c3b07e2f78f9618c"
  }
 ],
 "metadata": {
  "kernelspec": {
   "display_name": "Python 3",
   "language": "python",
   "name": "python3"
  },
  "language_info": {
   "codemirror_mode": {
    "name": "ipython",
    "version": 2
   },
   "file_extension": ".py",
   "mimetype": "text/x-python",
   "name": "python",
   "nbconvert_exporter": "python",
   "pygments_lexer": "ipython2",
   "version": "2.7.6"
  }
 },
 "nbformat": 4,
 "nbformat_minor": 5
}
