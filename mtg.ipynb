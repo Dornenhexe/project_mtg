{
 "cells": [
  {
   "cell_type": "code",
   "execution_count": 1,
   "id": "initial_id",
   "metadata": {
    "collapsed": true,
    "ExecuteTime": {
     "end_time": "2024-03-04T14:43:09.434493Z",
     "start_time": "2024-03-04T14:43:07.370629Z"
    }
   },
   "outputs": [],
   "source": [
    "import requests\n",
    "import json\n",
    "\n",
    "from pathlib import Path\n",
    "from pprint import pprint\n",
    "from datetime import datetime\n",
    "\n",
    "from openai import OpenAI\n",
    "from langchain_openai import OpenAI, ChatOpenAI, OpenAIEmbeddings\n",
    "from langchain.prompts import PromptTemplate, ChatPromptTemplate\n",
    "from langchain.chains import LLMChain\n",
    "\n",
    "from langchain_community.document_loaders import TextLoader\n",
    "from langchain.text_splitter import RecursiveCharacterTextSplitter\n",
    "from langchain_community.vectorstores import Chroma\n",
    "from langchain_core.runnables import RunnablePassthrough\n",
    "from langchain_core.output_parsers import StrOutputParser\n"
   ]
  },
  {
   "cell_type": "code",
   "execution_count": 2,
   "outputs": [],
   "source": [
    "import os\n",
    "from dotenv import load_dotenv"
   ],
   "metadata": {
    "collapsed": false,
    "ExecuteTime": {
     "end_time": "2024-03-04T14:43:10.587069Z",
     "start_time": "2024-03-04T14:43:10.574215Z"
    }
   },
   "id": "71960520b40c6440"
  },
  {
   "cell_type": "code",
   "execution_count": 3,
   "outputs": [],
   "source": [
    "load_dotenv()\n",
    "openai_api_key = os.environ.get(\"OPENAI_API_KEY\")"
   ],
   "metadata": {
    "collapsed": false,
    "ExecuteTime": {
     "end_time": "2024-03-04T14:43:11.688025Z",
     "start_time": "2024-03-04T14:43:11.683082Z"
    }
   },
   "id": "a404e15cfa73ae92"
  },
  {
   "cell_type": "markdown",
   "source": [
    "## Prompt\n",
    "- load prompt\n",
    "- load template with prompt"
   ],
   "metadata": {
    "collapsed": false
   },
   "id": "b39fccbc222cd06f"
  },
  {
   "cell_type": "code",
   "outputs": [
    {
     "name": "stdout",
     "output_type": "stream",
     "text": [
      "\"\"\"\n",
      "You will get two cards from the cardgame Magic: the Gathering. {card1} and {card2} both have continuous effects.\n",
      "Use the {rules_db} as context for your decision.\n",
      "You will get a {question} about two cards and give a judging regarding two contradicting continuous effects.\n",
      "Make sure your judging, explanation und quoting of the rules don't contradict each other. If you make a decision for one rule, you have to stick with it.\n",
      "\n",
      "You will follow these steps:\n",
      "\n",
      "1. Give the oracle texts from both cards.\n",
      "2. Decide which rule is fitting in the case: Timestamp (613.1 to 613.7) or Dependency (613.8).\n",
      "2a. If you choose Timestamp, you can assume that {card1} is played first and has the earlier timestamp, while {card2} is played second and has the later timestamp.\n",
      "2b. If you choose Timestamp, determine the layer on which the effects of the cards are applied. Layers are defined in 613.1 in the {rules_db}.\n",
      "3. Quote the rule you think would apply to the given case of {card1} and {card2}.\n",
      "4. Explain why you would apply the rule.\n",
      "5. Give your judging: The continuous effect of which card is applied in game: {card1} or {card2}?\n",
      "\n",
      "\"\"\"\n"
     ]
    }
   ],
   "source": [
    "with open(\"prompt_continuouseffects.txt\", \"r\") as file:\n",
    "    prompt_continuous_effects = file.read()\n",
    "print(prompt_continuous_effects)\n",
    "\n",
    "prompt_template = PromptTemplate.from_template(prompt_continuous_effects)\n",
    "#prompt_template = ChatPromptTemplate.from_template(prompt_continuous_effects)"
   ],
   "metadata": {
    "collapsed": false,
    "ExecuteTime": {
     "end_time": "2024-03-04T15:56:59.771530Z",
     "start_time": "2024-03-04T15:56:59.765706Z"
    }
   },
   "id": "a848cd6d90e83b8e",
   "execution_count": 130
  },
  {
   "cell_type": "markdown",
   "source": [
    "## RAG\n",
    "= Retrieved Augmented Generation\n",
    "- ChatGPT's knowlegde of the rules is from January 2022: for current state the rulebook needs to be retrieved and passed to the LLM\n",
    "- this data can provide context for the specific questions\n",
    "### Loader\n",
    "- simple loader to load .txt data: complete rule book from Magic: The Gathering"
   ],
   "metadata": {
    "collapsed": false
   },
   "id": "3b59c02d1d84e5f6"
  },
  {
   "cell_type": "code",
   "outputs": [],
   "source": [
    "#loader = TextLoader(\"./data/rules_shortened.txt\")\n",
    "loader = TextLoader(\"./data/rules.txt\")\n",
    "rules_doc = loader.load()"
   ],
   "metadata": {
    "collapsed": false,
    "ExecuteTime": {
     "end_time": "2024-03-04T15:27:55.104125Z",
     "start_time": "2024-03-04T15:27:55.097624Z"
    }
   },
   "id": "27f00bbe91b18e9",
   "execution_count": 71
  },
  {
   "cell_type": "markdown",
   "source": [
    "### Splitter\n",
    "- splitting the text into smaller chunks\n",
    "- this text splitter splits text recursively by characters: [\"\\n\\n\", \"\\n\", \" \", \"\"], so first paragraphs, then sentences, then words\n",
    "- keeps semantically related pieces together as long as possible"
   ],
   "metadata": {
    "collapsed": false
   },
   "id": "90397fedb75ce76f"
  },
  {
   "cell_type": "code",
   "outputs": [],
   "source": [
    "text_splitter = RecursiveCharacterTextSplitter(chunk_size=1000, chunk_overlap=200)\n",
    "rules_splits = text_splitter.split_documents(rules_doc)\n",
    "# print(rules_splits[0])"
   ],
   "metadata": {
    "collapsed": false,
    "ExecuteTime": {
     "end_time": "2024-03-04T15:27:58.407649Z",
     "start_time": "2024-03-04T15:27:58.363248Z"
    }
   },
   "id": "b2ca6492e32cd42c",
   "execution_count": 72
  },
  {
   "cell_type": "markdown",
   "source": [
    "### Vector Store\n",
    "- for storage of the embeddings\n",
    "- embedding for capture semantic meaning of the text: that's how context is given for later question\n",
    "- OpenAI embedding for ChatGPT\n",
    "- Chroma as open-source embedding database\n",
    "- finally, construct a retriever out of vectorstore "
   ],
   "metadata": {
    "collapsed": false
   },
   "id": "359b9cfc6dddfddd"
  },
  {
   "cell_type": "code",
   "outputs": [],
   "source": [
    "rules_db = Chroma.from_documents(documents=rules_splits, embedding=OpenAIEmbeddings())\n",
    "retriever_rules = rules_db.as_retriever()"
   ],
   "metadata": {
    "collapsed": false,
    "ExecuteTime": {
     "end_time": "2024-03-04T15:28:17.745717Z",
     "start_time": "2024-03-04T15:28:02.034938Z"
    }
   },
   "id": "afb3d85ff7036f43",
   "execution_count": 73
  },
  {
   "cell_type": "markdown",
   "source": [
    "- create new LLM: temperature 0 for more consistent, non-creative and therefor comparable output"
   ],
   "metadata": {
    "collapsed": false
   },
   "id": "cd2d8fe25b5886d6"
  },
  {
   "cell_type": "code",
   "outputs": [],
   "source": [
    "# llm = OpenAI(temperature=0, openai_api_key=openai_api_key)\n",
    "model = ChatOpenAI(temperature=0, openai_api_key=openai_api_key)"
   ],
   "metadata": {
    "collapsed": false,
    "ExecuteTime": {
     "end_time": "2024-03-04T15:28:20.594284Z",
     "start_time": "2024-03-04T15:28:20.467663Z"
    }
   },
   "id": "f28c13e80fd1b991",
   "execution_count": 74
  },
  {
   "cell_type": "markdown",
   "source": [
    "## Case 1: Blood Moon vs. Urborg, Tomb of Yawgmoth\n",
    "- Get card information via scryfall.com and delete unnecessary data: \n",
    "- keep only: name, mana cost, converted mana cost, type, oracle text, colors, keywords"
   ],
   "metadata": {
    "collapsed": false
   },
   "id": "6addb1af7246dfa4"
  },
  {
   "cell_type": "code",
   "outputs": [
    {
     "name": "stdout",
     "output_type": "stream",
     "text": [
      "{'name': 'Urborg, Tomb of Yawgmoth', 'mana_cost': '', 'cmc': 0.0, 'type_line': 'Legendary Land', 'oracle_text': 'Each land is a Swamp in addition to its other land types.', 'colors': [], 'keywords': [], 'produced_mana': ['B']}\n"
     ]
    }
   ],
   "source": [
    "card1 = \"Urborg, Tomb of Yawgmoth\"\n",
    "response = requests.get(f'https://api.scryfall.com/cards/named?exact={card1} ', \n",
    "                 headers={'Accept': 'application/json'})\n",
    "if response.status_code == 200:\n",
    "    # Parse the JSON response into a Python dictionary to delete keywords\n",
    "    data = response.json()\n",
    "    keywords = [\"object\", \"id\", \"oracle_id\", \"mtgo_foil_id\", \"rarity\", \"color_identity\", \"penny_rank\", \"multiverse_ids\", \"mtgo_id\", \"tcgplayer_id\", \"cardmarket_id\", \"lang\", \"released_at\", \"uri\", \"scryfall_uri\", \"layout\", \"frame_effects\", \"highres_image\", \"image_status\", \"image_uris\", \"legalities\", \"games\", \"reserved\", \"foil\", \"nonfoil\", \"finishes\", \"oversized\", \"promo\", \"reprint\", \"variation\", \"set_id\", \"set\", \"set_name\", \"set_type\", \"set_uri\", \"set_search_uri\", \"scryfall_set_uri\", \"rulings_uri\", \"prints_search_uri\", \"collector_number\", \"digital\", \"flavor_text\", \"card_back_id\", \"artist\", \"artist_ids\", \"illustration_id\", \"border_color\", \"frame\", \"security_stamp\", \"full_art\", \"textless\", \"booster\", \"story_spotlight\", \"edhrec_rank\", \"preview\", \"related_uris\", \"prices\", \"tcgplayer_infinite_articles\", \"tcgplayer_infinite_decks\", \"edhrec\", \"purchase_uris\", \"cardmarket\", \"cardhoarder\"]\n",
    "    for keyword in keywords:\n",
    "        if keyword in data:\n",
    "            del data[keyword]\n",
    "    \n",
    "    clean_json = json.dumps(data)\n",
    "    # convert into json dict & save:\n",
    "    card1 = json.loads(clean_json)\n",
    "    with open('./data/card1.json', 'w') as f:\n",
    "        json.dump(card1, f)\n",
    "    print(card1)\n"
   ],
   "metadata": {
    "collapsed": false,
    "ExecuteTime": {
     "end_time": "2024-03-04T15:57:08.585312Z",
     "start_time": "2024-03-04T15:57:08.223087Z"
    }
   },
   "id": "eb35d55ab5881fae",
   "execution_count": 131
  },
  {
   "cell_type": "code",
   "outputs": [
    {
     "name": "stdout",
     "output_type": "stream",
     "text": [
      "Blood Moon\n",
      "Blood Moon\n",
      "{'name': 'Blood Moon', 'mana_cost': '{2}{R}', 'cmc': 3.0, 'type_line': 'Enchantment', 'oracle_text': 'Nonbasic lands are Mountains.', 'colors': ['R'], 'keywords': []}\n"
     ]
    }
   ],
   "source": [
    "card2 = \"Blood Moon\"\n",
    "response = requests.get(f'https://api.scryfall.com/cards/named?exact={card2} ', \n",
    "                 headers={'Accept': 'application/json'})\n",
    "if response.status_code == 200:\n",
    "    # Parse the JSON response into a Python dictionary to delete keywords\n",
    "    data = response.json()\n",
    "    print(card2)\n",
    "    print(card2)\n",
    "    keywords = [\"object\", \"id\", \"oracle_id\", \"mtgo_foil_id\", \"rarity\", \"color_identity\", \"penny_rank\", \"multiverse_ids\", \"mtgo_id\", \"tcgplayer_id\", \"cardmarket_id\", \"lang\", \"released_at\", \"uri\", \"scryfall_uri\", \"layout\", \"frame_effects\", \"highres_image\", \"image_status\", \"image_uris\", \"legalities\", \"games\", \"reserved\", \"foil\", \"nonfoil\", \"finishes\", \"oversized\", \"promo\", \"reprint\", \"variation\", \"set_id\", \"set\", \"set_name\", \"set_type\", \"set_uri\", \"set_search_uri\", \"scryfall_set_uri\", \"rulings_uri\", \"prints_search_uri\", \"collector_number\", \"digital\", \"flavor_text\", \"card_back_id\", \"artist\", \"artist_ids\", \"illustration_id\", \"border_color\", \"frame\", \"security_stamp\", \"full_art\", \"textless\", \"booster\", \"story_spotlight\", \"edhrec_rank\", \"preview\", \"related_uris\", \"prices\", \"tcgplayer_infinite_articles\", \"tcgplayer_infinite_decks\", \"edhrec\", \"purchase_uris\", \"cardmarket\", \"cardhoarder\"]\n",
    "    for keyword in keywords:\n",
    "        if keyword in data:\n",
    "            del data[keyword]\n",
    "    \n",
    "    clean_json = json.dumps(data)\n",
    "    # convert into json dict & save:\n",
    "    card2 = json.loads(clean_json)\n",
    "    with open('./data/card2.json', 'w') as f:\n",
    "        json.dump(card2, f)\n",
    "    print(card2)"
   ],
   "metadata": {
    "collapsed": false,
    "ExecuteTime": {
     "end_time": "2024-03-04T15:57:09.633875Z",
     "start_time": "2024-03-04T15:57:09.463272Z"
    }
   },
   "id": "9ba51bbf6643a219",
   "execution_count": 132
  },
  {
   "cell_type": "code",
   "outputs": [],
   "source": [
    "# testing Prompt with input_variables as json\n",
    "prompt_template = ChatPromptTemplate.from_template(\n",
    "    template=prompt_continuous_effects,\n",
    "    partial_variables={\"card1\": card1, \"card2\": card2},\n",
    ")"
   ],
   "metadata": {
    "collapsed": false,
    "ExecuteTime": {
     "end_time": "2024-03-04T15:57:10.780361Z",
     "start_time": "2024-03-04T15:57:10.775631Z"
    }
   },
   "id": "3bc09f69eb503566",
   "execution_count": 133
  },
  {
   "cell_type": "markdown",
   "source": [
    "- Use Chatmodel instead of LLM: more possible token in prompt\n",
    "- Outputparser to parse message response from Chatmodel to str\n",
    "- check testcases.md to compare expected outcome with ChatGPT's answer"
   ],
   "metadata": {
    "collapsed": false
   },
   "id": "5c09b5958862406e"
  },
  {
   "cell_type": "code",
   "outputs": [
    {
     "name": "stdout",
     "output_type": "stream",
     "text": [
      "1. Oracle texts:\n",
      "- Urborg, Tomb of Yawgmoth: \"Each land is a Swamp in addition to its other land types.\"\n",
      "- Blood Moon: \"Nonbasic lands are Mountains.\"\n",
      "\n",
      "2. I would choose the Timestamp rule (613.1 to 613.7) for this case.\n",
      "\n",
      "3. Quoting the Timestamp rule (613.1 to 613.7):\n",
      "\"Two effects are affecting the same creature: one from an Aura that says 'Enchanted creature has flying' and one from an Aura that says 'Enchanted creature loses flying.' Neither of these depends on the other, since nothing changes what they affect or what they’re doing to it. Applying them in timestamp order means the one that was generated last 'wins.'\"\n",
      "\n",
      "4. Explanation:\n",
      "In this case, Urborg, Tomb of Yawgmoth and Blood Moon are both continuous effects that affect the type of lands in play. Since Urborg, Tomb of Yawgmoth was played first and Blood Moon was played second, according to the Timestamp rule, the effect of Blood Moon would override the effect of Urborg, Tomb of Yawgmoth.\n",
      "\n",
      "5. Judging:\n",
      "The continuous effect of Blood Moon, which turns nonbasic lands into Mountains, would be applied in the game.\n"
     ]
    }
   ],
   "source": [
    "chain = ({\"rules_db\": retriever_rules, \"question\": RunnablePassthrough()} | prompt_template | model | StrOutputParser())\n",
    "answer = chain.invoke(\"What is the outcome of two played cards with continuous effects from Magic: the Gathering?\")\n",
    "print(answer)"
   ],
   "metadata": {
    "collapsed": false,
    "ExecuteTime": {
     "end_time": "2024-03-04T15:57:23.033756Z",
     "start_time": "2024-03-04T15:57:16.593709Z"
    }
   },
   "id": "34c08b3114fab1dc",
   "execution_count": 134
  },
  {
   "cell_type": "markdown",
   "source": [
    "- saving the answers as .txt for comparison by date & time: "
   ],
   "metadata": {
    "collapsed": false
   },
   "id": "8ce46fd91e648ac5"
  },
  {
   "cell_type": "code",
   "outputs": [],
   "source": [
    "current_datetime = str(datetime.now().strftime(\"%Y-%m-%d %H-%M-%S\"))\n",
    "file_name = current_datetime+\".txt\"\n",
    "\n",
    "with open(f'./data/answers/{file_name}', 'w') as f:\n",
    "    f.write(answer)"
   ],
   "metadata": {
    "collapsed": false,
    "ExecuteTime": {
     "end_time": "2024-02-29T09:38:23.656538Z",
     "start_time": "2024-02-29T09:38:23.651124Z"
    }
   },
   "id": "3b3b487f00e9d942",
   "execution_count": 156
  },
  {
   "cell_type": "code",
   "outputs": [],
   "source": [
    "# cleanup\n",
    "rules_db.delete_collection()"
   ],
   "metadata": {
    "collapsed": false,
    "ExecuteTime": {
     "end_time": "2024-03-04T14:51:39.836703Z",
     "start_time": "2024-03-04T14:51:39.591677Z"
    }
   },
   "id": "1a87757a2c34e812",
   "execution_count": 22
  },
  {
   "cell_type": "markdown",
   "source": [
    "## Case 2a: Opalescence vs. Humility\n",
    "- timestamp rule determines the outcome: *Humility* is played last and it's effect overrides *Opalescence*"
   ],
   "metadata": {
    "collapsed": false
   },
   "id": "e36e3ada1a279f8d"
  },
  {
   "cell_type": "code",
   "outputs": [
    {
     "name": "stdout",
     "output_type": "stream",
     "text": [
      "{'name': 'Opalescence', 'mana_cost': '{2}{W}{W}', 'cmc': 4.0, 'type_line': 'Enchantment', 'oracle_text': 'Each other non-Aura enchantment is a creature in addition to its other types and has base power and base toughness each equal to its mana value.', 'colors': ['W'], 'keywords': []}\n"
     ]
    }
   ],
   "source": [
    "card1 = \"Opalescence\"\n",
    "response = requests.get(f'https://api.scryfall.com/cards/named?exact={card1} ', \n",
    "                 headers={'Accept': 'application/json'})\n",
    "if response.status_code == 200:\n",
    "    # Parse the JSON response into a Python dictionary to delete keywords\n",
    "    data = response.json()\n",
    "    keywords = [\"object\", \"id\", \"oracle_id\", \"mtgo_foil_id\", \"rarity\", \"color_identity\", \"penny_rank\", \"multiverse_ids\", \"mtgo_id\", \"tcgplayer_id\", \"cardmarket_id\", \"lang\", \"released_at\", \"uri\", \"scryfall_uri\", \"layout\", \"frame_effects\", \"highres_image\", \"image_status\", \"image_uris\", \"legalities\", \"games\", \"reserved\", \"foil\", \"nonfoil\", \"finishes\", \"oversized\", \"promo\", \"reprint\", \"variation\", \"set_id\", \"set\", \"set_name\", \"set_type\", \"set_uri\", \"set_search_uri\", \"scryfall_set_uri\", \"rulings_uri\", \"prints_search_uri\", \"collector_number\", \"digital\", \"flavor_text\", \"card_back_id\", \"artist\", \"artist_ids\", \"illustration_id\", \"border_color\", \"frame\", \"security_stamp\", \"full_art\", \"textless\", \"booster\", \"story_spotlight\", \"edhrec_rank\", \"preview\", \"related_uris\", \"prices\", \"tcgplayer_infinite_articles\", \"tcgplayer_infinite_decks\", \"edhrec\", \"purchase_uris\", \"cardmarket\", \"cardhoarder\"]\n",
    "    for keyword in keywords:\n",
    "        if keyword in data:\n",
    "            del data[keyword]\n",
    "    \n",
    "    clean_json = json.dumps(data)\n",
    "    # convert into json dict & save:\n",
    "    card1 = json.loads(clean_json)\n",
    "    with open('./data/card1.json', 'w') as f:\n",
    "        json.dump(card1, f)\n",
    "    print(card1)"
   ],
   "metadata": {
    "collapsed": false,
    "ExecuteTime": {
     "end_time": "2024-03-04T15:57:49.453644Z",
     "start_time": "2024-03-04T15:57:49.258090Z"
    }
   },
   "id": "3080d61e967ea42e",
   "execution_count": 135
  },
  {
   "cell_type": "code",
   "outputs": [
    {
     "name": "stdout",
     "output_type": "stream",
     "text": [
      "Humility\n",
      "{'name': 'Humility', 'mana_cost': '{2}{W}{W}', 'cmc': 4.0, 'type_line': 'Enchantment', 'oracle_text': 'All creatures lose all abilities and have base power and toughness 1/1.', 'colors': ['W'], 'keywords': []}\n"
     ]
    }
   ],
   "source": [
    "card2 = \"Humility\"\n",
    "response = requests.get(f'https://api.scryfall.com/cards/named?exact={card2} ', \n",
    "                 headers={'Accept': 'application/json'})\n",
    "if response.status_code == 200:\n",
    "    # Parse the JSON response into a Python dictionary to delete keywords\n",
    "    data = response.json()\n",
    "    print(card2)\n",
    "    keywords = [\"object\", \"id\", \"oracle_id\", \"mtgo_foil_id\", \"rarity\", \"color_identity\", \"penny_rank\", \"multiverse_ids\", \"mtgo_id\", \"tcgplayer_id\", \"cardmarket_id\", \"lang\", \"released_at\", \"uri\", \"scryfall_uri\", \"layout\", \"frame_effects\", \"highres_image\", \"image_status\", \"image_uris\", \"legalities\", \"games\", \"reserved\", \"foil\", \"nonfoil\", \"finishes\", \"oversized\", \"promo\", \"reprint\", \"variation\", \"set_id\", \"set\", \"set_name\", \"set_type\", \"set_uri\", \"set_search_uri\", \"scryfall_set_uri\", \"rulings_uri\", \"prints_search_uri\", \"collector_number\", \"digital\", \"flavor_text\", \"card_back_id\", \"artist\", \"artist_ids\", \"illustration_id\", \"border_color\", \"frame\", \"security_stamp\", \"full_art\", \"textless\", \"booster\", \"story_spotlight\", \"edhrec_rank\", \"preview\", \"related_uris\", \"prices\", \"tcgplayer_infinite_articles\", \"tcgplayer_infinite_decks\", \"edhrec\", \"purchase_uris\", \"cardmarket\", \"cardhoarder\"]\n",
    "    for keyword in keywords:\n",
    "        if keyword in data:\n",
    "            del data[keyword]\n",
    "    \n",
    "    clean_json = json.dumps(data)\n",
    "    # convert into json dict & save:\n",
    "    card2 = json.loads(clean_json)\n",
    "    with open('./data/card2.json', 'w') as f:\n",
    "        json.dump(card2, f)\n",
    "    print(card2)"
   ],
   "metadata": {
    "collapsed": false,
    "ExecuteTime": {
     "end_time": "2024-03-04T15:57:50.643895Z",
     "start_time": "2024-03-04T15:57:50.436539Z"
    }
   },
   "id": "940cb0f195a2860c",
   "execution_count": 136
  },
  {
   "cell_type": "code",
   "outputs": [],
   "source": [
    "prompt_template = ChatPromptTemplate.from_template(\n",
    "    template=prompt_continuous_effects,\n",
    "    partial_variables={\"card1\": card1, \"card2\": card2},\n",
    ")"
   ],
   "metadata": {
    "collapsed": false,
    "ExecuteTime": {
     "end_time": "2024-03-04T15:57:51.964638Z",
     "start_time": "2024-03-04T15:57:51.951879Z"
    }
   },
   "id": "8866f2edf7bb637d",
   "execution_count": 137
  },
  {
   "cell_type": "code",
   "outputs": [
    {
     "name": "stdout",
     "output_type": "stream",
     "text": [
      "1. Oracle text of Opalescence: \"Each other non-Aura enchantment is a creature in addition to its other types and has base power and base toughness each equal to its mana value.\"\n",
      "Oracle text of Humility: \"All creatures lose all abilities and have base power and toughness 1/1.\"\n",
      "\n",
      "2. I choose to apply the Timestamp rule (613.1 to 613.7) in this case.\n",
      "\n",
      "3. Quoting rule 613.9: \"One continuous effect can override another. Sometimes the results of one effect determine whether another effect applies or what another effect does. Applying them in timestamp order means the one that was generated last 'wins.'\"\n",
      "\n",
      "4. I would apply the Timestamp rule in this case because it determines the order in which continuous effects are applied based on when they were generated. This ensures consistency and fairness in resolving conflicting effects.\n",
      "\n",
      "5. Judging: In this scenario, the continuous effect of Humility would be applied in the game. Since Humility was played after Opalescence, its effect of making all creatures lose all abilities and have base power and toughness 1/1 would override the effect of Opalescence, which turns non-Aura enchantments into creatures with power and toughness equal to their mana value.\n"
     ]
    }
   ],
   "source": [
    "chain = ({\"rules_db\": retriever_rules, \"question\": RunnablePassthrough()} | prompt_template | model | StrOutputParser())\n",
    "answer = chain.invoke(\"What is the outcome of two played cards with continuous effects from Magic: the Gathering?\")\n",
    "print(answer)"
   ],
   "metadata": {
    "collapsed": false,
    "ExecuteTime": {
     "end_time": "2024-03-04T15:58:00.847052Z",
     "start_time": "2024-03-04T15:57:53.373731Z"
    }
   },
   "id": "b6b5a2e29d54be7b",
   "execution_count": 138
  },
  {
   "cell_type": "code",
   "outputs": [],
   "source": [
    "file_name = str(datetime.now().strftime(\"%Y-%m-%d %H-%M-%S\"))\n",
    "# file_name = current_datetime+\".txt\"\n",
    "\n",
    "with open(f'./data/answers/case2_{file_name}.txt', 'w') as f:\n",
    "    f.write(answer)"
   ],
   "metadata": {
    "collapsed": false,
    "ExecuteTime": {
     "end_time": "2024-03-04T15:46:06.931001Z",
     "start_time": "2024-03-04T15:46:06.925626Z"
    }
   },
   "id": "f4c911c5fff90359",
   "execution_count": 111
  },
  {
   "cell_type": "markdown",
   "source": [
    "## Case 2b: Humility vs. Opalescence \n",
    "- because timestamp is important here, testing the case with changed order"
   ],
   "metadata": {
    "collapsed": false
   },
   "id": "8505e1378aea73aa"
  },
  {
   "cell_type": "code",
   "outputs": [
    {
     "name": "stdout",
     "output_type": "stream",
     "text": [
      "{'name': 'Humility', 'mana_cost': '{2}{W}{W}', 'cmc': 4.0, 'type_line': 'Enchantment', 'oracle_text': 'All creatures lose all abilities and have base power and toughness 1/1.', 'colors': ['W'], 'keywords': []}\n"
     ]
    }
   ],
   "source": [
    "card1 = \"Humility\"\n",
    "response = requests.get(f'https://api.scryfall.com/cards/named?exact={card1} ', \n",
    "                 headers={'Accept': 'application/json'})\n",
    "if response.status_code == 200:\n",
    "    # Parse the JSON response into a Python dictionary to delete keywords\n",
    "    data = response.json()\n",
    "    keywords = [\"object\", \"id\", \"oracle_id\", \"mtgo_foil_id\", \"rarity\", \"color_identity\", \"penny_rank\", \"multiverse_ids\", \"mtgo_id\", \"tcgplayer_id\", \"cardmarket_id\", \"lang\", \"released_at\", \"uri\", \"scryfall_uri\", \"layout\", \"frame_effects\", \"highres_image\", \"image_status\", \"image_uris\", \"legalities\", \"games\", \"reserved\", \"foil\", \"nonfoil\", \"finishes\", \"oversized\", \"promo\", \"reprint\", \"variation\", \"set_id\", \"set\", \"set_name\", \"set_type\", \"set_uri\", \"set_search_uri\", \"scryfall_set_uri\", \"rulings_uri\", \"prints_search_uri\", \"collector_number\", \"digital\", \"flavor_text\", \"card_back_id\", \"artist\", \"artist_ids\", \"illustration_id\", \"border_color\", \"frame\", \"security_stamp\", \"full_art\", \"textless\", \"booster\", \"story_spotlight\", \"edhrec_rank\", \"preview\", \"related_uris\", \"prices\", \"tcgplayer_infinite_articles\", \"tcgplayer_infinite_decks\", \"edhrec\", \"purchase_uris\", \"cardmarket\", \"cardhoarder\"]\n",
    "    for keyword in keywords:\n",
    "        if keyword in data:\n",
    "            del data[keyword]\n",
    "    \n",
    "    clean_json = json.dumps(data)\n",
    "    # convert into json dict & save:\n",
    "    card1 = json.loads(clean_json)\n",
    "    with open('./data/card1.json', 'w') as f:\n",
    "        json.dump(card1, f)\n",
    "    print(card1)"
   ],
   "metadata": {
    "collapsed": false,
    "ExecuteTime": {
     "end_time": "2024-03-04T15:58:44.563484Z",
     "start_time": "2024-03-04T15:58:44.336035Z"
    }
   },
   "id": "57c164860151737e",
   "execution_count": 139
  },
  {
   "cell_type": "code",
   "outputs": [
    {
     "name": "stdout",
     "output_type": "stream",
     "text": [
      "Opalescence\n",
      "{'name': 'Opalescence', 'mana_cost': '{2}{W}{W}', 'cmc': 4.0, 'type_line': 'Enchantment', 'oracle_text': 'Each other non-Aura enchantment is a creature in addition to its other types and has base power and base toughness each equal to its mana value.', 'colors': ['W'], 'keywords': []}\n"
     ]
    }
   ],
   "source": [
    "card2 = \"Opalescence\"\n",
    "response = requests.get(f'https://api.scryfall.com/cards/named?exact={card2} ', \n",
    "                 headers={'Accept': 'application/json'})\n",
    "if response.status_code == 200:\n",
    "    # Parse the JSON response into a Python dictionary to delete keywords\n",
    "    data = response.json()\n",
    "    print(card2)\n",
    "    keywords = [\"object\", \"id\", \"oracle_id\", \"mtgo_foil_id\", \"rarity\", \"color_identity\", \"penny_rank\", \"multiverse_ids\", \"mtgo_id\", \"tcgplayer_id\", \"cardmarket_id\", \"lang\", \"released_at\", \"uri\", \"scryfall_uri\", \"layout\", \"frame_effects\", \"highres_image\", \"image_status\", \"image_uris\", \"legalities\", \"games\", \"reserved\", \"foil\", \"nonfoil\", \"finishes\", \"oversized\", \"promo\", \"reprint\", \"variation\", \"set_id\", \"set\", \"set_name\", \"set_type\", \"set_uri\", \"set_search_uri\", \"scryfall_set_uri\", \"rulings_uri\", \"prints_search_uri\", \"collector_number\", \"digital\", \"flavor_text\", \"card_back_id\", \"artist\", \"artist_ids\", \"illustration_id\", \"border_color\", \"frame\", \"security_stamp\", \"full_art\", \"textless\", \"booster\", \"story_spotlight\", \"edhrec_rank\", \"preview\", \"related_uris\", \"prices\", \"tcgplayer_infinite_articles\", \"tcgplayer_infinite_decks\", \"edhrec\", \"purchase_uris\", \"cardmarket\", \"cardhoarder\"]\n",
    "    for keyword in keywords:\n",
    "        if keyword in data:\n",
    "            del data[keyword]\n",
    "    \n",
    "    clean_json = json.dumps(data)\n",
    "    # convert into json dict & save:\n",
    "    card2 = json.loads(clean_json)\n",
    "    with open('./data/card2.json', 'w') as f:\n",
    "        json.dump(card2, f)\n",
    "    print(card2)"
   ],
   "metadata": {
    "collapsed": false,
    "ExecuteTime": {
     "end_time": "2024-03-04T15:58:45.635891Z",
     "start_time": "2024-03-04T15:58:45.472250Z"
    }
   },
   "id": "160ba840414c3b8f",
   "execution_count": 140
  },
  {
   "cell_type": "code",
   "outputs": [],
   "source": [
    "prompt_template = ChatPromptTemplate.from_template(\n",
    "    template=prompt_continuous_effects,\n",
    "    partial_variables={\"card1\": card1, \"card2\": card2},\n",
    ")"
   ],
   "metadata": {
    "collapsed": false,
    "ExecuteTime": {
     "end_time": "2024-03-04T15:58:47.690685Z",
     "start_time": "2024-03-04T15:58:47.685871Z"
    }
   },
   "id": "7389ad16be09ca26",
   "execution_count": 141
  },
  {
   "cell_type": "code",
   "outputs": [
    {
     "name": "stdout",
     "output_type": "stream",
     "text": [
      "1. Oracle texts:\n",
      "- Humility: \"All creatures lose all abilities and have base power and toughness 1/1.\"\n",
      "- Opalescence: \"Each other non-Aura enchantment is a creature in addition to its other types and has base power and base toughness each equal to its mana value.\"\n",
      "\n",
      "2. I choose to apply the Timestamp rule (613.1 to 613.7) in this case.\n",
      "\n",
      "3. Quoting the rule:\n",
      "- From Document(page_content='613.9. One continuous effect can override another. Sometimes the results of one effect determine whether another effect applies or what another effect does. Example: Two effects are affecting the same creature: one from an Aura that says “Enchanted creature has flying” and one from an Aura that says “Enchanted creature loses flying.” Neither of these depends on the other, since nothing changes what they affect or what they’re doing to it. Applying them in timestamp order means the one that was generated last “wins.” The same process would be followed, and the same result reached, if either of the effects had a duration (such as “Target creature loses flying until end of turn”) or came from a non-Aura source (such as “All creatures lose flying”). Example: One effect reads, “White creatures get +1/+1,” and another reads, “Enchanted creature is white.” The enchanted creature gets +1/+1 from the first effect, regardless of its previous color.', metadata={'source': './data/rules.txt'})\n",
      "\n",
      "4. Explanation:\n",
      "- The Timestamp rule states that when two continuous effects are in conflict, the one that was generated last \"wins.\" In this case, Humility was played first and then Opalescence was played, so Opalescence has the later timestamp.\n",
      "\n",
      "5. Judging:\n",
      "- The continuous effect of Opalescence, which turns each other non-Aura enchantment into a creature with power and toughness equal to its mana value, would be applied in the game.\n"
     ]
    }
   ],
   "source": [
    "chain = ({\"rules_db\": retriever_rules, \"question\": RunnablePassthrough()} | prompt_template | model | StrOutputParser())\n",
    "answer = chain.invoke(\"What is the outcome of two played cards with continuous effects from Magic: the Gathering?\")\n",
    "print(answer)"
   ],
   "metadata": {
    "collapsed": false,
    "ExecuteTime": {
     "end_time": "2024-03-04T15:58:59.703905Z",
     "start_time": "2024-03-04T15:58:48.995065Z"
    }
   },
   "id": "b2fa02271b9c4fa3",
   "execution_count": 142
  },
  {
   "cell_type": "code",
   "outputs": [],
   "source": [
    "file_name = str(datetime.now().strftime(\"%Y-%m-%d %H-%M-%S\"))\n",
    "# file_name = current_datetime+\".txt\"\n",
    "\n",
    "with open(f'./data/answers/case2_{file_name}.txt', 'w') as f:\n",
    "    f.write(answer)"
   ],
   "metadata": {
    "collapsed": false,
    "ExecuteTime": {
     "end_time": "2024-03-04T15:59:48.675568Z",
     "start_time": "2024-03-04T15:59:48.670805Z"
    }
   },
   "id": "b9bb8f9747e17ec",
   "execution_count": 143
  },
  {
   "cell_type": "code",
   "outputs": [],
   "source": [
    "# cleanup\n",
    "rules_db.delete_collection()"
   ],
   "metadata": {
    "collapsed": false,
    "ExecuteTime": {
     "end_time": "2024-03-04T16:00:54.830639Z",
     "start_time": "2024-03-04T16:00:54.604429Z"
    }
   },
   "id": "ccc24138ef06e935",
   "execution_count": 144
  }
 ],
 "metadata": {
  "kernelspec": {
   "display_name": "Python 3",
   "language": "python",
   "name": "python3"
  },
  "language_info": {
   "codemirror_mode": {
    "name": "ipython",
    "version": 2
   },
   "file_extension": ".py",
   "mimetype": "text/x-python",
   "name": "python",
   "nbconvert_exporter": "python",
   "pygments_lexer": "ipython2",
   "version": "2.7.6"
  }
 },
 "nbformat": 4,
 "nbformat_minor": 5
}
