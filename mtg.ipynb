{
 "cells": [
  {
   "cell_type": "code",
   "execution_count": 181,
   "id": "initial_id",
   "metadata": {
    "collapsed": true,
    "ExecuteTime": {
     "end_time": "2024-03-04T13:51:17.356415Z",
     "start_time": "2024-03-04T13:51:17.351074Z"
    }
   },
   "outputs": [],
   "source": [
    "import requests\n",
    "import json\n",
    "\n",
    "from pathlib import Path\n",
    "from pprint import pprint\n",
    "from datetime import datetime\n",
    "\n",
    "from openai import OpenAI\n",
    "from langchain_openai import OpenAI, ChatOpenAI, OpenAIEmbeddings\n",
    "from langchain.prompts import PromptTemplate, ChatPromptTemplate\n",
    "from langchain.chains import LLMChain\n",
    "\n",
    "from langchain_community.document_loaders import TextLoader\n",
    "from langchain.text_splitter import RecursiveCharacterTextSplitter\n",
    "from langchain_community.vectorstores import Chroma\n",
    "from langchain_core.runnables import RunnablePassthrough\n",
    "from langchain_core.output_parsers import StrOutputParser\n"
   ]
  },
  {
   "cell_type": "code",
   "execution_count": 182,
   "outputs": [],
   "source": [
    "import os\n",
    "from dotenv import load_dotenv"
   ],
   "metadata": {
    "collapsed": false,
    "ExecuteTime": {
     "end_time": "2024-03-04T13:51:18.392816Z",
     "start_time": "2024-03-04T13:51:18.387669Z"
    }
   },
   "id": "71960520b40c6440"
  },
  {
   "cell_type": "code",
   "execution_count": 183,
   "outputs": [],
   "source": [
    "load_dotenv()\n",
    "openai_api_key = os.environ.get(\"OPENAI_API_KEY\")"
   ],
   "metadata": {
    "collapsed": false,
    "ExecuteTime": {
     "end_time": "2024-03-04T13:51:19.397678Z",
     "start_time": "2024-03-04T13:51:19.393612Z"
    }
   },
   "id": "a404e15cfa73ae92"
  },
  {
   "cell_type": "markdown",
   "source": [
    "## Import Prompt"
   ],
   "metadata": {
    "collapsed": false
   },
   "id": "b39fccbc222cd06f"
  },
  {
   "cell_type": "code",
   "outputs": [],
   "source": [
    "with open(\"prompt_continuouseffects.txt\", \"r\") as file:\n",
    "    prompt_continuous_effects = file.read()\n",
    "# print(prompt_continuous_effects)"
   ],
   "metadata": {
    "collapsed": false,
    "ExecuteTime": {
     "end_time": "2024-03-04T13:51:21.346379Z",
     "start_time": "2024-03-04T13:51:21.343099Z"
    }
   },
   "id": "a848cd6d90e83b8e",
   "execution_count": 184
  },
  {
   "cell_type": "markdown",
   "source": [
    "## RAG\n",
    "= Retrieved Augmented Generation\n",
    "- ChatGPT's knowlegde of the rules is from January 2022: for current state the rulebook needs to be retrieved and passed to the LLM\n",
    "- this data can provide context for the specific questions\n",
    "### Loader\n",
    "- simple loader to load .txt data: complete rule book from Magic: The Gathering"
   ],
   "metadata": {
    "collapsed": false
   },
   "id": "3b59c02d1d84e5f6"
  },
  {
   "cell_type": "code",
   "outputs": [],
   "source": [
    "loader = TextLoader(\"./data/rules_shortened.txt\")\n",
    "#loader = TextLoader(\"./data/rules.txt\")\n",
    "rules_doc = loader.load()"
   ],
   "metadata": {
    "collapsed": false,
    "ExecuteTime": {
     "end_time": "2024-03-04T13:51:23.811843Z",
     "start_time": "2024-03-04T13:51:23.799285Z"
    }
   },
   "id": "27f00bbe91b18e9",
   "execution_count": 185
  },
  {
   "cell_type": "markdown",
   "source": [
    "### Splitter\n",
    "- splitting the text into smaller chunks\n",
    "- this text splitter splits text recursively by characters: [\"\\n\\n\", \"\\n\", \" \", \"\"], so first paragraphs, then sentences, then words\n",
    "- keeps semantically related pieces together as long as possible"
   ],
   "metadata": {
    "collapsed": false
   },
   "id": "90397fedb75ce76f"
  },
  {
   "cell_type": "code",
   "outputs": [],
   "source": [
    "text_splitter = RecursiveCharacterTextSplitter(chunk_size=1000, chunk_overlap=200)\n",
    "rules_splits = text_splitter.split_documents(rules_doc)\n",
    "# print(rules_splits[0])"
   ],
   "metadata": {
    "collapsed": false,
    "ExecuteTime": {
     "end_time": "2024-03-04T13:51:25.836646Z",
     "start_time": "2024-03-04T13:51:25.831703Z"
    }
   },
   "id": "b2ca6492e32cd42c",
   "execution_count": 186
  },
  {
   "cell_type": "markdown",
   "source": [
    "### Vector Store\n",
    "- for storage of the embeddings\n",
    "- embedding for capture semantic meaning of the text: that's how context is given for later question\n",
    "- OpenAI embedding for ChatGPT\n",
    "- Chroma as open-source embedding database\n",
    "- finally, construct a retriever out of vectorstore "
   ],
   "metadata": {
    "collapsed": false
   },
   "id": "359b9cfc6dddfddd"
  },
  {
   "cell_type": "code",
   "outputs": [],
   "source": [
    "rules_db = Chroma.from_documents(documents=rules_splits, embedding=OpenAIEmbeddings())\n",
    "retriever_rules = rules_db.as_retriever()"
   ],
   "metadata": {
    "collapsed": false,
    "ExecuteTime": {
     "end_time": "2024-03-04T13:51:29.109864Z",
     "start_time": "2024-03-04T13:51:27.760909Z"
    }
   },
   "id": "afb3d85ff7036f43",
   "execution_count": 187
  },
  {
   "cell_type": "markdown",
   "source": [
    "- create new LLM: temperature 0 for more consistent, non-creative and therefor comparable output\n",
    "- load template with prompt"
   ],
   "metadata": {
    "collapsed": false
   },
   "id": "cd2d8fe25b5886d6"
  },
  {
   "cell_type": "code",
   "outputs": [],
   "source": [
    "# llm = OpenAI(temperature=0, openai_api_key=openai_api_key)\n",
    "model = ChatOpenAI(temperature=0, openai_api_key=openai_api_key)\n"
   ],
   "metadata": {
    "collapsed": false,
    "ExecuteTime": {
     "end_time": "2024-03-04T13:51:37.606457Z",
     "start_time": "2024-03-04T13:51:37.439869Z"
    }
   },
   "id": "f28c13e80fd1b991",
   "execution_count": 188
  },
  {
   "cell_type": "code",
   "outputs": [],
   "source": [
    "# prompt_template = PromptTemplate.from_template(prompt_continuous_effects)\n",
    "prompt_template = ChatPromptTemplate.from_template(prompt_continuous_effects)"
   ],
   "metadata": {
    "collapsed": false,
    "ExecuteTime": {
     "end_time": "2024-03-04T13:51:39.909155Z",
     "start_time": "2024-03-04T13:51:39.904093Z"
    }
   },
   "id": "7dde561b9046820b",
   "execution_count": 189
  },
  {
   "cell_type": "markdown",
   "source": [
    "## Case 1: Blood Moon vs. Urborg, Tomb of Yawgmoth\n",
    "- Get card information via scryfall.com and delete unnecessary data: \n",
    "- keep only: name, mana cost, converted mana cost, type, oracle text, colors, keywords"
   ],
   "metadata": {
    "collapsed": false
   },
   "id": "6addb1af7246dfa4"
  },
  {
   "cell_type": "code",
   "outputs": [
    {
     "name": "stdout",
     "output_type": "stream",
     "text": [
      "{'name': 'Blood Moon', 'mana_cost': '{2}{R}', 'cmc': 3.0, 'type_line': 'Enchantment', 'oracle_text': 'Nonbasic lands are Mountains.', 'colors': ['R'], 'keywords': []}\n"
     ]
    }
   ],
   "source": [
    "card1 = \"Blood Moon\"\n",
    "response = requests.get(f'https://api.scryfall.com/cards/named?exact={card1} ', \n",
    "                 headers={'Accept': 'application/json'})\n",
    "if response.status_code == 200:\n",
    "    # Parse the JSON response into a Python dictionary to delete keywords\n",
    "    data = response.json()\n",
    "    keywords = [\"object\", \"id\", \"oracle_id\", \"mtgo_foil_id\", \"rarity\", \"color_identity\", \"penny_rank\", \"multiverse_ids\", \"mtgo_id\", \"tcgplayer_id\", \"cardmarket_id\", \"lang\", \"released_at\", \"uri\", \"scryfall_uri\", \"layout\", \"frame_effects\", \"highres_image\", \"image_status\", \"image_uris\", \"legalities\", \"games\", \"reserved\", \"foil\", \"nonfoil\", \"finishes\", \"oversized\", \"promo\", \"reprint\", \"variation\", \"set_id\", \"set\", \"set_name\", \"set_type\", \"set_uri\", \"set_search_uri\", \"scryfall_set_uri\", \"rulings_uri\", \"prints_search_uri\", \"collector_number\", \"digital\", \"flavor_text\", \"card_back_id\", \"artist\", \"artist_ids\", \"illustration_id\", \"border_color\", \"frame\", \"security_stamp\", \"full_art\", \"textless\", \"booster\", \"story_spotlight\", \"edhrec_rank\", \"preview\", \"related_uris\", \"prices\", \"tcgplayer_infinite_articles\", \"tcgplayer_infinite_decks\", \"edhrec\", \"purchase_uris\", \"cardmarket\", \"cardhoarder\"]\n",
    "    for keyword in keywords:\n",
    "        if keyword in data:\n",
    "            del data[keyword]\n",
    "    \n",
    "    clean_json = json.dumps(data)\n",
    "    # convert into json dict & save:\n",
    "    card1 = json.loads(clean_json)\n",
    "    with open('./data/card1.json', 'w') as f:\n",
    "        json.dump(card1, f)\n",
    "    print(card1)\n"
   ],
   "metadata": {
    "collapsed": false,
    "ExecuteTime": {
     "end_time": "2024-03-04T13:52:04.561367Z",
     "start_time": "2024-03-04T13:52:04.171414Z"
    }
   },
   "id": "eb35d55ab5881fae",
   "execution_count": 190
  },
  {
   "cell_type": "code",
   "outputs": [
    {
     "name": "stdout",
     "output_type": "stream",
     "text": [
      "Urborg, Tomb of Yawgmoth\n",
      "Urborg, Tomb of Yawgmoth\n",
      "{'name': 'Urborg, Tomb of Yawgmoth', 'mana_cost': '', 'cmc': 0.0, 'type_line': 'Legendary Land', 'oracle_text': 'Each land is a Swamp in addition to its other land types.', 'colors': [], 'keywords': [], 'produced_mana': ['B']}\n"
     ]
    }
   ],
   "source": [
    "card2 = \"Urborg, Tomb of Yawgmoth\"\n",
    "response = requests.get(f'https://api.scryfall.com/cards/named?exact={card2} ', \n",
    "                 headers={'Accept': 'application/json'})\n",
    "if response.status_code == 200:\n",
    "    # Parse the JSON response into a Python dictionary to delete keywords\n",
    "    data = response.json()\n",
    "    print(card2)\n",
    "    print(card2)\n",
    "    keywords = [\"object\", \"id\", \"oracle_id\", \"mtgo_foil_id\", \"rarity\", \"color_identity\", \"penny_rank\", \"multiverse_ids\", \"mtgo_id\", \"tcgplayer_id\", \"cardmarket_id\", \"lang\", \"released_at\", \"uri\", \"scryfall_uri\", \"layout\", \"frame_effects\", \"highres_image\", \"image_status\", \"image_uris\", \"legalities\", \"games\", \"reserved\", \"foil\", \"nonfoil\", \"finishes\", \"oversized\", \"promo\", \"reprint\", \"variation\", \"set_id\", \"set\", \"set_name\", \"set_type\", \"set_uri\", \"set_search_uri\", \"scryfall_set_uri\", \"rulings_uri\", \"prints_search_uri\", \"collector_number\", \"digital\", \"flavor_text\", \"card_back_id\", \"artist\", \"artist_ids\", \"illustration_id\", \"border_color\", \"frame\", \"security_stamp\", \"full_art\", \"textless\", \"booster\", \"story_spotlight\", \"edhrec_rank\", \"preview\", \"related_uris\", \"prices\", \"tcgplayer_infinite_articles\", \"tcgplayer_infinite_decks\", \"edhrec\", \"purchase_uris\", \"cardmarket\", \"cardhoarder\"]\n",
    "    for keyword in keywords:\n",
    "        if keyword in data:\n",
    "            del data[keyword]\n",
    "    \n",
    "    clean_json = json.dumps(data)\n",
    "    # convert into json dict & save:\n",
    "    card2 = json.loads(clean_json)\n",
    "    with open('./data/card2.json', 'w') as f:\n",
    "        json.dump(card2, f)\n",
    "    print(card2)"
   ],
   "metadata": {
    "collapsed": false,
    "ExecuteTime": {
     "end_time": "2024-03-04T13:52:07.592780Z",
     "start_time": "2024-03-04T13:52:07.315204Z"
    }
   },
   "id": "9ba51bbf6643a219",
   "execution_count": 191
  },
  {
   "cell_type": "code",
   "outputs": [],
   "source": [
    "# testing Prompt with input_variables as json\n",
    "prompt_template_test = ChatPromptTemplate.from_template(\n",
    "    template=prompt_continuous_effects,\n",
    "    partial_variables={\"card1\": card1, \"card2\": card2},\n",
    ")"
   ],
   "metadata": {
    "collapsed": false,
    "ExecuteTime": {
     "end_time": "2024-03-04T13:52:15.916308Z",
     "start_time": "2024-03-04T13:52:15.912420Z"
    }
   },
   "id": "3bc09f69eb503566",
   "execution_count": 192
  },
  {
   "cell_type": "markdown",
   "source": [
    "- Use Chatmodel instead of LLM: more possible token in prompt\n",
    "- Outputparser to parse message response from Chatmodel to str\n",
    "- check testcases.md to compare expected outcome with ChatGPT's answer"
   ],
   "metadata": {
    "collapsed": false
   },
   "id": "5c09b5958862406e"
  },
  {
   "cell_type": "code",
   "outputs": [
    {
     "name": "stdout",
     "output_type": "stream",
     "text": [
      "1. Oracle texts:\n",
      "- Blood Moon: \"Nonbasic lands are Mountains.\"\n",
      "- Urborg, Tomb of Yawgmoth: \"Each land is a Swamp in addition to its other land types.\"\n",
      "\n",
      "2. The effects of these cards are applied in Layer 4 (Type-changing effects) and Layer 4 (Type-changing effects) respectively.\n",
      "\n",
      "3. I will use the rule of Overriding of effects (613.9) to determine which continuous effect takes precedence.\n",
      "\n",
      "4. Judging: The continuous effect of Blood Moon, which turns nonbasic lands into Mountains, is applied in the game.\n",
      "\n",
      "5. I decided this way because according to the rule 613.9, when two continuous effects are in conflict, the one with the later timestamp takes precedence. Since Blood Moon was played first, its effect will override the effect of Urborg, Tomb of Yawgmoth.\n",
      "\n",
      "6. Rule used: 613.9 - One continuous effect can override another.\n"
     ]
    }
   ],
   "source": [
    "chain = ({\"rules_db\": retriever_rules, \"question\": RunnablePassthrough()} | prompt_template_test | model | StrOutputParser())\n",
    "answer = chain.invoke(\"What is the outcome of two played cards with continuous effects from Magic: the Gathering?\")\n",
    "print(answer)"
   ],
   "metadata": {
    "collapsed": false,
    "ExecuteTime": {
     "end_time": "2024-03-04T13:52:25.662878Z",
     "start_time": "2024-03-04T13:52:18.698265Z"
    }
   },
   "id": "34c08b3114fab1dc",
   "execution_count": 193
  },
  {
   "cell_type": "markdown",
   "source": [
    "- saving the answers as .txt for comparison by date & time: "
   ],
   "metadata": {
    "collapsed": false
   },
   "id": "8ce46fd91e648ac5"
  },
  {
   "cell_type": "code",
   "outputs": [],
   "source": [
    "current_datetime = str(datetime.now().strftime(\"%Y-%m-%d %H-%M-%S\"))\n",
    "file_name = current_datetime+\".txt\"\n",
    "\n",
    "with open(f'./data/answers/{file_name}', 'w') as f:\n",
    "    f.write(answer)"
   ],
   "metadata": {
    "collapsed": false,
    "ExecuteTime": {
     "end_time": "2024-02-29T09:38:23.656538Z",
     "start_time": "2024-02-29T09:38:23.651124Z"
    }
   },
   "id": "3b3b487f00e9d942",
   "execution_count": 156
  },
  {
   "cell_type": "code",
   "outputs": [],
   "source": [
    "# cleanup\n",
    "rules_db.delete_collection()"
   ],
   "metadata": {
    "collapsed": false,
    "ExecuteTime": {
     "end_time": "2024-03-04T13:25:35.263448Z",
     "start_time": "2024-03-04T13:25:35.084514Z"
    }
   },
   "id": "1a87757a2c34e812",
   "execution_count": 171
  },
  {
   "cell_type": "markdown",
   "source": [
    "## Case 2: Opalescence vs. Humility"
   ],
   "metadata": {
    "collapsed": false
   },
   "id": "e36e3ada1a279f8d"
  },
  {
   "cell_type": "code",
   "outputs": [
    {
     "name": "stdout",
     "output_type": "stream",
     "text": [
      "{'name': 'Opalescence', 'mana_cost': '{2}{W}{W}', 'cmc': 4.0, 'type_line': 'Enchantment', 'oracle_text': 'Each other non-Aura enchantment is a creature in addition to its other types and has base power and base toughness each equal to its mana value.', 'colors': ['W'], 'keywords': []}\n"
     ]
    }
   ],
   "source": [
    "card1 = \"Opalescence\"\n",
    "response = requests.get(f'https://api.scryfall.com/cards/named?exact={card1} ', \n",
    "                 headers={'Accept': 'application/json'})\n",
    "if response.status_code == 200:\n",
    "    # Parse the JSON response into a Python dictionary to delete keywords\n",
    "    data = response.json()\n",
    "    keywords = [\"object\", \"id\", \"oracle_id\", \"mtgo_foil_id\", \"rarity\", \"color_identity\", \"penny_rank\", \"multiverse_ids\", \"mtgo_id\", \"tcgplayer_id\", \"cardmarket_id\", \"lang\", \"released_at\", \"uri\", \"scryfall_uri\", \"layout\", \"frame_effects\", \"highres_image\", \"image_status\", \"image_uris\", \"legalities\", \"games\", \"reserved\", \"foil\", \"nonfoil\", \"finishes\", \"oversized\", \"promo\", \"reprint\", \"variation\", \"set_id\", \"set\", \"set_name\", \"set_type\", \"set_uri\", \"set_search_uri\", \"scryfall_set_uri\", \"rulings_uri\", \"prints_search_uri\", \"collector_number\", \"digital\", \"flavor_text\", \"card_back_id\", \"artist\", \"artist_ids\", \"illustration_id\", \"border_color\", \"frame\", \"security_stamp\", \"full_art\", \"textless\", \"booster\", \"story_spotlight\", \"edhrec_rank\", \"preview\", \"related_uris\", \"prices\", \"tcgplayer_infinite_articles\", \"tcgplayer_infinite_decks\", \"edhrec\", \"purchase_uris\", \"cardmarket\", \"cardhoarder\"]\n",
    "    for keyword in keywords:\n",
    "        if keyword in data:\n",
    "            del data[keyword]\n",
    "    \n",
    "    clean_json = json.dumps(data)\n",
    "    # convert into json dict & save:\n",
    "    card1 = json.loads(clean_json)\n",
    "    with open('./data/card1.json', 'w') as f:\n",
    "        json.dump(card1, f)\n",
    "    print(card1)"
   ],
   "metadata": {
    "collapsed": false,
    "ExecuteTime": {
     "end_time": "2024-03-04T13:53:29.038931Z",
     "start_time": "2024-03-04T13:53:28.327960Z"
    }
   },
   "id": "3080d61e967ea42e",
   "execution_count": 194
  },
  {
   "cell_type": "code",
   "outputs": [
    {
     "name": "stdout",
     "output_type": "stream",
     "text": [
      "{'name': 'Opalescence', 'mana_cost': '{2}{W}{W}', 'cmc': 4.0, 'type_line': 'Enchantment', 'oracle_text': 'Each other non-Aura enchantment is a creature in addition to its other types and has base power and base toughness each equal to its mana value.', 'colors': ['W'], 'keywords': []}\n",
      "{'name': 'Humility', 'mana_cost': '{2}{W}{W}', 'cmc': 4.0, 'type_line': 'Enchantment', 'oracle_text': 'All creatures lose all abilities and have base power and toughness 1/1.', 'colors': ['W'], 'keywords': []}\n"
     ]
    }
   ],
   "source": [
    "card2 = \"Humility\"\n",
    "response = requests.get(f'https://api.scryfall.com/cards/named?exact={card2} ', \n",
    "                 headers={'Accept': 'application/json'})\n",
    "if response.status_code == 200:\n",
    "    # Parse the JSON response into a Python dictionary to delete keywords\n",
    "    data = response.json()\n",
    "    print(card1)\n",
    "    keywords = [\"object\", \"id\", \"oracle_id\", \"mtgo_foil_id\", \"rarity\", \"color_identity\", \"penny_rank\", \"multiverse_ids\", \"mtgo_id\", \"tcgplayer_id\", \"cardmarket_id\", \"lang\", \"released_at\", \"uri\", \"scryfall_uri\", \"layout\", \"frame_effects\", \"highres_image\", \"image_status\", \"image_uris\", \"legalities\", \"games\", \"reserved\", \"foil\", \"nonfoil\", \"finishes\", \"oversized\", \"promo\", \"reprint\", \"variation\", \"set_id\", \"set\", \"set_name\", \"set_type\", \"set_uri\", \"set_search_uri\", \"scryfall_set_uri\", \"rulings_uri\", \"prints_search_uri\", \"collector_number\", \"digital\", \"flavor_text\", \"card_back_id\", \"artist\", \"artist_ids\", \"illustration_id\", \"border_color\", \"frame\", \"security_stamp\", \"full_art\", \"textless\", \"booster\", \"story_spotlight\", \"edhrec_rank\", \"preview\", \"related_uris\", \"prices\", \"tcgplayer_infinite_articles\", \"tcgplayer_infinite_decks\", \"edhrec\", \"purchase_uris\", \"cardmarket\", \"cardhoarder\"]\n",
    "    for keyword in keywords:\n",
    "        if keyword in data:\n",
    "            del data[keyword]\n",
    "    \n",
    "    clean_json = json.dumps(data)\n",
    "    # convert into json dict & save:\n",
    "    card2 = json.loads(clean_json)\n",
    "    with open('./data/card2.json', 'w') as f:\n",
    "        json.dump(card2, f)\n",
    "    print(card2)"
   ],
   "metadata": {
    "collapsed": false,
    "ExecuteTime": {
     "end_time": "2024-03-04T13:53:32.319636Z",
     "start_time": "2024-03-04T13:53:31.941995Z"
    }
   },
   "id": "940cb0f195a2860c",
   "execution_count": 195
  },
  {
   "cell_type": "code",
   "outputs": [],
   "source": [
    "prompt_template = ChatPromptTemplate.from_template(\n",
    "    template=prompt_continuous_effects,\n",
    "    partial_variables={\"card1\": card1, \"card2\": card2},\n",
    ")"
   ],
   "metadata": {
    "collapsed": false,
    "ExecuteTime": {
     "end_time": "2024-03-04T13:53:33.613630Z",
     "start_time": "2024-03-04T13:53:33.609067Z"
    }
   },
   "id": "8866f2edf7bb637d",
   "execution_count": 196
  },
  {
   "cell_type": "code",
   "outputs": [
    {
     "name": "stdout",
     "output_type": "stream",
     "text": [
      "1. Oracle texts:\n",
      "- Opalescence: Each other non-Aura enchantment is a creature in addition to its other types and has base power and base toughness each equal to its mana value.\n",
      "- Humility: All creatures lose all abilities and have base power and toughness 1/1.\n",
      "\n",
      "2. The effects of these cards are applied in Layer 4: Type-changing effects, and Layer 6: Ability-adding or ability-removing effects.\n",
      "\n",
      "3. I will use the rule of Overriding of effects (613.9) to determine which continuous effect takes precedence.\n",
      "\n",
      "4. Judging: The continuous effect of the card Opalescence is applied in the game. This means that each other non-Aura enchantment becomes a creature with power and toughness equal to its mana value.\n",
      "\n",
      "5. I decided this way because according to the rule 613.9, when two continuous effects are affecting the same object, the one with the later timestamp takes precedence. Since Opalescence was played first, its effect will be applied over Humility.\n",
      "\n",
      "6. Rule used: 613.9. One continuous effect can override another.\n"
     ]
    }
   ],
   "source": [
    "chain = ({\"rules_db\": retriever_rules, \"question\": RunnablePassthrough()} | prompt_template | model | StrOutputParser())\n",
    "answer = chain.invoke(\"What is the outcome of two played cards with continuous effects from Magic: the Gathering?\")\n",
    "print(answer)"
   ],
   "metadata": {
    "collapsed": false,
    "ExecuteTime": {
     "end_time": "2024-03-04T13:53:40.516895Z",
     "start_time": "2024-03-04T13:53:35.086993Z"
    }
   },
   "id": "b6b5a2e29d54be7b",
   "execution_count": 197
  },
  {
   "cell_type": "code",
   "outputs": [],
   "source": [
    "file_name = str(datetime.now().strftime(\"%Y-%m-%d %H-%M-%S\"))\n",
    "# file_name = current_datetime+\".txt\"\n",
    "\n",
    "with open(f'./data/answers/{file_name}.txt', 'w') as f:\n",
    "    f.write(answer)"
   ],
   "metadata": {
    "collapsed": false,
    "ExecuteTime": {
     "end_time": "2024-02-28T13:02:31.491552Z",
     "start_time": "2024-02-28T13:02:31.486072Z"
    }
   },
   "id": "f4c911c5fff90359",
   "execution_count": 123
  },
  {
   "cell_type": "code",
   "outputs": [],
   "source": [
    "# cleanup\n",
    "rules_db.delete_collection()"
   ],
   "metadata": {
    "collapsed": false
   },
   "id": "ccc24138ef06e935"
  }
 ],
 "metadata": {
  "kernelspec": {
   "display_name": "Python 3",
   "language": "python",
   "name": "python3"
  },
  "language_info": {
   "codemirror_mode": {
    "name": "ipython",
    "version": 2
   },
   "file_extension": ".py",
   "mimetype": "text/x-python",
   "name": "python",
   "nbconvert_exporter": "python",
   "pygments_lexer": "ipython2",
   "version": "2.7.6"
  }
 },
 "nbformat": 4,
 "nbformat_minor": 5
}
