{
 "cells": [
  {
   "cell_type": "code",
   "execution_count": 1,
   "id": "initial_id",
   "metadata": {
    "collapsed": true,
    "ExecuteTime": {
     "end_time": "2024-03-14T12:31:45.286465Z",
     "start_time": "2024-03-14T12:31:43.883325Z"
    }
   },
   "outputs": [],
   "source": [
    "import requests\n",
    "import json\n",
    "import os\n",
    "\n",
    "from dotenv import load_dotenv\n",
    "\n",
    "from datetime import datetime\n",
    "\n",
    "from langchain_openai import ChatOpenAI, OpenAIEmbeddings\n",
    "from langchain.prompts import ChatPromptTemplate\n",
    "from langchain_community.document_loaders import TextLoader\n",
    "from langchain.text_splitter import RecursiveCharacterTextSplitter\n",
    "from langchain_community.vectorstores import Chroma\n",
    "from langchain_core.runnables import RunnablePassthrough\n",
    "from langchain_core.output_parsers import StrOutputParser"
   ]
  },
  {
   "cell_type": "code",
   "execution_count": 2,
   "outputs": [],
   "source": [
    "load_dotenv()\n",
    "openai_api_key = os.environ.get(\"OPENAI_API_KEY\")"
   ],
   "metadata": {
    "collapsed": false,
    "ExecuteTime": {
     "end_time": "2024-03-14T12:31:45.292574Z",
     "start_time": "2024-03-14T12:31:45.288315Z"
    }
   },
   "id": "a404e15cfa73ae92"
  },
  {
   "cell_type": "markdown",
   "source": [
    "## Card Data\n",
    "- Get card information via scryfall.com and delete unnecessary data: \n",
    "    - keep only: id, name, mana cost, converted mana cost, type, oracle text, colors, keywords\n",
    "    - add comments via id\n",
    "- save as .json"
   ],
   "metadata": {
    "collapsed": false
   },
   "id": "d870bfdac91bcf9e"
  },
  {
   "cell_type": "code",
   "outputs": [],
   "source": [
    "cards = [\"Urborg, Tomb of Yawgmoth\", \"Blood Moon\", \"Humility\", \"Opalescence\"]\n",
    "\n",
    "for card in cards:\n",
    "    response = requests.get(f'https://api.scryfall.com/cards/named?exact={card} ', \n",
    "                     headers={'Accept': 'application/json'})\n",
    "    if response.status_code == 200:\n",
    "        # Parse the JSON response into a Python dictionary to delete keywords\n",
    "        data = response.json()\n",
    "        keywords = [\"object\", \"oracle_id\", \"mtgo_foil_id\", \"rarity\", \"color_identity\", \"penny_rank\", \"multiverse_ids\", \"mtgo_id\", \"tcgplayer_id\", \"cardmarket_id\", \"lang\", \"released_at\", \"uri\", \"scryfall_uri\", \"layout\", \"frame_effects\", \"highres_image\", \"image_status\", \"image_uris\", \"legalities\", \"games\", \"reserved\", \"foil\", \"nonfoil\", \"finishes\", \"oversized\", \"promo\", \"reprint\", \"variation\", \"set_id\", \"set\", \"set_name\", \"set_type\", \"set_uri\", \"rulings_uri\", \"set_search_uri\", \"scryfall_set_uri\", \"prints_search_uri\", \"collector_number\", \"digital\", \"flavor_text\", \"card_back_id\", \"artist\", \"artist_ids\", \"illustration_id\", \"border_color\", \"frame\", \"security_stamp\", \"full_art\", \"textless\", \"booster\", \"story_spotlight\", \"edhrec_rank\", \"preview\", \"related_uris\", \"prices\", \"tcgplayer_infinite_articles\", \"tcgplayer_infinite_decks\", \"edhrec\", \"purchase_uris\", \"cardmarket\", \"cardhoarder\"]\n",
    "        for keyword in keywords:\n",
    "            if keyword in data:\n",
    "                del data[keyword]\n",
    "            \n",
    "        # convert into json dict\n",
    "        card = json.loads(json.dumps(data))\n",
    "        \n",
    "        # check for additional rulings via id\n",
    "        card_id = card.get('id')\n",
    "        if card_id:\n",
    "            response = requests.get(f'https://api.scryfall.com/cards/{card_id}/rulings', \n",
    "                     headers={'Accept': 'application/json'})\n",
    "        \n",
    "        # add additional rules to card\n",
    "            if response.status_code == 200:\n",
    "                data_rulings = response.json()\n",
    "                comments = [item.get('comment') for item in data_rulings.get('data', [])]\n",
    "                card['comments'] = comments\n",
    "        \n",
    "        card_name = card.get('name')\n",
    "        with open(f'./data/cards/{card_name}.json', 'w') as f:\n",
    "            json.dump(card, f)"
   ],
   "metadata": {
    "collapsed": false,
    "ExecuteTime": {
     "end_time": "2024-03-14T10:40:25.624207Z",
     "start_time": "2024-03-14T10:40:22.639541Z"
    }
   },
   "id": "e7513efbc0016c45",
   "execution_count": 3
  },
  {
   "cell_type": "markdown",
   "source": [
    "## Prompt\n",
    "- load prompt"
   ],
   "metadata": {
    "collapsed": false
   },
   "id": "b39fccbc222cd06f"
  },
  {
   "cell_type": "code",
   "outputs": [
    {
     "name": "stdout",
     "output_type": "stream",
     "text": [
      "\"\"\"\n",
      "You are judge (aka a referee) in a game of Magic: the Gathering. You will get a {question} regarding {card1} and {card2} and give an answer.\n",
      "{card1} and {card2} each contain information of a single Magic: The Gathering card. Understanding the card helps you make a ruling decision.\n",
      "Use the {rules_db} as context for your answer.\n",
      "\n",
      "The following things are true:\n",
      "- {card1} and {card2} both have continuous effects.\n",
      "- Consider using the \"comments\" from {card1} and {card2}.\n",
      "- The \"type_line\" of the card could be relevant for ruling decision.\n",
      "- {card1} is played first and has the earlier timestamp, {card2} is played second and has the later timestamp. This may be relevant for the decision, but shouldn't influence your decision which rule to apply.\n",
      "\n",
      "\n",
      "You will follow these steps to make a ruling decision:\n",
      "\n",
      "1. Give the oracle texts from both cards as well the comments.\n",
      "2. Determine the layer on which the effects of the cards are applied. Layers are defined in 613.1 in the {rules_db}.\n",
      "3. Decide which rule you think is fitting: Timestamp and Layers (613.1 to 613.7), Dependency (613.8) or Overriding of effects (613.9).\n",
      "4. Summarize the rule of your choosing.\n",
      "5. Give your judging regarding the chosen rule: The continuous effect of which card is applied in game: {card1} or {card2}? Quote the effects.\n",
      "6. Explain why you decided this way.\n",
      "\"\"\"\n"
     ]
    }
   ],
   "source": [
    "with open(\"prompt_continuouseffects.txt\", \"r\") as file:\n",
    "    prompt_continuous_effects = file.read()\n",
    "print(prompt_continuous_effects)"
   ],
   "metadata": {
    "collapsed": false,
    "ExecuteTime": {
     "end_time": "2024-03-14T12:45:05.168120Z",
     "start_time": "2024-03-14T12:45:05.162956Z"
    }
   },
   "id": "a848cd6d90e83b8e",
   "execution_count": 41
  },
  {
   "cell_type": "markdown",
   "source": [
    "## RAG\n",
    "= Retrieved Augmented Generation\n",
    "- ChatGPT's knowlegde of the rules is from January 2022: for current state the rulebook needs to be retrieved and passed to the LLM\n",
    "- this data can provide context for the specific questions\n",
    "### Loader\n",
    "- simple loader to load .txt data: complete rule book from Magic: The Gathering"
   ],
   "metadata": {
    "collapsed": false
   },
   "id": "3b59c02d1d84e5f6"
  },
  {
   "cell_type": "code",
   "outputs": [],
   "source": [
    "#loader = TextLoader(\"./data/rules_shortened.txt\")\n",
    "loader = TextLoader(\"./data/rules.txt\")\n",
    "rules_doc = loader.load()"
   ],
   "metadata": {
    "collapsed": false,
    "ExecuteTime": {
     "end_time": "2024-03-14T12:31:51.809286Z",
     "start_time": "2024-03-14T12:31:51.803656Z"
    }
   },
   "id": "27f00bbe91b18e9",
   "execution_count": 4
  },
  {
   "cell_type": "markdown",
   "source": [
    "### Splitter\n",
    "- splitting the text into smaller chunks\n",
    "- this text splitter splits text recursively by characters: [\"\\n\\n\", \"\\n\", \" \", \"\"], so first paragraphs, then sentences, then words\n",
    "- keeps semantically related pieces together as long as possible"
   ],
   "metadata": {
    "collapsed": false
   },
   "id": "90397fedb75ce76f"
  },
  {
   "cell_type": "code",
   "outputs": [],
   "source": [
    "text_splitter = RecursiveCharacterTextSplitter(chunk_size=1000, chunk_overlap=200)\n",
    "rules_splits = text_splitter.split_documents(rules_doc)\n",
    "# print(rules_splits[0])"
   ],
   "metadata": {
    "collapsed": false,
    "ExecuteTime": {
     "end_time": "2024-03-14T12:31:52.815511Z",
     "start_time": "2024-03-14T12:31:52.774885Z"
    }
   },
   "id": "b2ca6492e32cd42c",
   "execution_count": 5
  },
  {
   "cell_type": "markdown",
   "source": [
    "### Vector Store\n",
    "- for storage of the embeddings\n",
    "- embedding for capture semantic meaning of the text: that's how context is given for later question\n",
    "- OpenAI embedding for ChatGPT\n",
    "- Chroma as open-source embedding database\n",
    "- finally, construct a retriever out of vectorstore "
   ],
   "metadata": {
    "collapsed": false
   },
   "id": "359b9cfc6dddfddd"
  },
  {
   "cell_type": "code",
   "outputs": [],
   "source": [
    "rules_db = Chroma.from_documents(documents=rules_splits, embedding=OpenAIEmbeddings())\n",
    "retriever_rules = rules_db.as_retriever()"
   ],
   "metadata": {
    "collapsed": false,
    "ExecuteTime": {
     "end_time": "2024-03-14T12:32:26.494614Z",
     "start_time": "2024-03-14T12:32:13.910390Z"
    }
   },
   "id": "afb3d85ff7036f43",
   "execution_count": 7
  },
  {
   "cell_type": "markdown",
   "source": [
    "- create new LLM: temperature 0 for more consistent, non-creative and therefor comparable output"
   ],
   "metadata": {
    "collapsed": false
   },
   "id": "cd2d8fe25b5886d6"
  },
  {
   "cell_type": "code",
   "outputs": [],
   "source": [
    "model = ChatOpenAI(temperature=0, openai_api_key=openai_api_key)"
   ],
   "metadata": {
    "collapsed": false,
    "ExecuteTime": {
     "end_time": "2024-03-14T12:32:27.733576Z",
     "start_time": "2024-03-14T12:32:27.585743Z"
    }
   },
   "id": "f28c13e80fd1b991",
   "execution_count": 8
  },
  {
   "cell_type": "markdown",
   "source": [
    "## Case 1: Blood Moon vs. Urborg, Tomb of Yawgmoth\n",
    "- load card variables from saved data"
   ],
   "metadata": {
    "collapsed": false
   },
   "id": "6addb1af7246dfa4"
  },
  {
   "cell_type": "code",
   "outputs": [],
   "source": [
    "with open(\"./data/cards/Urborg, Tomb of Yawgmoth.json\", \"r\") as file:\n",
    "    card1 = file.read()\n",
    "\n",
    "with open(\"./data/cards/Blood Moon.json\", \"r\") as file:\n",
    "    card2 = file.read()"
   ],
   "metadata": {
    "collapsed": false,
    "ExecuteTime": {
     "end_time": "2024-03-14T12:44:01.913095Z",
     "start_time": "2024-03-14T12:44:01.907543Z"
    }
   },
   "id": "ef2501dbce11637e",
   "execution_count": 38
  },
  {
   "cell_type": "markdown",
   "source": [
    "- load template with prompt and card variables"
   ],
   "metadata": {
    "collapsed": false
   },
   "id": "98a7315dc7e175cd"
  },
  {
   "cell_type": "code",
   "outputs": [],
   "source": [
    "prompt_template = ChatPromptTemplate.from_template(\n",
    "    template=prompt_continuous_effects,\n",
    "    partial_variables={\"card1\": card1, \"card2\": card2},\n",
    ")"
   ],
   "metadata": {
    "collapsed": false,
    "ExecuteTime": {
     "end_time": "2024-03-14T12:45:09.825650Z",
     "start_time": "2024-03-14T12:45:09.820438Z"
    }
   },
   "id": "3bc09f69eb503566",
   "execution_count": 42
  },
  {
   "cell_type": "markdown",
   "source": [
    "- Outputparser to parse message response from Chatmodel to str\n",
    "- check testcases.md to compare expected outcome with ChatGPT's answer"
   ],
   "metadata": {
    "collapsed": false
   },
   "id": "5c09b5958862406e"
  },
  {
   "cell_type": "code",
   "outputs": [
    {
     "name": "stdout",
     "output_type": "stream",
     "text": [
      "1. Oracle texts and comments:\n",
      "- Urborg, Tomb of Yawgmoth:\n",
      "    - Oracle text: Each land is a Swamp in addition to its other land types.\n",
      "    - Comments: Urborg's ability causes each land on the battlefield to have the land type Swamp. Any land that's a Swamp has the ability \"{T}: Add {B}\". Nothing else changes about those lands, including their names, other subtypes, other abilities, and whether they're legendary, basic, or snow.\n",
      "- Blood Moon:\n",
      "    - Oracle text: Nonbasic lands are Mountains.\n",
      "    - Comments: Nonbasic lands will lose any other land types and abilities they had. They will gain the land type Mountain and gain the ability \"{T}: Add {R}\". This effect doesn't affect names or supertypes.\n",
      "\n",
      "2. Layer determination:\n",
      "The effects of Urborg, Tomb of Yawgmoth and Blood Moon fall under the interaction of continuous effects, which are applied in layers as defined in 613.1.\n",
      "\n",
      "3. Chosen rule: Layers (613.1 to 613.7)\n",
      "\n",
      "4. Rule summary:\n",
      "In Magic: The Gathering, continuous effects are applied in layers, with each layer determining a specific aspect of the game state. When multiple continuous effects are in play, they are applied in a specific order based on the layer they affect.\n",
      "\n",
      "5. Judging decision:\n",
      "Based on the chosen rule of layers, the continuous effect of Blood Moon, which turns nonbasic lands into Mountains, would be applied in the game over the continuous effect of Urborg, Tomb of Yawgmoth, which turns all lands into Swamps. This means that all nonbasic lands would become Mountains, overriding the effect of making all lands Swamps.\n",
      "\n",
      "6. Explanation:\n",
      "The decision to apply the effect of Blood Moon over Urborg, Tomb of Yawgmoth is based on the layer system in Magic: The Gathering, where effects that change the basic land type of lands (such as Blood Moon) take precedence over effects that change the land type to Swamp (such as Urborg, Tomb of Yawgmoth). This ruling ensures consistency in gameplay and follows the established rules of the game.\n"
     ]
    }
   ],
   "source": [
    "chain = ({\"rules_db\": retriever_rules, \"question\": RunnablePassthrough()} | prompt_template | model | StrOutputParser())\n",
    "answer = chain.invoke(\"What is the final board state of two cards played with continuous effects from Magic: the Gathering?\")\n",
    "print(answer)"
   ],
   "metadata": {
    "collapsed": false,
    "ExecuteTime": {
     "end_time": "2024-03-14T12:45:20.528791Z",
     "start_time": "2024-03-14T12:45:10.714897Z"
    }
   },
   "id": "34c08b3114fab1dc",
   "execution_count": 43
  },
  {
   "cell_type": "markdown",
   "source": [
    "- saving the answers as .txt for comparison by date & time: "
   ],
   "metadata": {
    "collapsed": false
   },
   "id": "8ce46fd91e648ac5"
  },
  {
   "cell_type": "code",
   "outputs": [],
   "source": [
    "file_name = str(datetime.now().strftime(\"%Y-%m-%d %H-%M-%S\"))\n",
    "\n",
    "with open(f'./data/answers/case1_{file_name}.txt', 'w') as f:\n",
    "    f.write(answer)"
   ],
   "metadata": {
    "collapsed": false,
    "ExecuteTime": {
     "end_time": "2024-03-14T12:17:15.875788Z",
     "start_time": "2024-03-14T12:17:15.869707Z"
    }
   },
   "id": "3b3b487f00e9d942",
   "execution_count": 68
  },
  {
   "cell_type": "markdown",
   "source": [
    "- cleanup"
   ],
   "metadata": {
    "collapsed": false
   },
   "id": "7cac9351d731c3b8"
  },
  {
   "cell_type": "code",
   "outputs": [],
   "source": [
    "rules_db.delete_collection()"
   ],
   "metadata": {
    "collapsed": false,
    "ExecuteTime": {
     "end_time": "2024-03-14T11:05:34.327379Z",
     "start_time": "2024-03-14T11:05:34.109874Z"
    }
   },
   "id": "1a87757a2c34e812",
   "execution_count": 36
  },
  {
   "cell_type": "markdown",
   "source": [
    "## Case 2a: Opalescence vs. Humility\n",
    "- timestamp rule determines the outcome: *Humility* is played last and it's effect overrides *Opalescence*"
   ],
   "metadata": {
    "collapsed": false
   },
   "id": "e36e3ada1a279f8d"
  },
  {
   "cell_type": "code",
   "outputs": [],
   "source": [
    "with open(\"./data/cards/Opalescence.json\", \"r\") as file:\n",
    "    card1 = file.read()\n",
    "\n",
    "with open(\"./data/cards/Humility.json\", \"r\") as file:\n",
    "    card2 = file.read()"
   ],
   "metadata": {
    "collapsed": false,
    "ExecuteTime": {
     "end_time": "2024-03-14T12:33:33.380405Z",
     "start_time": "2024-03-14T12:33:33.375378Z"
    }
   },
   "id": "bb6dbafea9a1b50f",
   "execution_count": 16
  },
  {
   "cell_type": "code",
   "outputs": [],
   "source": [
    "prompt_template = ChatPromptTemplate.from_template(\n",
    "    template=prompt_continuous_effects,\n",
    "    partial_variables={\"card1\": card1, \"card2\": card2},\n",
    ")"
   ],
   "metadata": {
    "collapsed": false,
    "ExecuteTime": {
     "end_time": "2024-03-14T12:33:33.843785Z",
     "start_time": "2024-03-14T12:33:33.840236Z"
    }
   },
   "id": "8866f2edf7bb637d",
   "execution_count": 17
  },
  {
   "cell_type": "code",
   "outputs": [
    {
     "name": "stdout",
     "output_type": "stream",
     "text": [
      "1. Oracle text and comments:\n",
      "- Opalescence: Each other non-Aura enchantment is a creature in addition to its other types and has base power and base toughness each equal to its mana value. This card does not animate itself but can be animated by another Opalescence.\n",
      "- Humility: All creatures lose all abilities and have base power and toughness 1/1. This card removes all creature abilities, including mana abilities. Animated lands will also lose the ability to tap for mana.\n",
      "\n",
      "2. Layers:\n",
      "The effects of Opalescence and Humility are applied in different layers. Opalescence's effect of turning enchantments into creatures with power and toughness equal to their mana value is applied in layer 4, while Humility's effect of setting all creatures' power and toughness to 1/1 and removing all abilities is applied in layer 6.\n",
      "\n",
      "3. Rule:\n",
      "We will apply the rule of Layers (613.1 to 613.7) to determine the outcome of the continuous effects of Opalescence and Humility.\n",
      "\n",
      "4. Summary of the rule:\n",
      "In Magic: The Gathering, continuous effects are applied in a specific order of layers, as defined in rules 613.1 to 613.7. Each layer has a specific purpose, such as defining characteristics, setting power and toughness, modifying power and toughness, applying counters, and switching power and toughness. When multiple continuous effects are in play, they are applied in the order of these layers to determine the final outcome.\n",
      "\n",
      "5. Judging:\n",
      "Based on the rule of Layers, the effect of Humility, which sets all creatures' power and toughness to 1/1 and removes all abilities, will be applied after the effect of Opalescence, which turns enchantments into creatures with power and toughness equal to their mana value. Therefore, in this scenario, the continuous effect of Humility will override the effect of Opalescence. As a result, all creatures, including enchantments affected by Opalescence, will have their power and toughness set to 1/1 and lose all abilities.\n",
      "\n",
      "6. Explanation:\n",
      "By following the rule of Layers, we can determine the order in which continuous effects are applied and resolve any conflicts between them. In this case, Humility's effect takes precedence over Opalescence's effect due to the layer in which they are applied. This ruling ensures consistency and fairness in gameplay interactions involving multiple continuous effects.\n"
     ]
    }
   ],
   "source": [
    "chain = ({\"rules_db\": retriever_rules, \"question\": RunnablePassthrough()} | prompt_template | model | StrOutputParser())\n",
    "answer = chain.invoke(\"What is the final board state of two cards played with continuous effects from Magic: the Gathering?\")\n",
    "print(answer)"
   ],
   "metadata": {
    "collapsed": false,
    "ExecuteTime": {
     "end_time": "2024-03-14T12:33:45.913745Z",
     "start_time": "2024-03-14T12:33:34.377450Z"
    }
   },
   "id": "b6b5a2e29d54be7b",
   "execution_count": 18
  },
  {
   "cell_type": "code",
   "outputs": [],
   "source": [
    "file_name = str(datetime.now().strftime(\"%Y-%m-%d %H-%M-%S\"))\n",
    "\n",
    "with open(f'./data/answers/case2_{file_name}.txt', 'w') as f:\n",
    "    f.write(answer)"
   ],
   "metadata": {
    "collapsed": false,
    "ExecuteTime": {
     "end_time": "2024-03-14T12:17:53.660858Z",
     "start_time": "2024-03-14T12:17:53.654489Z"
    }
   },
   "id": "f4c911c5fff90359",
   "execution_count": 72
  },
  {
   "cell_type": "markdown",
   "source": [
    "## Case 2b: Humility vs. Opalescence \n",
    "- because timestamp is important here, testing the case with changed order"
   ],
   "metadata": {
    "collapsed": false
   },
   "id": "8505e1378aea73aa"
  },
  {
   "cell_type": "code",
   "outputs": [],
   "source": [
    "with open(\"./data/cards/Humility.json\", \"r\") as file:\n",
    "    card1 = file.read()\n",
    "\n",
    "with open(\"./data/cards/Opalescence.json\", \"r\") as file:\n",
    "    card2 = file.read()"
   ],
   "metadata": {
    "collapsed": false,
    "ExecuteTime": {
     "end_time": "2024-03-14T12:33:54.115023Z",
     "start_time": "2024-03-14T12:33:54.110713Z"
    }
   },
   "id": "93922763012c8728",
   "execution_count": 19
  },
  {
   "cell_type": "code",
   "outputs": [],
   "source": [
    "prompt_template = ChatPromptTemplate.from_template(\n",
    "    template=prompt_continuous_effects,\n",
    "    partial_variables={\"card1\": card1, \"card2\": card2},\n",
    ")"
   ],
   "metadata": {
    "collapsed": false,
    "ExecuteTime": {
     "end_time": "2024-03-14T12:33:54.741643Z",
     "start_time": "2024-03-14T12:33:54.737291Z"
    }
   },
   "id": "7389ad16be09ca26",
   "execution_count": 20
  },
  {
   "cell_type": "code",
   "outputs": [
    {
     "name": "stdout",
     "output_type": "stream",
     "text": [
      "1. Oracle text and comments:\n",
      "- Humility: All creatures lose all abilities and have base power and toughness 1/1. Comments include detailed interactions with Opalescence and the order of applying effects.\n",
      "- Opalescence: Each other non-Aura enchantment is a creature in addition to its other types and has base power and base toughness each equal to its mana value. Comments include interactions with Humility and the ability to animate other noncreature permanents.\n",
      "\n",
      "2. Layers:\n",
      "The effects of Humility and Opalescence are applied in different layers. Humility's effect of setting all creatures' power and toughness to 1/1 and removing all abilities is applied in layer 6, while Opalescence's effect of turning non-Aura enchantments into creatures with power and toughness equal to their mana value is applied in layer 4.\n",
      "\n",
      "3. Rule choice:\n",
      "The rule of overriding effects (613.9) will be applied in this scenario.\n",
      "\n",
      "4. Rule summary:\n",
      "In Magic: The Gathering, when two continuous effects are in conflict, the effect that was generated last in timestamp order will take precedence and override the earlier effect. This means that the effect of the card played last will be the one that applies.\n",
      "\n",
      "5. Judging decision:\n",
      "The continuous effect of the card played last, which is Opalescence in this case, will be applied in the game. Therefore, each non-Aura enchantment will become a creature with power and toughness equal to its mana value, overriding the effect of Humility that sets all creatures' power and toughness to 1/1 and removes all abilities.\n",
      "\n",
      "6. Explanation:\n",
      "By following the rule of overriding effects and considering the timestamp order of the cards, Opalescence's effect will take precedence over Humility's effect. This decision ensures consistency in applying game rules and resolves conflicts between continuous effects in a fair and structured manner.\n"
     ]
    }
   ],
   "source": [
    "chain = ({\"rules_db\": retriever_rules, \"question\": RunnablePassthrough()} | prompt_template | model | StrOutputParser())\n",
    "answer = chain.invoke(\"What is the outcome of two played cards with continuous effects from Magic: the Gathering?\")\n",
    "print(answer)"
   ],
   "metadata": {
    "collapsed": false,
    "ExecuteTime": {
     "end_time": "2024-03-14T12:34:04.345950Z",
     "start_time": "2024-03-14T12:33:55.586919Z"
    }
   },
   "id": "b2fa02271b9c4fa3",
   "execution_count": 21
  },
  {
   "cell_type": "code",
   "outputs": [],
   "source": [
    "file_name = str(datetime.now().strftime(\"%Y-%m-%d %H-%M-%S\"))\n",
    "\n",
    "with open(f'./data/answers/case2_{file_name}.txt', 'w') as f:\n",
    "    f.write(answer)"
   ],
   "metadata": {
    "collapsed": false,
    "ExecuteTime": {
     "end_time": "2024-03-14T12:22:39.930766Z",
     "start_time": "2024-03-14T12:22:39.926430Z"
    }
   },
   "id": "b9bb8f9747e17ec",
   "execution_count": 76
  },
  {
   "cell_type": "markdown",
   "source": [
    "- cleanup"
   ],
   "metadata": {
    "collapsed": false
   },
   "id": "998c2e0dd3e9df99"
  },
  {
   "cell_type": "code",
   "outputs": [],
   "source": [
    "rules_db.delete_collection()"
   ],
   "metadata": {
    "collapsed": false,
    "ExecuteTime": {
     "end_time": "2024-03-14T10:32:21.670862Z",
     "start_time": "2024-03-14T10:32:21.449369Z"
    }
   },
   "id": "ccc24138ef06e935",
   "execution_count": 19
  },
  {
   "cell_type": "code",
   "outputs": [],
   "source": [],
   "metadata": {
    "collapsed": false
   },
   "id": "efab702688675a3"
  }
 ],
 "metadata": {
  "kernelspec": {
   "display_name": "Python 3",
   "language": "python",
   "name": "python3"
  },
  "language_info": {
   "codemirror_mode": {
    "name": "ipython",
    "version": 2
   },
   "file_extension": ".py",
   "mimetype": "text/x-python",
   "name": "python",
   "nbconvert_exporter": "python",
   "pygments_lexer": "ipython2",
   "version": "2.7.6"
  }
 },
 "nbformat": 4,
 "nbformat_minor": 5
}
