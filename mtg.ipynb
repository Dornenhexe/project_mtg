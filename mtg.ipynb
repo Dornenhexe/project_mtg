{
 "cells": [
  {
   "cell_type": "code",
   "execution_count": 411,
   "id": "initial_id",
   "metadata": {
    "collapsed": true,
    "ExecuteTime": {
     "end_time": "2024-03-13T14:28:23.177199Z",
     "start_time": "2024-03-13T14:28:23.170883Z"
    }
   },
   "outputs": [],
   "source": [
    "import requests\n",
    "import json\n",
    "import os\n",
    "\n",
    "from dotenv import load_dotenv\n",
    "\n",
    "from datetime import datetime\n",
    "\n",
    "from langchain_openai import ChatOpenAI, OpenAIEmbeddings\n",
    "from langchain.prompts import ChatPromptTemplate\n",
    "from langchain_community.document_loaders import TextLoader\n",
    "from langchain.text_splitter import RecursiveCharacterTextSplitter\n",
    "from langchain_community.vectorstores import Chroma\n",
    "from langchain_core.runnables import RunnablePassthrough\n",
    "from langchain_core.output_parsers import StrOutputParser"
   ]
  },
  {
   "cell_type": "code",
   "execution_count": 412,
   "outputs": [],
   "source": [
    "load_dotenv()\n",
    "openai_api_key = os.environ.get(\"OPENAI_API_KEY\")"
   ],
   "metadata": {
    "collapsed": false,
    "ExecuteTime": {
     "end_time": "2024-03-13T14:28:23.911457Z",
     "start_time": "2024-03-13T14:28:23.904478Z"
    }
   },
   "id": "a404e15cfa73ae92"
  },
  {
   "cell_type": "markdown",
   "source": [
    "## Card Data\n",
    "- Get card information via scryfall.com and delete unnecessary data: \n",
    "    - keep only: id, name, mana cost, converted mana cost, type, oracle text, colors, keywords\n",
    "    - add comments via id\n",
    "- save as .json"
   ],
   "metadata": {
    "collapsed": false
   },
   "id": "d870bfdac91bcf9e"
  },
  {
   "cell_type": "code",
   "outputs": [],
   "source": [
    "cards = [\"Urborg, Tomb of Yawgmoth\", \"Blood Moon\", \"Humility\", \"Opalescence\"]\n",
    "\n",
    "for card in cards:\n",
    "    response = requests.get(f'https://api.scryfall.com/cards/named?exact={card} ', \n",
    "                     headers={'Accept': 'application/json'})\n",
    "    if response.status_code == 200:\n",
    "        # Parse the JSON response into a Python dictionary to delete keywords\n",
    "        data = response.json()\n",
    "        keywords = [\"object\", \"oracle_id\", \"mtgo_foil_id\", \"rarity\", \"color_identity\", \"penny_rank\", \"multiverse_ids\", \"mtgo_id\", \"tcgplayer_id\", \"cardmarket_id\", \"lang\", \"released_at\", \"uri\", \"scryfall_uri\", \"layout\", \"frame_effects\", \"highres_image\", \"image_status\", \"image_uris\", \"legalities\", \"games\", \"reserved\", \"foil\", \"nonfoil\", \"finishes\", \"oversized\", \"promo\", \"reprint\", \"variation\", \"set_id\", \"set\", \"set_name\", \"set_type\", \"set_uri\", \"rulings_uri\", \"set_search_uri\", \"scryfall_set_uri\", \"prints_search_uri\", \"collector_number\", \"digital\", \"flavor_text\", \"card_back_id\", \"artist\", \"artist_ids\", \"illustration_id\", \"border_color\", \"frame\", \"security_stamp\", \"full_art\", \"textless\", \"booster\", \"story_spotlight\", \"edhrec_rank\", \"preview\", \"related_uris\", \"prices\", \"tcgplayer_infinite_articles\", \"tcgplayer_infinite_decks\", \"edhrec\", \"purchase_uris\", \"cardmarket\", \"cardhoarder\"]\n",
    "        for keyword in keywords:\n",
    "            if keyword in data:\n",
    "                del data[keyword]\n",
    "            \n",
    "        # convert into json dict\n",
    "        card = json.loads(json.dumps(data))\n",
    "        \n",
    "        # check for additional rulings via id\n",
    "        card_id = card.get('id')\n",
    "        if card_id:\n",
    "            response = requests.get(f'https://api.scryfall.com/cards/{card_id}/rulings', \n",
    "                     headers={'Accept': 'application/json'})\n",
    "        \n",
    "        # add additional rules to card\n",
    "            if response.status_code == 200:\n",
    "                data_rulings = response.json()\n",
    "                comments = [item.get('comment') for item in data_rulings.get('data', [])]\n",
    "                card['comments'] = comments\n",
    "        \n",
    "        card_name = card.get('name')\n",
    "        with open(f'./data/cards/{card_name}.json', 'w') as f:\n",
    "            json.dump(card, f)"
   ],
   "metadata": {
    "collapsed": false,
    "ExecuteTime": {
     "end_time": "2024-03-13T14:28:28.053311Z",
     "start_time": "2024-03-13T14:28:25.256523Z"
    }
   },
   "id": "e7513efbc0016c45",
   "execution_count": 413
  },
  {
   "cell_type": "markdown",
   "source": [
    "## Prompt\n",
    "- load prompt"
   ],
   "metadata": {
    "collapsed": false
   },
   "id": "b39fccbc222cd06f"
  },
  {
   "cell_type": "code",
   "outputs": [
    {
     "name": "stdout",
     "output_type": "stream",
     "text": [
      "\"\"\"\n",
      "You are judge (aka a referee) in a game of Magic: the Gathering. You will get a {question} regarding {card1} and {card2} and give an answer.\n",
      "Use the {rules_db} as context for your decision. {card1} and {card2} each contain information of a single Magic: The Gathering card.\n",
      "\n",
      "The following things are true:\n",
      "- {card1} and {card2} both have continuous effects.\n",
      "- The \"oracle_text\" from {card1} and {card2} describe the effects of the card.\n",
      "- The \"comments\" contain rule explanation or examples. Consider them for your decision.\n",
      "- The \"type_line\" of the card could be relevant for ruling decision.\n",
      "- {card1} is played first and has the earlier timestamp, {card2} is played second and has the later timestamp. This may be relevant for the decision, but shouldn't influence your decision which rule to apply.\n",
      "- Only one rule determine the outcome.\n",
      "\n",
      "You will follow these steps to make a decision:\n",
      "\n",
      "1. Give the oracle texts from both cards as well the comments.\n",
      "2. Determine the layer on which the effects of the cards are applied. Layers are defined in 613.1 in the {rules_db}.\n",
      "3. Decide which rule you think is fitting: Timestamp and Layers (613.1 to 613.7), Dependency (613.8) or Overriding of effects (613.9).\n",
      "4. Summarize the rule of your choosing.\n",
      "5. Give your judging regarding the chosen rule: The continuous effect of which card is applied in game: {card1} or {card2}? Quote the effects.\n",
      "6. Explain why you decided this way.\n",
      "\n",
      "\"\"\"\n"
     ]
    }
   ],
   "source": [
    "with open(\"prompt_continuouseffects.txt\", \"r\") as file:\n",
    "    prompt_continuous_effects = file.read()\n",
    "print(prompt_continuous_effects)"
   ],
   "metadata": {
    "collapsed": false,
    "ExecuteTime": {
     "end_time": "2024-03-13T14:28:29.403949Z",
     "start_time": "2024-03-13T14:28:29.395897Z"
    }
   },
   "id": "a848cd6d90e83b8e",
   "execution_count": 414
  },
  {
   "cell_type": "markdown",
   "source": [
    "## RAG\n",
    "= Retrieved Augmented Generation\n",
    "- ChatGPT's knowlegde of the rules is from January 2022: for current state the rulebook needs to be retrieved and passed to the LLM\n",
    "- this data can provide context for the specific questions\n",
    "### Loader\n",
    "- simple loader to load .txt data: complete rule book from Magic: The Gathering"
   ],
   "metadata": {
    "collapsed": false
   },
   "id": "3b59c02d1d84e5f6"
  },
  {
   "cell_type": "code",
   "outputs": [],
   "source": [
    "#loader = TextLoader(\"./data/rules_shortened.txt\")\n",
    "loader = TextLoader(\"./data/rules.txt\")\n",
    "rules_doc = loader.load()"
   ],
   "metadata": {
    "collapsed": false,
    "ExecuteTime": {
     "end_time": "2024-03-13T14:28:32.251109Z",
     "start_time": "2024-03-13T14:28:32.244435Z"
    }
   },
   "id": "27f00bbe91b18e9",
   "execution_count": 415
  },
  {
   "cell_type": "markdown",
   "source": [
    "### Splitter\n",
    "- splitting the text into smaller chunks\n",
    "- this text splitter splits text recursively by characters: [\"\\n\\n\", \"\\n\", \" \", \"\"], so first paragraphs, then sentences, then words\n",
    "- keeps semantically related pieces together as long as possible"
   ],
   "metadata": {
    "collapsed": false
   },
   "id": "90397fedb75ce76f"
  },
  {
   "cell_type": "code",
   "outputs": [],
   "source": [
    "text_splitter = RecursiveCharacterTextSplitter(chunk_size=1000, chunk_overlap=200)\n",
    "rules_splits = text_splitter.split_documents(rules_doc)\n",
    "# print(rules_splits[0])"
   ],
   "metadata": {
    "collapsed": false,
    "ExecuteTime": {
     "end_time": "2024-03-13T14:28:34.374452Z",
     "start_time": "2024-03-13T14:28:34.328932Z"
    }
   },
   "id": "b2ca6492e32cd42c",
   "execution_count": 416
  },
  {
   "cell_type": "markdown",
   "source": [
    "### Vector Store\n",
    "- for storage of the embeddings\n",
    "- embedding for capture semantic meaning of the text: that's how context is given for later question\n",
    "- OpenAI embedding for ChatGPT\n",
    "- Chroma as open-source embedding database\n",
    "- finally, construct a retriever out of vectorstore "
   ],
   "metadata": {
    "collapsed": false
   },
   "id": "359b9cfc6dddfddd"
  },
  {
   "cell_type": "code",
   "outputs": [],
   "source": [
    "rules_db = Chroma.from_documents(documents=rules_splits, embedding=OpenAIEmbeddings())\n",
    "retriever_rules = rules_db.as_retriever()"
   ],
   "metadata": {
    "collapsed": false,
    "ExecuteTime": {
     "end_time": "2024-03-13T14:28:47.854329Z",
     "start_time": "2024-03-13T14:28:36.388825Z"
    }
   },
   "id": "afb3d85ff7036f43",
   "execution_count": 417
  },
  {
   "cell_type": "markdown",
   "source": [
    "- create new LLM: temperature 0 for more consistent, non-creative and therefor comparable output"
   ],
   "metadata": {
    "collapsed": false
   },
   "id": "cd2d8fe25b5886d6"
  },
  {
   "cell_type": "code",
   "outputs": [],
   "source": [
    "model = ChatOpenAI(temperature=0, openai_api_key=openai_api_key)"
   ],
   "metadata": {
    "collapsed": false,
    "ExecuteTime": {
     "end_time": "2024-03-13T14:28:50.231326Z",
     "start_time": "2024-03-13T14:28:50.108924Z"
    }
   },
   "id": "f28c13e80fd1b991",
   "execution_count": 418
  },
  {
   "cell_type": "markdown",
   "source": [
    "## Case 1: Blood Moon vs. Urborg, Tomb of Yawgmoth\n",
    "- load card variables from saved data"
   ],
   "metadata": {
    "collapsed": false
   },
   "id": "6addb1af7246dfa4"
  },
  {
   "cell_type": "code",
   "outputs": [],
   "source": [
    "with open(\"./data/cards/Urborg, Tomb of Yawgmoth.json\", \"r\") as file:\n",
    "    card1 = file.read()\n",
    "\n",
    "with open(\"./data/cards/Blood Moon.json\", \"r\") as file:\n",
    "    card2 = file.read()"
   ],
   "metadata": {
    "collapsed": false,
    "ExecuteTime": {
     "end_time": "2024-03-13T14:28:52.348357Z",
     "start_time": "2024-03-13T14:28:52.340113Z"
    }
   },
   "id": "ef2501dbce11637e",
   "execution_count": 419
  },
  {
   "cell_type": "markdown",
   "source": [
    "- load template with prompt and card variables"
   ],
   "metadata": {
    "collapsed": false
   },
   "id": "98a7315dc7e175cd"
  },
  {
   "cell_type": "code",
   "outputs": [],
   "source": [
    "prompt_template = ChatPromptTemplate.from_template(\n",
    "    template=prompt_continuous_effects,\n",
    "    partial_variables={\"card1\": card1, \"card2\": card2},\n",
    ")"
   ],
   "metadata": {
    "collapsed": false,
    "ExecuteTime": {
     "end_time": "2024-03-13T14:28:54.192333Z",
     "start_time": "2024-03-13T14:28:54.184663Z"
    }
   },
   "id": "3bc09f69eb503566",
   "execution_count": 420
  },
  {
   "cell_type": "markdown",
   "source": [
    "- Outputparser to parse message response from Chatmodel to str\n",
    "- check testcases.md to compare expected outcome with ChatGPT's answer"
   ],
   "metadata": {
    "collapsed": false
   },
   "id": "5c09b5958862406e"
  },
  {
   "cell_type": "code",
   "outputs": [
    {
     "name": "stdout",
     "output_type": "stream",
     "text": [
      "1. Oracle texts and comments:\n",
      "- Urborg, Tomb of Yawgmoth: Each land is a Swamp in addition to its other land types. Comments include that Urborg isn't a Swamp while not on the battlefield, it causes each land on the battlefield to have the land type Swamp, and any land that's a Swamp has the ability \"{T}: Add {B}\".\n",
      "- Blood Moon: Nonbasic lands are Mountains. Comments include that nonbasic lands will lose any other land types and abilities they had, they will gain the land type Mountain and the ability \"{T}: Add {R}\".\n",
      "\n",
      "2. Determine the layer on which the effects of the cards are applied:\n",
      "The effects of Urborg, Tomb of Yawgmoth and Blood Moon fall under the dependency layer as they both modify the characteristics of lands.\n",
      "\n",
      "3. Rule choice:\n",
      "I choose the Dependency rule (613.8) as it deals with continuous effects that depend on other continuous effects.\n",
      "\n",
      "4. Summary of the chosen rule:\n",
      "The Dependency rule (613.8) states that continuous effects apply in timestamp order, but those depending on other effects are applied last.\n",
      "\n",
      "5. Judging:\n",
      "The continuous effect of Blood Moon is applied in the game. Urborg, Tomb of Yawgmoth's effect of making each land a Swamp in addition to its other types is dependent on the presence of Blood Moon's effect of turning nonbasic lands into Mountains. Since Urborg's effect depends on the characteristics of the lands being nonbasic, and Blood Moon changes them to Mountains, Blood Moon's effect takes precedence.\n",
      "\n",
      "6. Explanation:\n",
      "According to the Dependency rule, the effect that depends on another effect is applied last. In this case, Urborg's effect is dependent on the lands being nonbasic, which is altered by Blood Moon. Therefore, Blood Moon's effect of turning nonbasic lands into Mountains overrides Urborg's effect of turning lands into Swamps. This ruling ensures that the game state is consistent and follows the established rules of Magic: The Gathering.\n"
     ]
    }
   ],
   "source": [
    "chain = ({\"rules_db\": retriever_rules, \"question\": RunnablePassthrough()} | prompt_template | model | StrOutputParser())\n",
    "answer = chain.invoke(\"What is the final board state of two cards played with continuous effects from Magic: the Gathering?\")\n",
    "print(answer)"
   ],
   "metadata": {
    "collapsed": false,
    "ExecuteTime": {
     "end_time": "2024-03-13T14:29:04.898960Z",
     "start_time": "2024-03-13T14:28:55.713870Z"
    }
   },
   "id": "34c08b3114fab1dc",
   "execution_count": 421
  },
  {
   "cell_type": "markdown",
   "source": [
    "- saving the answers as .txt for comparison by date & time: "
   ],
   "metadata": {
    "collapsed": false
   },
   "id": "8ce46fd91e648ac5"
  },
  {
   "cell_type": "code",
   "outputs": [],
   "source": [
    "file_name = str(datetime.now().strftime(\"%Y-%m-%d %H-%M-%S\"))\n",
    "\n",
    "with open(f'./data/answers/case1_{file_name}.txt', 'w') as f:\n",
    "    f.write(answer)"
   ],
   "metadata": {
    "collapsed": false,
    "ExecuteTime": {
     "end_time": "2024-03-13T13:56:52.172407Z",
     "start_time": "2024-03-13T13:56:52.166971Z"
    }
   },
   "id": "3b3b487f00e9d942",
   "execution_count": 402
  },
  {
   "cell_type": "markdown",
   "source": [
    "- cleanup"
   ],
   "metadata": {
    "collapsed": false
   },
   "id": "7cac9351d731c3b8"
  },
  {
   "cell_type": "code",
   "outputs": [],
   "source": [
    "rules_db.delete_collection()"
   ],
   "metadata": {
    "collapsed": false,
    "ExecuteTime": {
     "end_time": "2024-03-13T10:55:13.281690Z",
     "start_time": "2024-03-13T10:55:13.051952Z"
    }
   },
   "id": "1a87757a2c34e812",
   "execution_count": 310
  },
  {
   "cell_type": "markdown",
   "source": [
    "## Case 2a: Opalescence vs. Humility\n",
    "- timestamp rule determines the outcome: *Humility* is played last and it's effect overrides *Opalescence*"
   ],
   "metadata": {
    "collapsed": false
   },
   "id": "e36e3ada1a279f8d"
  },
  {
   "cell_type": "code",
   "outputs": [],
   "source": [
    "with open(\"./data/cards/Opalescence.json\", \"r\") as file:\n",
    "    card1 = file.read()\n",
    "\n",
    "with open(\"./data/cards/Humility.json\", \"r\") as file:\n",
    "    card2 = file.read()"
   ],
   "metadata": {
    "collapsed": false,
    "ExecuteTime": {
     "end_time": "2024-03-13T14:29:13.866546Z",
     "start_time": "2024-03-13T14:29:13.860103Z"
    }
   },
   "id": "bb6dbafea9a1b50f",
   "execution_count": 422
  },
  {
   "cell_type": "code",
   "outputs": [],
   "source": [
    "prompt_template = ChatPromptTemplate.from_template(\n",
    "    template=prompt_continuous_effects,\n",
    "    partial_variables={\"card1\": card1, \"card2\": card2},\n",
    ")"
   ],
   "metadata": {
    "collapsed": false,
    "ExecuteTime": {
     "end_time": "2024-03-13T14:29:14.868650Z",
     "start_time": "2024-03-13T14:29:14.864444Z"
    }
   },
   "id": "8866f2edf7bb637d",
   "execution_count": 423
  },
  {
   "cell_type": "code",
   "outputs": [
    {
     "name": "stdout",
     "output_type": "stream",
     "text": [
      "1. **Opalescence**:\n",
      "   - Oracle Text: Each other non-Aura enchantment is a creature in addition to its other types and has base power and base toughness each equal to its mana value.\n",
      "   - Comments: The card explains the interaction with **Humility** and provides examples of how the effects apply based on timestamp order.\n",
      "\n",
      "2. **Humility**:\n",
      "   - Oracle Text: All creatures lose all abilities and have base power and toughness 1/1.\n",
      "   - Comments: The card explains the interaction with **Opalescence** and provides examples of how the effects apply based on timestamp order.\n",
      "\n",
      "3. The effects of both cards are applied in different layers. The effect of **Opalescence** is applied in Layer 4, while the effect of **Humility** is applied in Layer 6.\n",
      "\n",
      "4. **Rule Choice: Layers (613.1 to 613.7)**\n",
      "   - This rule governs the order in which continuous effects are applied based on the layers defined in the game.\n",
      "\n",
      "5. **Judging Decision**:\n",
      "   - Based on the chosen rule of Layers, the continuous effect of **Humility** will be applied in the game. This means that all creatures will lose all abilities and have base power and toughness 1/1.\n",
      "\n",
      "6. **Explanation**:\n",
      "   - The decision to apply the effect of **Humility** over **Opalescence** is based on the layer system in Magic: The Gathering. Since **Humility**'s effect is applied in Layer 6, which comes after Layer 4 where **Opalescence**'s effect is applied, the effect of **Humility** takes precedence. This ruling ensures that all creatures on the battlefield will have their abilities removed and their power and toughness set to 1/1.\n"
     ]
    }
   ],
   "source": [
    "chain = ({\"rules_db\": retriever_rules, \"question\": RunnablePassthrough()} | prompt_template | model | StrOutputParser())\n",
    "answer = chain.invoke(\"What is the final board state of two cards played with continuous effects from Magic: the Gathering?\")\n",
    "print(answer)"
   ],
   "metadata": {
    "collapsed": false,
    "ExecuteTime": {
     "end_time": "2024-03-13T14:29:27.514053Z",
     "start_time": "2024-03-13T14:29:15.701517Z"
    }
   },
   "id": "b6b5a2e29d54be7b",
   "execution_count": 424
  },
  {
   "cell_type": "code",
   "outputs": [],
   "source": [
    "file_name = str(datetime.now().strftime(\"%Y-%m-%d %H-%M-%S\"))\n",
    "\n",
    "with open(f'./data/answers/case2_{file_name}.txt', 'w') as f:\n",
    "    f.write(answer)"
   ],
   "metadata": {
    "collapsed": false,
    "ExecuteTime": {
     "end_time": "2024-03-13T14:29:45.086384Z",
     "start_time": "2024-03-13T14:29:45.080140Z"
    }
   },
   "id": "f4c911c5fff90359",
   "execution_count": 425
  },
  {
   "cell_type": "markdown",
   "source": [
    "## Case 2b: Humility vs. Opalescence \n",
    "- because timestamp is important here, testing the case with changed order"
   ],
   "metadata": {
    "collapsed": false
   },
   "id": "8505e1378aea73aa"
  },
  {
   "cell_type": "code",
   "outputs": [],
   "source": [
    "with open(\"./data/cards/Humility.json\", \"r\") as file:\n",
    "    card1 = file.read()\n",
    "\n",
    "with open(\"./data/cards/Opalescence.json\", \"r\") as file:\n",
    "    card2 = file.read()"
   ],
   "metadata": {
    "collapsed": false,
    "ExecuteTime": {
     "end_time": "2024-03-13T14:29:48.785685Z",
     "start_time": "2024-03-13T14:29:48.778574Z"
    }
   },
   "id": "93922763012c8728",
   "execution_count": 426
  },
  {
   "cell_type": "code",
   "outputs": [],
   "source": [
    "prompt_template = ChatPromptTemplate.from_template(\n",
    "    template=prompt_continuous_effects,\n",
    "    partial_variables={\"card1\": card1, \"card2\": card2},\n",
    ")"
   ],
   "metadata": {
    "collapsed": false,
    "ExecuteTime": {
     "end_time": "2024-03-13T14:29:49.693551Z",
     "start_time": "2024-03-13T14:29:49.685759Z"
    }
   },
   "id": "7389ad16be09ca26",
   "execution_count": 427
  },
  {
   "cell_type": "code",
   "outputs": [
    {
     "name": "stdout",
     "output_type": "stream",
     "text": [
      "1. Oracle text and comments:\n",
      "- Humility: All creatures lose all abilities and have base power and toughness 1/1. Comments include detailed interactions with Opalescence and timestamp order effects.\n",
      "- Opalescence: Each other non-Aura enchantment is a creature in addition to its other types and has base power and base toughness each equal to its mana value. Comments include interactions with Humility and timestamp order effects.\n",
      "\n",
      "2. Determine the layer on which the effects of the cards are applied:\n",
      "The effects of Humility and Opalescence are applied in different layers according to the rules of Magic: The Gathering. Humility's effect of setting all creatures' power and toughness to 1/1 is applied in layer 7b, while Opalescence's effect of turning enchantments into creatures with power and toughness equal to their mana value is applied in layer 4.\n",
      "\n",
      "3. Rule choice:\n",
      "The most fitting rule to determine the outcome in this scenario is the Dependency rule (613.8). This rule states that if the effect of one card depends on the existence of another continuous effect, the dependent effect is only applied if the independent effect is also applied. In this case, the outcome of Humility's effect depends on the existence of Opalescence's effect.\n",
      "\n",
      "4. Summary of the chosen rule:\n",
      "Dependency (613.8): If the effect of one card depends on the existence of another continuous effect, the dependent effect is only applied if the independent effect is also applied.\n",
      "\n",
      "5. Judging regarding the chosen rule:\n",
      "The continuous effect of Opalescence is applied in the game. Quote: \"Each other non-Aura enchantment is a creature in addition to its other types and has base power and base toughness each equal to its mana value.\"\n",
      "\n",
      "6. Explanation:\n",
      "In this scenario, the outcome of Humility's effect is dependent on the existence of Opalescence's effect. Since Opalescence's effect is applied in layer 4 before Humility's effect in layer 7b, the creatures will be affected by Opalescence first, becoming creatures with power and toughness equal to their mana value. Therefore, the ruling follows the Dependency rule, and the continuous effect of Opalescence takes precedence in this situation.\n"
     ]
    }
   ],
   "source": [
    "chain = ({\"rules_db\": retriever_rules, \"question\": RunnablePassthrough()} | prompt_template | model | StrOutputParser())\n",
    "answer = chain.invoke(\"What is the outcome of two played cards with continuous effects from Magic: the Gathering?\")\n",
    "print(answer)"
   ],
   "metadata": {
    "collapsed": false,
    "ExecuteTime": {
     "end_time": "2024-03-13T14:30:00.625781Z",
     "start_time": "2024-03-13T14:29:50.696236Z"
    }
   },
   "id": "b2fa02271b9c4fa3",
   "execution_count": 428
  },
  {
   "cell_type": "code",
   "outputs": [],
   "source": [
    "file_name = str(datetime.now().strftime(\"%Y-%m-%d %H-%M-%S\"))\n",
    "\n",
    "with open(f'./data/answers/case2_{file_name}.txt', 'w') as f:\n",
    "    f.write(answer)"
   ],
   "metadata": {
    "collapsed": false,
    "ExecuteTime": {
     "end_time": "2024-03-13T13:57:42.160695Z",
     "start_time": "2024-03-13T13:57:42.155151Z"
    }
   },
   "id": "b9bb8f9747e17ec",
   "execution_count": 409
  },
  {
   "cell_type": "markdown",
   "source": [
    "- cleanup"
   ],
   "metadata": {
    "collapsed": false
   },
   "id": "998c2e0dd3e9df99"
  },
  {
   "cell_type": "code",
   "outputs": [],
   "source": [
    "rules_db.delete_collection()"
   ],
   "metadata": {
    "collapsed": false,
    "ExecuteTime": {
     "end_time": "2024-03-13T13:57:44.073665Z",
     "start_time": "2024-03-13T13:57:43.778260Z"
    }
   },
   "id": "ccc24138ef06e935",
   "execution_count": 410
  },
  {
   "cell_type": "code",
   "outputs": [],
   "source": [],
   "metadata": {
    "collapsed": false
   },
   "id": "efab702688675a3"
  }
 ],
 "metadata": {
  "kernelspec": {
   "display_name": "Python 3",
   "language": "python",
   "name": "python3"
  },
  "language_info": {
   "codemirror_mode": {
    "name": "ipython",
    "version": 2
   },
   "file_extension": ".py",
   "mimetype": "text/x-python",
   "name": "python",
   "nbconvert_exporter": "python",
   "pygments_lexer": "ipython2",
   "version": "2.7.6"
  }
 },
 "nbformat": 4,
 "nbformat_minor": 5
}
