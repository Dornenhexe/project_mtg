{
 "cells": [
  {
   "cell_type": "code",
   "execution_count": 90,
   "id": "initial_id",
   "metadata": {
    "collapsed": true,
    "ExecuteTime": {
     "end_time": "2024-03-12T15:20:49.634203Z",
     "start_time": "2024-03-12T15:20:49.627742Z"
    }
   },
   "outputs": [],
   "source": [
    "import requests\n",
    "import json\n",
    "import os\n",
    "\n",
    "from dotenv import load_dotenv\n",
    "\n",
    "from datetime import datetime\n",
    "\n",
    "from langchain_openai import ChatOpenAI, OpenAIEmbeddings\n",
    "from langchain.prompts import ChatPromptTemplate\n",
    "from langchain_community.document_loaders import TextLoader\n",
    "from langchain.text_splitter import RecursiveCharacterTextSplitter\n",
    "from langchain_community.vectorstores import Chroma\n",
    "from langchain_core.runnables import RunnablePassthrough\n",
    "from langchain_core.output_parsers import StrOutputParser"
   ]
  },
  {
   "cell_type": "code",
   "execution_count": 91,
   "outputs": [],
   "source": [
    "load_dotenv()\n",
    "openai_api_key = os.environ.get(\"OPENAI_API_KEY\")"
   ],
   "metadata": {
    "collapsed": false,
    "ExecuteTime": {
     "end_time": "2024-03-12T15:20:50.543907Z",
     "start_time": "2024-03-12T15:20:50.539835Z"
    }
   },
   "id": "a404e15cfa73ae92"
  },
  {
   "cell_type": "markdown",
   "source": [
    "## Card Data\n",
    "- Get card information via scryfall.com and delete unnecessary data: \n",
    "    - keep only: id, name, mana cost, converted mana cost, type, oracle text, colors, keywords\n",
    "    - add comments via id\n",
    "- save as .json"
   ],
   "metadata": {
    "collapsed": false
   },
   "id": "d870bfdac91bcf9e"
  },
  {
   "cell_type": "code",
   "outputs": [],
   "source": [
    "cards = [\"Urborg, Tomb of Yawgmoth\", \"Blood Moon\", \"Humility\", \"Opalescence\"]\n",
    "\n",
    "for card in cards:\n",
    "    response = requests.get(f'https://api.scryfall.com/cards/named?exact={card} ', \n",
    "                     headers={'Accept': 'application/json'})\n",
    "    if response.status_code == 200:\n",
    "        # Parse the JSON response into a Python dictionary to delete keywords\n",
    "        data = response.json()\n",
    "        keywords = [\"object\", \"oracle_id\", \"mtgo_foil_id\", \"rarity\", \"color_identity\", \"penny_rank\", \"multiverse_ids\", \"mtgo_id\", \"tcgplayer_id\", \"cardmarket_id\", \"lang\", \"released_at\", \"uri\", \"scryfall_uri\", \"layout\", \"frame_effects\", \"highres_image\", \"image_status\", \"image_uris\", \"legalities\", \"games\", \"reserved\", \"foil\", \"nonfoil\", \"finishes\", \"oversized\", \"promo\", \"reprint\", \"variation\", \"set_id\", \"set\", \"set_name\", \"set_type\", \"set_uri\", \"rulings_uri\", \"set_search_uri\", \"scryfall_set_uri\", \"prints_search_uri\", \"collector_number\", \"digital\", \"flavor_text\", \"card_back_id\", \"artist\", \"artist_ids\", \"illustration_id\", \"border_color\", \"frame\", \"security_stamp\", \"full_art\", \"textless\", \"booster\", \"story_spotlight\", \"edhrec_rank\", \"preview\", \"related_uris\", \"prices\", \"tcgplayer_infinite_articles\", \"tcgplayer_infinite_decks\", \"edhrec\", \"purchase_uris\", \"cardmarket\", \"cardhoarder\"]\n",
    "        for keyword in keywords:\n",
    "            if keyword in data:\n",
    "                del data[keyword]\n",
    "            \n",
    "        # convert into json dict\n",
    "        card = json.loads(json.dumps(data))\n",
    "        \n",
    "        # check for additional rulings via id\n",
    "        card_id = card.get('id')\n",
    "        if card_id:\n",
    "            response = requests.get(f'https://api.scryfall.com/cards/{card_id}/rulings', \n",
    "                     headers={'Accept': 'application/json'})\n",
    "        \n",
    "        # add additional rules to card\n",
    "            if response.status_code == 200:\n",
    "                data_rulings = response.json()\n",
    "                comments = [item.get('comment') for item in data_rulings.get('data', [])]\n",
    "                card['comments'] = comments\n",
    "        \n",
    "        card_name = card.get('name')\n",
    "        with open(f'./data/cards/{card_name}.json', 'w') as f:\n",
    "            json.dump(card, f)"
   ],
   "metadata": {
    "collapsed": false,
    "ExecuteTime": {
     "end_time": "2024-03-12T13:41:20.288786Z",
     "start_time": "2024-03-12T13:41:17.107342Z"
    }
   },
   "id": "e7513efbc0016c45",
   "execution_count": 87
  },
  {
   "cell_type": "markdown",
   "source": [
    "## Prompt\n",
    "- load prompt"
   ],
   "metadata": {
    "collapsed": false
   },
   "id": "b39fccbc222cd06f"
  },
  {
   "cell_type": "code",
   "outputs": [
    {
     "name": "stdout",
     "output_type": "stream",
     "text": [
      "\"\"\"\n",
      "You are judge (aka a referee) in a game of Magic: the Gathering. You will get a {question} regarding {card1} and {card2} and give an answer.\n",
      "Use the {rules_db} as context for your decision. {card1} and {card2} each contain information of a single Magic: The Gathering card.\n",
      "\n",
      "The following things are true:\n",
      "- {card1} and {card2} both have continuous effects.\n",
      "- Consider using the \"comments\" from {card1} and {card2}.\n",
      "- The \"type_line\" of the card could be relevant for ruling decision.\n",
      "- {card1} is played first and has the earlier timestamp, {card2} is played second and has the later timestamp. This may be relevant for the decision, but shouldn't influence your decision which rule to apply.\n",
      "\n",
      "\n",
      "You will follow these steps to make a decision:\n",
      "\n",
      "1. Give the oracle texts from both cards as well the comments.\n",
      "2. Determine the layer on which the effects of the cards are applied. Layers are defined in 613.1 in the {rules_db}.\n",
      "3. Decide which rule you think is fitting: Timestamp and Layers (613.1 to 613.7), Dependency (613.8) or Overriding of effects (613.9).\n",
      "4. Summarize the rule of your choosing.\n",
      "5. Give your judging regarding the chosen rule: The continuous effect of which card is applied in game: {card1} or {card2}? Quote the effects.\n",
      "6. Explain why you decided this way.\n",
      "\n",
      "\n",
      "\"\"\"\n"
     ]
    }
   ],
   "source": [
    "with open(\"prompt_continuouseffects.txt\", \"r\") as file:\n",
    "    prompt_continuous_effects = file.read()\n",
    "print(prompt_continuous_effects)"
   ],
   "metadata": {
    "collapsed": false,
    "ExecuteTime": {
     "end_time": "2024-03-12T16:02:10.414225Z",
     "start_time": "2024-03-12T16:02:10.409002Z"
    }
   },
   "id": "a848cd6d90e83b8e",
   "execution_count": 158
  },
  {
   "cell_type": "markdown",
   "source": [
    "## RAG\n",
    "= Retrieved Augmented Generation\n",
    "- ChatGPT's knowlegde of the rules is from January 2022: for current state the rulebook needs to be retrieved and passed to the LLM\n",
    "- this data can provide context for the specific questions\n",
    "### Loader\n",
    "- simple loader to load .txt data: complete rule book from Magic: The Gathering"
   ],
   "metadata": {
    "collapsed": false
   },
   "id": "3b59c02d1d84e5f6"
  },
  {
   "cell_type": "code",
   "outputs": [],
   "source": [
    "#loader = TextLoader(\"./data/rules_shortened.txt\")\n",
    "loader = TextLoader(\"./data/rules.txt\")\n",
    "rules_doc = loader.load()"
   ],
   "metadata": {
    "collapsed": false,
    "ExecuteTime": {
     "end_time": "2024-03-12T15:52:36.066611Z",
     "start_time": "2024-03-12T15:52:36.060882Z"
    }
   },
   "id": "27f00bbe91b18e9",
   "execution_count": 144
  },
  {
   "cell_type": "markdown",
   "source": [
    "### Splitter\n",
    "- splitting the text into smaller chunks\n",
    "- this text splitter splits text recursively by characters: [\"\\n\\n\", \"\\n\", \" \", \"\"], so first paragraphs, then sentences, then words\n",
    "- keeps semantically related pieces together as long as possible"
   ],
   "metadata": {
    "collapsed": false
   },
   "id": "90397fedb75ce76f"
  },
  {
   "cell_type": "code",
   "outputs": [],
   "source": [
    "text_splitter = RecursiveCharacterTextSplitter(chunk_size=1000, chunk_overlap=200)\n",
    "rules_splits = text_splitter.split_documents(rules_doc)\n",
    "# print(rules_splits[0])"
   ],
   "metadata": {
    "collapsed": false,
    "ExecuteTime": {
     "end_time": "2024-03-12T15:52:39.143506Z",
     "start_time": "2024-03-12T15:52:39.099678Z"
    }
   },
   "id": "b2ca6492e32cd42c",
   "execution_count": 145
  },
  {
   "cell_type": "markdown",
   "source": [
    "### Vector Store\n",
    "- for storage of the embeddings\n",
    "- embedding for capture semantic meaning of the text: that's how context is given for later question\n",
    "- OpenAI embedding for ChatGPT\n",
    "- Chroma as open-source embedding database\n",
    "- finally, construct a retriever out of vectorstore "
   ],
   "metadata": {
    "collapsed": false
   },
   "id": "359b9cfc6dddfddd"
  },
  {
   "cell_type": "code",
   "outputs": [],
   "source": [
    "rules_db = Chroma.from_documents(documents=rules_splits, embedding=OpenAIEmbeddings())\n",
    "retriever_rules = rules_db.as_retriever()"
   ],
   "metadata": {
    "collapsed": false,
    "ExecuteTime": {
     "end_time": "2024-03-12T15:52:55.022725Z",
     "start_time": "2024-03-12T15:52:42.141940Z"
    }
   },
   "id": "afb3d85ff7036f43",
   "execution_count": 146
  },
  {
   "cell_type": "markdown",
   "source": [
    "- create new LLM: temperature 0 for more consistent, non-creative and therefor comparable output"
   ],
   "metadata": {
    "collapsed": false
   },
   "id": "cd2d8fe25b5886d6"
  },
  {
   "cell_type": "code",
   "outputs": [],
   "source": [
    "model = ChatOpenAI(temperature=0, openai_api_key=openai_api_key)"
   ],
   "metadata": {
    "collapsed": false,
    "ExecuteTime": {
     "end_time": "2024-03-12T15:52:58.521129Z",
     "start_time": "2024-03-12T15:52:58.393205Z"
    }
   },
   "id": "f28c13e80fd1b991",
   "execution_count": 147
  },
  {
   "cell_type": "markdown",
   "source": [
    "## Case 1: Blood Moon vs. Urborg, Tomb of Yawgmoth\n",
    "- load card variables from saved data"
   ],
   "metadata": {
    "collapsed": false
   },
   "id": "6addb1af7246dfa4"
  },
  {
   "cell_type": "code",
   "outputs": [],
   "source": [
    "with open(\"./data/cards/Urborg, Tomb of Yawgmoth.json\", \"r\") as file:\n",
    "    card1 = file.read()\n",
    "\n",
    "with open(\"./data/cards/Blood Moon.json\", \"r\") as file:\n",
    "    card2 = file.read()"
   ],
   "metadata": {
    "collapsed": false,
    "ExecuteTime": {
     "end_time": "2024-03-12T16:02:16.718416Z",
     "start_time": "2024-03-12T16:02:16.713439Z"
    }
   },
   "id": "ef2501dbce11637e",
   "execution_count": 159
  },
  {
   "cell_type": "markdown",
   "source": [
    "- load template with prompt and card variables"
   ],
   "metadata": {
    "collapsed": false
   },
   "id": "98a7315dc7e175cd"
  },
  {
   "cell_type": "code",
   "outputs": [],
   "source": [
    "prompt_template = ChatPromptTemplate.from_template(\n",
    "    template=prompt_continuous_effects,\n",
    "    partial_variables={\"card1\": card1, \"card2\": card2},\n",
    ")"
   ],
   "metadata": {
    "collapsed": false,
    "ExecuteTime": {
     "end_time": "2024-03-12T16:02:21.870827Z",
     "start_time": "2024-03-12T16:02:21.866417Z"
    }
   },
   "id": "3bc09f69eb503566",
   "execution_count": 160
  },
  {
   "cell_type": "markdown",
   "source": [
    "- Outputparser to parse message response from Chatmodel to str\n",
    "- check testcases.md to compare expected outcome with ChatGPT's answer"
   ],
   "metadata": {
    "collapsed": false
   },
   "id": "5c09b5958862406e"
  },
  {
   "cell_type": "code",
   "outputs": [
    {
     "name": "stdout",
     "output_type": "stream",
     "text": [
      "1. Oracle texts and comments:\n",
      "- Urborg, Tomb of Yawgmoth: Each land is a Swamp in addition to its other land types. Comments: Urborg's ability causes each land on the battlefield to have the land type Swamp. Any land that's a Swamp has the ability \"{T}: Add {B}\". If an effect such as that of Magus of the Moon causes Urborg to lose its abilities by setting it to a basic land type not in addition to its other types, it won't turn lands into Swamps.\n",
      "- Blood Moon: Nonbasic lands are Mountains. Comments: Nonbasic lands will lose any other land types and abilities they had. They will gain the land type Mountain and gain the ability \"{T}: Add {R}\".\n",
      "\n",
      "2. Determine the layer on which the effects of the cards are applied:\n",
      "The effects of Urborg, Tomb of Yawgmoth and Blood Moon fall under the interaction of continuous effects, which are applied in layers according to the rules in 613.1.\n",
      "\n",
      "3. Decide which rule to apply:\n",
      "In this scenario, we will apply the rule of Dependency (613.8) as it deals with continuous effects that depend on one another.\n",
      "\n",
      "4. Rule summary:\n",
      "Dependency (613.8): Continuous effects are applied in dependency order, meaning that the effects are applied in a way that respects the dependencies between them.\n",
      "\n",
      "5. Judging:\n",
      "The continuous effect of Blood Moon, which turns nonbasic lands into Mountains, will be applied in the game. This is because the effect of Blood Moon does not depend on the effect of Urborg, Tomb of Yawgmoth, but rather stands on its own to change the land types.\n",
      "\n",
      "6. Explanation:\n",
      "In this case, the effect of Blood Moon takes precedence over Urborg, Tomb of Yawgmoth because it directly changes the land types to Mountains without being dependent on Urborg's effect. The Dependency rule ensures that effects are applied in a logical order that respects their dependencies, and in this scenario, the effect of Blood Moon is independent and therefore applied first.\n"
     ]
    }
   ],
   "source": [
    "chain = ({\"rules_db\": retriever_rules, \"question\": RunnablePassthrough()} | prompt_template | model | StrOutputParser())\n",
    "answer = chain.invoke(\"What is the final board state of two cards played with continuous effects from Magic: the Gathering?\")\n",
    "print(answer)"
   ],
   "metadata": {
    "collapsed": false,
    "ExecuteTime": {
     "end_time": "2024-03-12T16:02:32.978611Z",
     "start_time": "2024-03-12T16:02:24.415495Z"
    }
   },
   "id": "34c08b3114fab1dc",
   "execution_count": 161
  },
  {
   "cell_type": "markdown",
   "source": [
    "- saving the answers as .txt for comparison by date & time: "
   ],
   "metadata": {
    "collapsed": false
   },
   "id": "8ce46fd91e648ac5"
  },
  {
   "cell_type": "code",
   "outputs": [],
   "source": [
    "file_name = str(datetime.now().strftime(\"%Y-%m-%d %H-%M-%S\"))\n",
    "\n",
    "with open(f'./data/answers/case2_{file_name}.txt', 'w') as f:\n",
    "    f.write(answer)"
   ],
   "metadata": {
    "collapsed": false,
    "ExecuteTime": {
     "end_time": "2024-03-12T16:03:02.316421Z",
     "start_time": "2024-03-12T16:03:02.311739Z"
    }
   },
   "id": "3b3b487f00e9d942",
   "execution_count": 162
  },
  {
   "cell_type": "code",
   "outputs": [],
   "source": [
    "# cleanup\n",
    "rules_db.delete_collection()"
   ],
   "metadata": {
    "collapsed": false,
    "ExecuteTime": {
     "end_time": "2024-03-12T15:52:21.863450Z",
     "start_time": "2024-03-12T15:52:21.671983Z"
    }
   },
   "id": "1a87757a2c34e812",
   "execution_count": 142
  },
  {
   "cell_type": "markdown",
   "source": [
    "## Case 2a: Opalescence vs. Humility\n",
    "- timestamp rule determines the outcome: *Humility* is played last and it's effect overrides *Opalescence*"
   ],
   "metadata": {
    "collapsed": false
   },
   "id": "e36e3ada1a279f8d"
  },
  {
   "cell_type": "code",
   "outputs": [],
   "source": [
    "with open(\"./data/cards/Opalescence.json\", \"r\") as file:\n",
    "    card1 = file.read()\n",
    "\n",
    "with open(\"./data/cards/Humility.json\", \"r\") as file:\n",
    "    card2 = file.read()"
   ],
   "metadata": {
    "collapsed": false,
    "ExecuteTime": {
     "end_time": "2024-03-12T16:03:06.923408Z",
     "start_time": "2024-03-12T16:03:06.916012Z"
    }
   },
   "id": "bb6dbafea9a1b50f",
   "execution_count": 163
  },
  {
   "cell_type": "code",
   "outputs": [],
   "source": [
    "prompt_template = ChatPromptTemplate.from_template(\n",
    "    template=prompt_continuous_effects,\n",
    "    partial_variables={\"card1\": card1, \"card2\": card2},\n",
    ")"
   ],
   "metadata": {
    "collapsed": false,
    "ExecuteTime": {
     "end_time": "2024-03-12T16:03:08.966163Z",
     "start_time": "2024-03-12T16:03:08.961408Z"
    }
   },
   "id": "8866f2edf7bb637d",
   "execution_count": 164
  },
  {
   "cell_type": "code",
   "outputs": [
    {
     "name": "stdout",
     "output_type": "stream",
     "text": [
      "1. **Opalescence**:\n",
      "   - Oracle Text: Each other non-Aura enchantment is a creature in addition to its other types and has base power and base toughness each equal to its mana value.\n",
      "   - Comments: The interaction between Humility and Opalescence is explained, detailing the layering of effects and the outcomes based on timestamps.\n",
      "\n",
      "2. **Humility**:\n",
      "   - Oracle Text: All creatures lose all abilities and have base power and toughness 1/1.\n",
      "   - Comments: The interaction between Humility and Opalescence is described, including the layering of effects and the impact on creature abilities and power/toughness.\n",
      "\n",
      "3. The effects of both cards are applied in different layers, as described in the rules 613.1 to 613.7.\n",
      "\n",
      "4. **Rule of Choosing**: Layers (613.1 to 613.7)\n",
      "\n",
      "5. **Judging**:\n",
      "   The continuous effect of **Humility** is applied in the game. The effect states that all creatures lose all abilities and have base power and toughness 1/1. This means that regardless of the timestamp order, all creatures will be affected by Humility's effect, reducing their power and toughness to 1/1 and removing all abilities.\n",
      "\n",
      "6. **Explanation**:\n",
      "   In this scenario, the layering rules dictate that the effect of Humility takes precedence over Opalescence. Since Humility's effect applies to all creatures on the battlefield, it will override the power and toughness adjustments made by Opalescence. Therefore, all creatures will be 1/1 with no abilities due to the continuous effect of Humility.\n"
     ]
    }
   ],
   "source": [
    "chain = ({\"rules_db\": retriever_rules, \"question\": RunnablePassthrough()} | prompt_template | model | StrOutputParser())\n",
    "answer = chain.invoke(\"What is the final board state of two cards played with continuous effects from Magic: the Gathering?\")\n",
    "print(answer)"
   ],
   "metadata": {
    "collapsed": false,
    "ExecuteTime": {
     "end_time": "2024-03-12T16:03:18.792503Z",
     "start_time": "2024-03-12T16:03:11.700427Z"
    }
   },
   "id": "b6b5a2e29d54be7b",
   "execution_count": 165
  },
  {
   "cell_type": "code",
   "outputs": [],
   "source": [
    "file_name = str(datetime.now().strftime(\"%Y-%m-%d %H-%M-%S\"))\n",
    "\n",
    "with open(f'./data/answers/case2_{file_name}.txt', 'w') as f:\n",
    "    f.write(answer)"
   ],
   "metadata": {
    "collapsed": false,
    "ExecuteTime": {
     "end_time": "2024-03-12T16:03:28.633378Z",
     "start_time": "2024-03-12T16:03:28.627829Z"
    }
   },
   "id": "f4c911c5fff90359",
   "execution_count": 166
  },
  {
   "cell_type": "markdown",
   "source": [
    "## Case 2b: Humility vs. Opalescence \n",
    "- because timestamp is important here, testing the case with changed order"
   ],
   "metadata": {
    "collapsed": false
   },
   "id": "8505e1378aea73aa"
  },
  {
   "cell_type": "code",
   "outputs": [],
   "source": [
    "with open(\"./data/cards/Humility.json\", \"r\") as file:\n",
    "    card1 = file.read()\n",
    "\n",
    "with open(\"./data/cards/Opalescence.json\", \"r\") as file:\n",
    "    card2 = file.read()"
   ],
   "metadata": {
    "collapsed": false,
    "ExecuteTime": {
     "end_time": "2024-03-12T16:03:32.389279Z",
     "start_time": "2024-03-12T16:03:32.383099Z"
    }
   },
   "id": "93922763012c8728",
   "execution_count": 167
  },
  {
   "cell_type": "code",
   "outputs": [],
   "source": [
    "prompt_template = ChatPromptTemplate.from_template(\n",
    "    template=prompt_continuous_effects,\n",
    "    partial_variables={\"card1\": card1, \"card2\": card2},\n",
    ")"
   ],
   "metadata": {
    "collapsed": false,
    "ExecuteTime": {
     "end_time": "2024-03-12T16:03:34.527108Z",
     "start_time": "2024-03-12T16:03:34.522811Z"
    }
   },
   "id": "7389ad16be09ca26",
   "execution_count": 168
  },
  {
   "cell_type": "code",
   "outputs": [
    {
     "name": "stdout",
     "output_type": "stream",
     "text": [
      "1. Oracle texts and comments:\n",
      "- Humility: All creatures lose all abilities and have base power and toughness 1/1.\n",
      "- Opalescence: Each other non-Aura enchantment is a creature in addition to its other types and has base power and base toughness each equal to its mana value.\n",
      "- Comments: The interaction between Humility and Opalescence involves layer 4 for type-changing effects, with the rest happening in subsequent layers. The outcome depends on the timestamp order of the cards on the battlefield.\n",
      "\n",
      "2. Layers:\n",
      "The effects of Humility and Opalescence are applied in different layers according to the rules of Magic: The Gathering. Humility's effect of removing all abilities and setting power/toughness to 1/1 is applied in layer 6, while Opalescence's effect of turning enchantments into creatures with power/toughness equal to their mana value is applied in layer 4.\n",
      "\n",
      "3. Rule choice:\n",
      "Considering the interaction between Humility and Opalescence, the most appropriate rule to apply is the Timestamp and Layers rule (613.1 to 613.7). This rule determines the order in which continuous effects are applied based on their timestamps.\n",
      "\n",
      "4. Summary of the rule:\n",
      "The Timestamp and Layers rule states that continuous effects are applied in a specific order based on their timestamps. Effects with earlier timestamps are applied first, followed by effects with later timestamps. This ensures consistency and fairness in resolving conflicting continuous effects.\n",
      "\n",
      "5. Judging:\n",
      "Based on the chosen rule, the continuous effect of the card with the earlier timestamp takes precedence. In this case, since Humility was played first and has the earlier timestamp, its effect of setting all creatures to 1/1 with no abilities would be applied over Opalescence's effect. Therefore, in the game scenario described, all creatures would be 1/1 with no abilities due to Humility's continuous effect.\n",
      "\n",
      "6. Explanation:\n",
      "By applying the Timestamp and Layers rule, we ensure that the game state is resolved in a consistent and fair manner. In this specific case, Humility's effect takes precedence over Opalescence's effect due to its earlier timestamp, resulting in all creatures being 1/1 with no abilities. This ruling maintains the integrity of the game and follows the established rules of Magic: The Gathering.\n"
     ]
    }
   ],
   "source": [
    "chain = ({\"rules_db\": retriever_rules, \"question\": RunnablePassthrough()} | prompt_template | model | StrOutputParser())\n",
    "answer = chain.invoke(\"What is the outcome of two played cards with continuous effects from Magic: the Gathering?\")\n",
    "print(answer)"
   ],
   "metadata": {
    "collapsed": false,
    "ExecuteTime": {
     "end_time": "2024-03-12T16:03:47.634100Z",
     "start_time": "2024-03-12T16:03:37.295836Z"
    }
   },
   "id": "b2fa02271b9c4fa3",
   "execution_count": 169
  },
  {
   "cell_type": "code",
   "outputs": [],
   "source": [
    "file_name = str(datetime.now().strftime(\"%Y-%m-%d %H-%M-%S\"))\n",
    "\n",
    "with open(f'./data/answers/case2_{file_name}.txt', 'w') as f:\n",
    "    f.write(answer)"
   ],
   "metadata": {
    "collapsed": false,
    "ExecuteTime": {
     "end_time": "2024-03-12T16:04:12.974133Z",
     "start_time": "2024-03-12T16:04:12.967990Z"
    }
   },
   "id": "b9bb8f9747e17ec",
   "execution_count": 170
  },
  {
   "cell_type": "code",
   "outputs": [],
   "source": [
    "# cleanup\n",
    "rules_db.delete_collection()"
   ],
   "metadata": {
    "collapsed": false,
    "ExecuteTime": {
     "end_time": "2024-03-12T16:04:16.739444Z",
     "start_time": "2024-03-12T16:04:16.525325Z"
    }
   },
   "id": "ccc24138ef06e935",
   "execution_count": 171
  },
  {
   "cell_type": "code",
   "outputs": [],
   "source": [],
   "metadata": {
    "collapsed": false
   },
   "id": "efab702688675a3"
  }
 ],
 "metadata": {
  "kernelspec": {
   "display_name": "Python 3",
   "language": "python",
   "name": "python3"
  },
  "language_info": {
   "codemirror_mode": {
    "name": "ipython",
    "version": 2
   },
   "file_extension": ".py",
   "mimetype": "text/x-python",
   "name": "python",
   "nbconvert_exporter": "python",
   "pygments_lexer": "ipython2",
   "version": "2.7.6"
  }
 },
 "nbformat": 4,
 "nbformat_minor": 5
}
