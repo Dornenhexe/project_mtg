{
 "cells": [
  {
   "cell_type": "code",
   "id": "initial_id",
   "metadata": {
    "collapsed": true
   },
   "source": [
    "import requests\n",
    "import json\n",
    "import os\n",
    "\n",
    "from dotenv import load_dotenv\n",
    "\n",
    "from datetime import datetime\n",
    "\n",
    "from langchain_openai import ChatOpenAI, OpenAIEmbeddings\n",
    "from langchain.prompts import ChatPromptTemplate\n",
    "from langchain_community.document_loaders import TextLoader\n",
    "from langchain.text_splitter import RecursiveCharacterTextSplitter\n",
    "from langchain_community.vectorstores import Chroma\n",
    "from langchain_core.runnables import RunnablePassthrough\n",
    "from langchain_core.output_parsers import StrOutputParser"
   ],
   "outputs": [],
   "execution_count": null
  },
  {
   "cell_type": "code",
   "source": [
    "load_dotenv()\n",
    "openai_api_key = os.environ.get(\"OPENAI_API_KEY\")"
   ],
   "metadata": {
    "collapsed": false
   },
   "id": "a404e15cfa73ae92",
   "outputs": [],
   "execution_count": null
  },
  {
   "cell_type": "markdown",
   "source": [
    "## Card Data\n",
    "- Get card information via scryfall.com and delete unnecessary data: \n",
    "    - keep only: id, name, mana cost, converted mana cost, type, oracle text, colors, keywords\n",
    "    - add comments via id\n",
    "- save as .json"
   ],
   "metadata": {
    "collapsed": false
   },
   "id": "d870bfdac91bcf9e"
  },
  {
   "cell_type": "code",
   "source": [
    "cards = [\"Urborg, Tomb of Yawgmoth\", \"Blood Moon\", \"Humility\", \"Opalescence\"]\n",
    "\n",
    "for card in cards:\n",
    "    response = requests.get(f'https://api.scryfall.com/cards/named?exact={card} ', \n",
    "                     headers={'Accept': 'application/json'})\n",
    "    if response.status_code == 200:\n",
    "        # Parse the JSON response into a Python dictionary to delete keywords\n",
    "        data = response.json()\n",
    "        keywords = [\"object\", \"oracle_id\", \"mtgo_foil_id\", \"rarity\", \"color_identity\", \"penny_rank\", \"multiverse_ids\", \"mtgo_id\", \"tcgplayer_id\", \"cardmarket_id\", \"lang\", \"released_at\", \"uri\", \"scryfall_uri\", \"layout\", \"frame_effects\", \"highres_image\", \"image_status\", \"image_uris\", \"legalities\", \"games\", \"reserved\", \"foil\", \"nonfoil\", \"finishes\", \"oversized\", \"promo\", \"reprint\", \"variation\", \"set_id\", \"set\", \"set_name\", \"set_type\", \"set_uri\", \"rulings_uri\", \"set_search_uri\", \"scryfall_set_uri\", \"prints_search_uri\", \"collector_number\", \"digital\", \"flavor_text\", \"card_back_id\", \"artist\", \"artist_ids\", \"illustration_id\", \"border_color\", \"frame\", \"security_stamp\", \"full_art\", \"textless\", \"booster\", \"story_spotlight\", \"edhrec_rank\", \"preview\", \"related_uris\", \"prices\", \"tcgplayer_infinite_articles\", \"tcgplayer_infinite_decks\", \"edhrec\", \"purchase_uris\", \"cardmarket\", \"cardhoarder\"]\n",
    "        for keyword in keywords:\n",
    "            if keyword in data:\n",
    "                del data[keyword]\n",
    "            \n",
    "        # convert into json dict\n",
    "        card = json.loads(json.dumps(data))\n",
    "        \n",
    "        # check for additional rulings via id\n",
    "        card_id = card.get('id')\n",
    "        if card_id:\n",
    "            response = requests.get(f'https://api.scryfall.com/cards/{card_id}/rulings', \n",
    "                     headers={'Accept': 'application/json'})\n",
    "        \n",
    "        # add additional rules to card\n",
    "            if response.status_code == 200:\n",
    "                data_rulings = response.json()\n",
    "                comments = [item.get('comment') for item in data_rulings.get('data', [])]\n",
    "                card['comments'] = comments\n",
    "        \n",
    "        card_name = card.get('name')\n",
    "        with open(f'./data/cards/{card_name}.json', 'w') as f:\n",
    "            json.dump(card, f)"
   ],
   "metadata": {
    "collapsed": false
   },
   "id": "e7513efbc0016c45",
   "outputs": [],
   "execution_count": null
  },
  {
   "cell_type": "markdown",
   "source": [
    "## Prompt\n",
    "- load prompt"
   ],
   "metadata": {
    "collapsed": false
   },
   "id": "b39fccbc222cd06f"
  },
  {
   "cell_type": "code",
   "source": [
    "with open(\"prompt_continuouseffects.txt\", \"r\") as file:\n",
    "    prompt_continuous_effects = file.read()\n",
    "print(prompt_continuous_effects)"
   ],
   "metadata": {
    "collapsed": false
   },
   "id": "a848cd6d90e83b8e",
   "outputs": [],
   "execution_count": null
  },
  {
   "cell_type": "markdown",
   "source": [
    "## RAG\n",
    "= Retrieved Augmented Generation\n",
    "- ChatGPT's knowlegde of the rules is from January 2022: for current state the rulebook needs to be retrieved and passed to the LLM\n",
    "- this data can provide context for the specific questions\n",
    "### Loader\n",
    "- simple loader to load .txt data: complete rule book from Magic: The Gathering"
   ],
   "metadata": {
    "collapsed": false
   },
   "id": "3b59c02d1d84e5f6"
  },
  {
   "cell_type": "code",
   "source": [
    "#loader = TextLoader(\"./data/rules_shortened.txt\")\n",
    "loader = TextLoader(\"./data/rules.txt\")\n",
    "rules_doc = loader.load()"
   ],
   "metadata": {
    "collapsed": false
   },
   "id": "27f00bbe91b18e9",
   "outputs": [],
   "execution_count": null
  },
  {
   "cell_type": "markdown",
   "source": [
    "### Splitter\n",
    "- splitting the text into smaller chunks\n",
    "- this text splitter splits text recursively by characters: [\"\\n\\n\", \"\\n\", \" \", \"\"], so first paragraphs, then sentences, then words\n",
    "- keeps semantically related pieces together as long as possible"
   ],
   "metadata": {
    "collapsed": false
   },
   "id": "90397fedb75ce76f"
  },
  {
   "cell_type": "code",
   "source": [
    "text_splitter = RecursiveCharacterTextSplitter(chunk_size=1000, chunk_overlap=200)\n",
    "rules_splits = text_splitter.split_documents(rules_doc)\n",
    "print(rules_splits[0])"
   ],
   "metadata": {
    "collapsed": false
   },
   "id": "b2ca6492e32cd42c",
   "outputs": [],
   "execution_count": null
  },
  {
   "cell_type": "markdown",
   "source": [
    "### Vector Store\n",
    "- for storage of the embeddings\n",
    "- embedding for capture semantic meaning of the text: that's how context is given for later question\n",
    "- OpenAI embedding for ChatGPT\n",
    "- Chroma as open-source embedding database\n",
    "- finally, construct a retriever out of vectorstore "
   ],
   "metadata": {
    "collapsed": false
   },
   "id": "359b9cfc6dddfddd"
  },
  {
   "cell_type": "code",
   "source": [
    "rules_db = Chroma.from_documents(documents=rules_splits, embedding=OpenAIEmbeddings())\n",
    "retriever_rules = rules_db.as_retriever()"
   ],
   "metadata": {
    "collapsed": false
   },
   "id": "afb3d85ff7036f43",
   "outputs": [],
   "execution_count": null
  },
  {
   "cell_type": "markdown",
   "source": [
    "- create new LLM: temperature 0 for more consistent, non-creative and therefor comparable output"
   ],
   "metadata": {
    "collapsed": false
   },
   "id": "cd2d8fe25b5886d6"
  },
  {
   "cell_type": "code",
   "source": [
    "model = ChatOpenAI(temperature=0, openai_api_key=openai_api_key)"
   ],
   "metadata": {
    "collapsed": false
   },
   "id": "f28c13e80fd1b991",
   "outputs": [],
   "execution_count": null
  },
  {
   "cell_type": "markdown",
   "source": [
    "## Case 1: Blood Moon vs. Urborg, Tomb of Yawgmoth\n",
    "- load card variables from saved data"
   ],
   "metadata": {
    "collapsed": false
   },
   "id": "6addb1af7246dfa4"
  },
  {
   "cell_type": "code",
   "source": [
    "with open(\"./data/cards/Urborg, Tomb of Yawgmoth.json\", \"r\") as file:\n",
    "    card1 = file.read()\n",
    "\n",
    "with open(\"./data/cards/Blood Moon.json\", \"r\") as file:\n",
    "    card2 = file.read()"
   ],
   "metadata": {
    "collapsed": false
   },
   "id": "ef2501dbce11637e",
   "outputs": [],
   "execution_count": null
  },
  {
   "cell_type": "markdown",
   "source": [
    "- load template with prompt and card variables"
   ],
   "metadata": {
    "collapsed": false
   },
   "id": "98a7315dc7e175cd"
  },
  {
   "cell_type": "code",
   "source": [
    "prompt_template = ChatPromptTemplate.from_template(\n",
    "    template=prompt_continuous_effects,\n",
    "    partial_variables={\"card1\": card1, \"card2\": card2},\n",
    ")"
   ],
   "metadata": {
    "collapsed": false
   },
   "id": "3bc09f69eb503566",
   "outputs": [],
   "execution_count": null
  },
  {
   "cell_type": "markdown",
   "source": [
    "- Outputparser to parse message response from Chatmodel to str\n",
    "- check testcases.md to compare expected outcome with ChatGPT's answer"
   ],
   "metadata": {
    "collapsed": false
   },
   "id": "5c09b5958862406e"
  },
  {
   "cell_type": "code",
   "source": [
    "chain = ({\"rules_db\": retriever_rules, \"question\": RunnablePassthrough()} | prompt_template | model | StrOutputParser())\n",
    "answer = chain.invoke(\"What is the final board state of two cards played with continuous effects from Magic: the Gathering?\")\n",
    "print(answer)"
   ],
   "metadata": {
    "collapsed": false
   },
   "id": "34c08b3114fab1dc",
   "outputs": [],
   "execution_count": null
  },
  {
   "cell_type": "markdown",
   "source": [
    "- saving the answers as .txt for comparison by date & time: "
   ],
   "metadata": {
    "collapsed": false
   },
   "id": "8ce46fd91e648ac5"
  },
  {
   "cell_type": "code",
   "source": [
    "file_name = str(datetime.now().strftime(\"%Y-%m-%d %H-%M-%S\"))\n",
    "\n",
    "with open(f'./data/answers/case1_{file_name}.txt', 'w') as f:\n",
    "    f.write(answer)"
   ],
   "metadata": {
    "collapsed": false
   },
   "id": "3b3b487f00e9d942",
   "outputs": [],
   "execution_count": null
  },
  {
   "cell_type": "markdown",
   "source": [
    "- cleanup"
   ],
   "metadata": {
    "collapsed": false
   },
   "id": "7cac9351d731c3b8"
  },
  {
   "cell_type": "code",
   "source": [
    "rules_db.delete_collection()"
   ],
   "metadata": {
    "collapsed": false
   },
   "id": "1a87757a2c34e812",
   "outputs": [],
   "execution_count": null
  },
  {
   "cell_type": "markdown",
   "source": [
    "## Case 2a: Opalescence vs. Humility\n",
    "- timestamp rule determines the outcome: *Humility* is played last and it's effect overrides *Opalescence*"
   ],
   "metadata": {
    "collapsed": false
   },
   "id": "e36e3ada1a279f8d"
  },
  {
   "cell_type": "code",
   "source": [
    "with open(\"./data/cards/Opalescence.json\", \"r\") as file:\n",
    "    card1 = file.read()\n",
    "\n",
    "with open(\"./data/cards/Humility.json\", \"r\") as file:\n",
    "    card2 = file.read()"
   ],
   "metadata": {
    "collapsed": false
   },
   "id": "bb6dbafea9a1b50f",
   "outputs": [],
   "execution_count": null
  },
  {
   "cell_type": "code",
   "source": [
    "prompt_template = ChatPromptTemplate.from_template(\n",
    "    template=prompt_continuous_effects,\n",
    "    partial_variables={\"card1\": card1, \"card2\": card2},\n",
    ")"
   ],
   "metadata": {
    "collapsed": false
   },
   "id": "8866f2edf7bb637d",
   "outputs": [],
   "execution_count": null
  },
  {
   "cell_type": "code",
   "source": [
    "chain = ({\"rules_db\": retriever_rules, \"question\": RunnablePassthrough()} | prompt_template | model | StrOutputParser())\n",
    "answer = chain.invoke(\"What is the final board state of two cards played with continuous effects from Magic: the Gathering?\")\n",
    "print(answer)"
   ],
   "metadata": {
    "collapsed": false
   },
   "id": "b6b5a2e29d54be7b",
   "outputs": [],
   "execution_count": null
  },
  {
   "cell_type": "code",
   "source": [
    "file_name = str(datetime.now().strftime(\"%Y-%m-%d %H-%M-%S\"))\n",
    "\n",
    "with open(f'./data/answers/case2_{file_name}.txt', 'w') as f:\n",
    "    f.write(answer)"
   ],
   "metadata": {
    "collapsed": false
   },
   "id": "f4c911c5fff90359",
   "outputs": [],
   "execution_count": null
  },
  {
   "cell_type": "markdown",
   "source": [
    "## Case 2b: Humility vs. Opalescence \n",
    "- because timestamp is important here, testing the case with changed order"
   ],
   "metadata": {
    "collapsed": false
   },
   "id": "8505e1378aea73aa"
  },
  {
   "cell_type": "code",
   "source": [
    "with open(\"./data/cards/Humility.json\", \"r\") as file:\n",
    "    card1 = file.read()\n",
    "\n",
    "with open(\"./data/cards/Opalescence.json\", \"r\") as file:\n",
    "    card2 = file.read()"
   ],
   "metadata": {
    "collapsed": false
   },
   "id": "93922763012c8728",
   "outputs": [],
   "execution_count": null
  },
  {
   "cell_type": "code",
   "source": [
    "prompt_template = ChatPromptTemplate.from_template(\n",
    "    template=prompt_continuous_effects,\n",
    "    partial_variables={\"card1\": card1, \"card2\": card2},\n",
    ")"
   ],
   "metadata": {
    "collapsed": false
   },
   "id": "7389ad16be09ca26",
   "outputs": [],
   "execution_count": null
  },
  {
   "cell_type": "code",
   "source": [
    "chain = ({\"rules_db\": retriever_rules, \"question\": RunnablePassthrough()} | prompt_template | model | StrOutputParser())\n",
    "answer = chain.invoke(\"What is the outcome of two played cards with continuous effects from Magic: the Gathering?\")\n",
    "print(answer)"
   ],
   "metadata": {
    "collapsed": false
   },
   "id": "b2fa02271b9c4fa3",
   "outputs": [],
   "execution_count": null
  },
  {
   "cell_type": "code",
   "source": [
    "file_name = str(datetime.now().strftime(\"%Y-%m-%d %H-%M-%S\"))\n",
    "\n",
    "with open(f'./data/answers/case2_{file_name}.txt', 'w') as f:\n",
    "    f.write(answer)"
   ],
   "metadata": {
    "collapsed": false
   },
   "id": "b9bb8f9747e17ec",
   "outputs": [],
   "execution_count": null
  },
  {
   "cell_type": "markdown",
   "source": [
    "- cleanup"
   ],
   "metadata": {
    "collapsed": false
   },
   "id": "998c2e0dd3e9df99"
  },
  {
   "cell_type": "code",
   "source": [
    "rules_db.delete_collection()"
   ],
   "metadata": {
    "collapsed": false
   },
   "id": "ccc24138ef06e935",
   "outputs": [],
   "execution_count": null
  },
  {
   "cell_type": "code",
   "source": [],
   "metadata": {
    "collapsed": false
   },
   "id": "efab702688675a3",
   "outputs": [],
   "execution_count": null
  }
 ],
 "metadata": {
  "kernelspec": {
   "display_name": "Python 3",
   "language": "python",
   "name": "python3"
  },
  "language_info": {
   "codemirror_mode": {
    "name": "ipython",
    "version": 2
   },
   "file_extension": ".py",
   "mimetype": "text/x-python",
   "name": "python",
   "nbconvert_exporter": "python",
   "pygments_lexer": "ipython2",
   "version": "2.7.6"
  }
 },
 "nbformat": 4,
 "nbformat_minor": 5
}
