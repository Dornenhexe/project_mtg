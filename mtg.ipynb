{
 "cells": [
  {
   "cell_type": "code",
   "execution_count": 10,
   "id": "initial_id",
   "metadata": {
    "collapsed": true,
    "ExecuteTime": {
     "end_time": "2024-02-19T15:46:58.529185594Z",
     "start_time": "2024-02-19T15:46:57.817748597Z"
    }
   },
   "outputs": [],
   "source": [
    "from openai import OpenAI\n",
    "# from langchain.chat_models import ChatOpenAI\n",
    "from langchain_openai import OpenAI\n",
    "from langchain.prompts import PromptTemplate\n",
    "from langchain.chains import LLMChain\n"
   ]
  },
  {
   "cell_type": "code",
   "execution_count": 11,
   "outputs": [],
   "source": [
    "import os\n",
    "from dotenv import load_dotenv"
   ],
   "metadata": {
    "collapsed": false,
    "ExecuteTime": {
     "end_time": "2024-02-19T15:47:00.565456799Z",
     "start_time": "2024-02-19T15:47:00.549936022Z"
    }
   },
   "id": "71960520b40c6440"
  },
  {
   "cell_type": "code",
   "execution_count": 12,
   "outputs": [],
   "source": [
    "load_dotenv()\n",
    "openai_api_key = os.environ.get(\"OPENAI_API_KEY\")"
   ],
   "metadata": {
    "collapsed": false,
    "ExecuteTime": {
     "end_time": "2024-02-19T15:47:01.894404420Z",
     "start_time": "2024-02-19T15:47:01.882276310Z"
    }
   },
   "id": "a404e15cfa73ae92"
  },
  {
   "cell_type": "markdown",
   "source": [
    "create Template "
   ],
   "metadata": {
    "collapsed": false
   },
   "id": "d1a777bab8405cc6"
  },
  {
   "cell_type": "code",
   "outputs": [],
   "source": [
    "template = \"\"\"What is a good name for a company that makes {product}?\"\"\"\n",
    "product = \"socks\"\n",
    "prompt_template = PromptTemplate.from_template(template)\n",
    "#prompt_template.format(product=\"socks\")\n",
    "\n",
    "prompt_test = PromptTemplate.from_template(template)"
   ],
   "metadata": {
    "collapsed": false,
    "ExecuteTime": {
     "end_time": "2024-02-19T15:54:08.924045429Z",
     "start_time": "2024-02-19T15:54:08.881440744Z"
    }
   },
   "id": "7ad1bcd43031b2b4",
   "execution_count": 22
  },
  {
   "cell_type": "markdown",
   "source": [
    "create new LLM, insert prompt and start chain"
   ],
   "metadata": {
    "collapsed": false
   },
   "id": "2993b5ce201e5d00"
  },
  {
   "cell_type": "code",
   "outputs": [],
   "source": [
    "llm = OpenAI(openai_api_key=openai_api_key)"
   ],
   "metadata": {
    "collapsed": false,
    "ExecuteTime": {
     "end_time": "2024-02-19T15:52:26.616225638Z",
     "start_time": "2024-02-19T15:52:26.487605728Z"
    }
   },
   "id": "cda84ddd25f56030",
   "execution_count": 20
  },
  {
   "cell_type": "code",
   "outputs": [
    {
     "data": {
      "text/plain": "{'product': 'socks', 'text': '\\n\\n\"Solemates Socks Co.\"'}"
     },
     "execution_count": 24,
     "metadata": {},
     "output_type": "execute_result"
    }
   ],
   "source": [
    "llm_chain = LLMChain(prompt=prompt_test, llm=llm)\n",
    "llm_chain.invoke(product)"
   ],
   "metadata": {
    "collapsed": false,
    "ExecuteTime": {
     "end_time": "2024-02-19T15:55:06.079694078Z",
     "start_time": "2024-02-19T15:55:05.356125757Z"
    }
   },
   "id": "9f4b1c8379def9b7",
   "execution_count": 24
  },
  {
   "cell_type": "code",
   "execution_count": null,
   "outputs": [],
   "source": [],
   "metadata": {
    "collapsed": false
   },
   "id": "34fca8a77568175c"
  }
 ],
 "metadata": {
  "kernelspec": {
   "display_name": "Python 3",
   "language": "python",
   "name": "python3"
  },
  "language_info": {
   "codemirror_mode": {
    "name": "ipython",
    "version": 2
   },
   "file_extension": ".py",
   "mimetype": "text/x-python",
   "name": "python",
   "nbconvert_exporter": "python",
   "pygments_lexer": "ipython2",
   "version": "2.7.6"
  }
 },
 "nbformat": 4,
 "nbformat_minor": 5
}
