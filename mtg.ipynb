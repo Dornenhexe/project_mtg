{
 "cells": [
  {
   "cell_type": "code",
   "execution_count": 1,
   "id": "initial_id",
   "metadata": {
    "collapsed": true,
    "ExecuteTime": {
     "end_time": "2024-03-08T12:40:03.334449Z",
     "start_time": "2024-03-08T12:40:00.982815Z"
    }
   },
   "outputs": [],
   "source": [
    "import requests\n",
    "import json\n",
    "import os\n",
    "\n",
    "from dotenv import load_dotenv\n",
    "\n",
    "from datetime import datetime\n",
    "\n",
    "from langchain_openai import OpenAI, ChatOpenAI, OpenAIEmbeddings\n",
    "from langchain.prompts import PromptTemplate, ChatPromptTemplate\n",
    "from langchain.chains import LLMChain\n",
    "\n",
    "from langchain_community.document_loaders import TextLoader\n",
    "from langchain.text_splitter import RecursiveCharacterTextSplitter\n",
    "from langchain_community.vectorstores import Chroma\n",
    "from langchain_core.runnables import RunnablePassthrough\n",
    "from langchain_core.output_parsers import StrOutputParser\n"
   ]
  },
  {
   "cell_type": "code",
   "execution_count": 3,
   "outputs": [],
   "source": [
    "load_dotenv()\n",
    "openai_api_key = os.environ.get(\"OPENAI_API_KEY\")"
   ],
   "metadata": {
    "collapsed": false,
    "ExecuteTime": {
     "end_time": "2024-03-08T12:40:14.056322Z",
     "start_time": "2024-03-08T12:40:14.051698Z"
    }
   },
   "id": "a404e15cfa73ae92"
  },
  {
   "cell_type": "markdown",
   "source": [
    "## Prompt\n",
    "- load prompt\n",
    "- load template with prompt"
   ],
   "metadata": {
    "collapsed": false
   },
   "id": "b39fccbc222cd06f"
  },
  {
   "cell_type": "code",
   "outputs": [
    {
     "name": "stdout",
     "output_type": "stream",
     "text": [
      "\"\"\"\n",
      "You will get two cards from the cardgame Magic: the Gathering. {card1} and {card2} both have continuous effects.\n",
      "You can assume that {card1} is played first, therefor has the earlier timestamp.\n",
      "Use the {rules_db} as context for your decision.\n",
      "You will get a {question} about two cards and have to make a decision.\n",
      "\n",
      "You will follow these steps:\n",
      "\n",
      "1. Give the oracle texts from both cards.\n",
      "2. Determine the layer on which the effects of the cards are applied. Layers are defined in 613.1 in the {rules_db}.\n",
      "3. Decide which you rule fitting: Timestamp and Layers (613.1 to 613.7), Dependency (613.8) or Overriding of effects (613.9).\n",
      "4. Give your judging: The continuous effect of which card is applied in game: {card1} or {card2}? Quote the effects.\n",
      "5. Explain why you decided this way.\n",
      "6. Quote the rule you used for your decision.\n",
      "\n",
      "\"\"\"\n"
     ]
    }
   ],
   "source": [
    "with open(\"prompt_continuouseffects.txt\", \"r\") as file:\n",
    "    prompt_continuous_effects = file.read()\n",
    "print(prompt_continuous_effects)\n",
    "\n",
    "prompt_template = PromptTemplate.from_template(prompt_continuous_effects)\n",
    "#prompt_template = ChatPromptTemplate.from_template(prompt_continuous_effects)"
   ],
   "metadata": {
    "collapsed": false,
    "ExecuteTime": {
     "end_time": "2024-03-08T12:44:15.418713Z",
     "start_time": "2024-03-08T12:44:15.413854Z"
    }
   },
   "id": "a848cd6d90e83b8e",
   "execution_count": 17
  },
  {
   "cell_type": "markdown",
   "source": [
    "## RAG\n",
    "= Retrieved Augmented Generation\n",
    "- ChatGPT's knowlegde of the rules is from January 2022: for current state the rulebook needs to be retrieved and passed to the LLM\n",
    "- this data can provide context for the specific questions\n",
    "### Loader\n",
    "- simple loader to load .txt data: complete rule book from Magic: The Gathering"
   ],
   "metadata": {
    "collapsed": false
   },
   "id": "3b59c02d1d84e5f6"
  },
  {
   "cell_type": "code",
   "outputs": [],
   "source": [
    "#loader = TextLoader(\"./data/rules_shortened.txt\")\n",
    "loader = TextLoader(\"./data/rules.txt\")\n",
    "rules_doc = loader.load()"
   ],
   "metadata": {
    "collapsed": false,
    "ExecuteTime": {
     "end_time": "2024-03-08T12:40:22.002535Z",
     "start_time": "2024-03-08T12:40:21.995662Z"
    }
   },
   "id": "27f00bbe91b18e9",
   "execution_count": 5
  },
  {
   "cell_type": "markdown",
   "source": [
    "### Splitter\n",
    "- splitting the text into smaller chunks\n",
    "- this text splitter splits text recursively by characters: [\"\\n\\n\", \"\\n\", \" \", \"\"], so first paragraphs, then sentences, then words\n",
    "- keeps semantically related pieces together as long as possible"
   ],
   "metadata": {
    "collapsed": false
   },
   "id": "90397fedb75ce76f"
  },
  {
   "cell_type": "code",
   "outputs": [],
   "source": [
    "text_splitter = RecursiveCharacterTextSplitter(chunk_size=1000, chunk_overlap=200)\n",
    "rules_splits = text_splitter.split_documents(rules_doc)\n",
    "# print(rules_splits[0])"
   ],
   "metadata": {
    "collapsed": false,
    "ExecuteTime": {
     "end_time": "2024-03-08T12:40:25.698388Z",
     "start_time": "2024-03-08T12:40:25.655084Z"
    }
   },
   "id": "b2ca6492e32cd42c",
   "execution_count": 6
  },
  {
   "cell_type": "markdown",
   "source": [
    "### Vector Store\n",
    "- for storage of the embeddings\n",
    "- embedding for capture semantic meaning of the text: that's how context is given for later question\n",
    "- OpenAI embedding for ChatGPT\n",
    "- Chroma as open-source embedding database\n",
    "- finally, construct a retriever out of vectorstore "
   ],
   "metadata": {
    "collapsed": false
   },
   "id": "359b9cfc6dddfddd"
  },
  {
   "cell_type": "code",
   "outputs": [],
   "source": [
    "rules_db = Chroma.from_documents(documents=rules_splits, embedding=OpenAIEmbeddings())\n",
    "retriever_rules = rules_db.as_retriever()"
   ],
   "metadata": {
    "collapsed": false,
    "ExecuteTime": {
     "end_time": "2024-03-08T12:40:43.176071Z",
     "start_time": "2024-03-08T12:40:29.031825Z"
    }
   },
   "id": "afb3d85ff7036f43",
   "execution_count": 7
  },
  {
   "cell_type": "markdown",
   "source": [
    "- create new LLM: temperature 0 for more consistent, non-creative and therefor comparable output"
   ],
   "metadata": {
    "collapsed": false
   },
   "id": "cd2d8fe25b5886d6"
  },
  {
   "cell_type": "code",
   "outputs": [],
   "source": [
    "# llm = OpenAI(temperature=0, openai_api_key=openai_api_key)\n",
    "model = ChatOpenAI(temperature=0, openai_api_key=openai_api_key)"
   ],
   "metadata": {
    "collapsed": false,
    "ExecuteTime": {
     "end_time": "2024-03-08T12:40:47.054036Z",
     "start_time": "2024-03-08T12:40:46.901322Z"
    }
   },
   "id": "f28c13e80fd1b991",
   "execution_count": 8
  },
  {
   "cell_type": "markdown",
   "source": [
    "## Case 1: Blood Moon vs. Urborg, Tomb of Yawgmoth\n",
    "- Get card information via scryfall.com and delete unnecessary data: \n",
    "- keep only: name, mana cost, converted mana cost, type, oracle text, colors, keywords"
   ],
   "metadata": {
    "collapsed": false
   },
   "id": "6addb1af7246dfa4"
  },
  {
   "cell_type": "code",
   "outputs": [
    {
     "name": "stdout",
     "output_type": "stream",
     "text": [
      "{'id': '9e1a9e38-6ffc-490f-b0be-23ba4e8204c6', 'name': 'Urborg, Tomb of Yawgmoth', 'mana_cost': '', 'cmc': 0.0, 'type_line': 'Legendary Land', 'oracle_text': 'Each land is a Swamp in addition to its other land types.', 'colors': [], 'keywords': [], 'produced_mana': ['B'], 'comments': [\"Urborg, Tomb of Yawgmoth isn't a Swamp while it's not on the battlefield.\", \"Land cards not on the battlefield aren't Swamps while Urborg is on the battlefield.\", 'Urborg\\'s ability causes each land on the battlefield to have the land type Swamp. Any land that\\'s a Swamp has the ability \"{T}: Add {B}.\" Nothing else changes about those lands, including their names, other subtypes, other abilities, and whether they\\'re legendary, basic, or snow.', \"If an effect such as that of Magus of the Moon causes Urborg to lose its abilities by setting it to a basic land type not in addition to its other types, it won't turn lands into Swamps, no matter in what order those effects started to apply.\"]}\n"
     ]
    }
   ],
   "source": [
    "card1 = \"Urborg, Tomb of Yawgmoth\"\n",
    "response = requests.get(f'https://api.scryfall.com/cards/named?exact={card1} ', \n",
    "                 headers={'Accept': 'application/json'})\n",
    "if response.status_code == 200:\n",
    "    # Parse the JSON response into a Python dictionary to delete keywords\n",
    "    data = response.json()\n",
    "    keywords = [\"object\", \"oracle_id\", \"mtgo_foil_id\", \"rarity\", \"color_identity\", \"penny_rank\", \"multiverse_ids\", \"mtgo_id\", \"tcgplayer_id\", \"cardmarket_id\", \"lang\", \"released_at\", \"uri\", \"scryfall_uri\", \"layout\", \"frame_effects\", \"highres_image\", \"image_status\", \"image_uris\", \"legalities\", \"games\", \"reserved\", \"foil\", \"nonfoil\", \"finishes\", \"oversized\", \"promo\", \"reprint\", \"variation\", \"set_id\", \"set\", \"set_name\", \"set_type\", \"set_uri\", \"rulings_uri\", \"set_search_uri\", \"scryfall_set_uri\", \"prints_search_uri\", \"collector_number\", \"digital\", \"flavor_text\", \"card_back_id\", \"artist\", \"artist_ids\", \"illustration_id\", \"border_color\", \"frame\", \"security_stamp\", \"full_art\", \"textless\", \"booster\", \"story_spotlight\", \"edhrec_rank\", \"preview\", \"related_uris\", \"prices\", \"tcgplayer_infinite_articles\", \"tcgplayer_infinite_decks\", \"edhrec\", \"purchase_uris\", \"cardmarket\", \"cardhoarder\"]\n",
    "    for keyword in keywords:\n",
    "        if keyword in data:\n",
    "            del data[keyword]\n",
    "        \n",
    "    # convert into json dict\n",
    "    card1 = json.loads(json.dumps(data))\n",
    "    \n",
    "    # check for additional rulings via id\n",
    "    card_id = card1.get('id')\n",
    "    if card_id:\n",
    "        response = requests.get(f'https://api.scryfall.com/cards/{card_id}/rulings', \n",
    "                 headers={'Accept': 'application/json'})\n",
    "    \n",
    "    # add additional rules to card\n",
    "        if response.status_code == 200:\n",
    "            data_rulings = response.json()\n",
    "            comments = [item.get('comment') for item in data_rulings.get('data', [])]\n",
    "            card1['comments'] = comments\n",
    "        \n",
    "    with open('./data/cards/urborg.json', 'w') as f:\n",
    "        json.dump(card1, f)\n",
    "    print(card1)\n"
   ],
   "metadata": {
    "collapsed": false,
    "ExecuteTime": {
     "end_time": "2024-03-08T12:58:35.607566Z",
     "start_time": "2024-03-08T12:58:34.966454Z"
    }
   },
   "id": "eb35d55ab5881fae",
   "execution_count": 38
  },
  {
   "cell_type": "code",
   "outputs": [
    {
     "name": "stdout",
     "output_type": "stream",
     "text": [
      "{'id': 'd072e9ca-aae7-45dc-8025-3ce590bae63f', 'name': 'Blood Moon', 'mana_cost': '{2}{R}', 'cmc': 3.0, 'type_line': 'Enchantment', 'oracle_text': 'Nonbasic lands are Mountains.', 'colors': ['R'], 'keywords': [], 'comments': ['If a nonbasic land has an ability that triggers “when” it enters the battlefield, it will lose that ability before it can trigger.', 'If a nonbasic land has an ability that causes it to enter the battlefield tapped, it will lose that ability before it can apply. The same is also true of any other abilities that modify how a land enters the battlefield or apply “as” a land enters the battlefield, such as the first ability of Cavern of Souls.', 'Nonbasic lands will lose any other land types and abilities they had. They will gain the land type Mountain and gain the ability “{T}: Add {R}.”', \"This effect doesn't affect names or supertypes. It won't turn any land into a basic land or remove the legendary supertype from a legendary land, and the lands won't be named “Mountain.”\"]}\n"
     ]
    }
   ],
   "source": [
    "card2 = \"Blood Moon\"\n",
    "response = requests.get(f'https://api.scryfall.com/cards/named?exact={card2} ', \n",
    "                 headers={'Accept': 'application/json'})\n",
    "if response.status_code == 200:\n",
    "    # Parse the JSON response into a Python dictionary to delete keywords\n",
    "    data = response.json()\n",
    "    keywords = [\"object\", \"oracle_id\", \"mtgo_foil_id\", \"rarity\", \"color_identity\", \"penny_rank\", \"multiverse_ids\", \"mtgo_id\", \"tcgplayer_id\", \"cardmarket_id\", \"lang\", \"released_at\", \"uri\", \"scryfall_uri\", \"layout\", \"frame_effects\", \"highres_image\", \"image_status\", \"image_uris\", \"legalities\", \"games\", \"reserved\", \"foil\", \"nonfoil\", \"finishes\", \"oversized\", \"promo\", \"reprint\", \"variation\", \"set_id\", \"set\", \"set_name\", \"set_type\", \"set_uri\", \"set_search_uri\", \"scryfall_set_uri\", \"rulings_uri\", \"prints_search_uri\", \"collector_number\", \"digital\", \"flavor_text\", \"card_back_id\", \"artist\", \"artist_ids\", \"illustration_id\", \"border_color\", \"frame\", \"security_stamp\", \"full_art\", \"textless\", \"booster\", \"story_spotlight\", \"edhrec_rank\", \"preview\", \"related_uris\", \"prices\", \"tcgplayer_infinite_articles\", \"tcgplayer_infinite_decks\", \"edhrec\", \"purchase_uris\", \"cardmarket\", \"cardhoarder\"]\n",
    "    for keyword in keywords:\n",
    "        if keyword in data:\n",
    "            del data[keyword]\n",
    "    \n",
    "    clean_json = json.dumps(data)\n",
    "    # convert into json dict\n",
    "    card2 = json.loads(clean_json)\n",
    "    \n",
    "    # check for additional rulings via id\n",
    "    card_id = card2.get('id')\n",
    "    if card_id:\n",
    "        response = requests.get(f'https://api.scryfall.com/cards/{card_id}/rulings', \n",
    "                 headers={'Accept': 'application/json'})\n",
    "    \n",
    "    # add additional rules to card\n",
    "        if response.status_code == 200:\n",
    "            data_rulings = response.json()\n",
    "            comments = [item.get('comment') for item in data_rulings.get('data', [])]\n",
    "            card2['comments'] = comments\n",
    "    \n",
    "    with open('./data/cards/bloodmoon.json', 'w') as f:\n",
    "        json.dump(card2, f)\n",
    "    print(card2)"
   ],
   "metadata": {
    "collapsed": false,
    "ExecuteTime": {
     "end_time": "2024-03-08T12:59:16.419599Z",
     "start_time": "2024-03-08T12:59:15.835882Z"
    }
   },
   "id": "9ba51bbf6643a219",
   "execution_count": 39
  },
  {
   "cell_type": "code",
   "outputs": [],
   "source": [
    "# load card variables from saved data\n",
    "with open(\"./data/cards/urborg.txt\", \"r\") as file:\n",
    "    card1 = file.read()\n",
    "\n",
    "with open(\"./data/cards/bloodmoon.txt\", \"r\") as file:\n",
    "    card2 = file.read()"
   ],
   "metadata": {
    "collapsed": false
   },
   "id": "ef2501dbce11637e"
  },
  {
   "cell_type": "code",
   "outputs": [],
   "source": [
    "prompt_template = ChatPromptTemplate.from_template(\n",
    "    template=prompt_continuous_effects,\n",
    "    partial_variables={\"card1\": card1, \"card2\": card2},\n",
    ")"
   ],
   "metadata": {
    "collapsed": false,
    "ExecuteTime": {
     "end_time": "2024-03-08T12:45:12.402525Z",
     "start_time": "2024-03-08T12:45:12.397915Z"
    }
   },
   "id": "3bc09f69eb503566",
   "execution_count": 22
  },
  {
   "cell_type": "markdown",
   "source": [
    "- Use Chatmodel instead of LLM: more possible token in prompt\n",
    "- Outputparser to parse message response from Chatmodel to str\n",
    "- check testcases.md to compare expected outcome with ChatGPT's answer"
   ],
   "metadata": {
    "collapsed": false
   },
   "id": "5c09b5958862406e"
  },
  {
   "cell_type": "code",
   "outputs": [
    {
     "name": "stdout",
     "output_type": "stream",
     "text": [
      "1. Oracle texts:\n",
      "- Urborg, Tomb of Yawgmoth: \"Each land is a Swamp in addition to its other land types.\"\n",
      "- Blood Moon: \"Nonbasic lands are Mountains.\"\n",
      "\n",
      "2. Layer determination:\n",
      "The effects of these cards fall under the category of type-changing effects, which are applied in layer 4 according to rule 613.1.\n",
      "\n",
      "3. Decision on ruling:\n",
      "In this scenario, we will apply the rule of Dependency (613.8) as the effects of both cards are dependent on each other. The outcome of one effect (making lands Swamps) affects the outcome of the other effect (making nonbasic lands Mountains).\n",
      "\n",
      "4. Judging:\n",
      "The continuous effect of the card that is applied in the game is Blood Moon: \"Nonbasic lands are Mountains.\"\n",
      "\n",
      "5. Explanation:\n",
      "Since the effects of Urborg, Tomb of Yawgmoth and Blood Moon are dependent on each other, we need to consider the dependency rule (613.8). In this case, the effect of Blood Moon overrides the effect of Urborg, Tomb of Yawgmoth because Blood Moon specifically states that nonbasic lands are Mountains, regardless of any other effects.\n",
      "\n",
      "6. Rule quoted:\n",
      "Dependency rule (613.8) from the Magic: the Gathering comprehensive rules.\n"
     ]
    }
   ],
   "source": [
    "chain = ({\"rules_db\": retriever_rules, \"question\": RunnablePassthrough()} | prompt_template | model | StrOutputParser())\n",
    "answer = chain.invoke(\"What is the final board state of two cards played with continuous effects from Magic: the Gathering?\")\n",
    "print(answer)"
   ],
   "metadata": {
    "collapsed": false,
    "ExecuteTime": {
     "end_time": "2024-03-08T12:45:21.259204Z",
     "start_time": "2024-03-08T12:45:16.163094Z"
    }
   },
   "id": "34c08b3114fab1dc",
   "execution_count": 23
  },
  {
   "cell_type": "markdown",
   "source": [
    "- saving the answers as .txt for comparison by date & time: "
   ],
   "metadata": {
    "collapsed": false
   },
   "id": "8ce46fd91e648ac5"
  },
  {
   "cell_type": "code",
   "outputs": [],
   "source": [
    "current_datetime = str(datetime.now().strftime(\"%Y-%m-%d %H-%M-%S\"))\n",
    "file_name = current_datetime+\".txt\"\n",
    "\n",
    "with open(f'./data/answers/case1_{file_name}', 'w') as f:\n",
    "    f.write(answer)"
   ],
   "metadata": {
    "collapsed": false,
    "ExecuteTime": {
     "end_time": "2024-03-08T12:45:47.794520Z",
     "start_time": "2024-03-08T12:45:47.790281Z"
    }
   },
   "id": "3b3b487f00e9d942",
   "execution_count": 24
  },
  {
   "cell_type": "code",
   "outputs": [],
   "source": [
    "# cleanup\n",
    "rules_db.delete_collection()"
   ],
   "metadata": {
    "collapsed": false,
    "ExecuteTime": {
     "end_time": "2024-03-04T14:51:39.836703Z",
     "start_time": "2024-03-04T14:51:39.591677Z"
    }
   },
   "id": "1a87757a2c34e812",
   "execution_count": 22
  },
  {
   "cell_type": "markdown",
   "source": [
    "## Case 2a: Opalescence vs. Humility\n",
    "- timestamp rule determines the outcome: *Humility* is played last and it's effect overrides *Opalescence*"
   ],
   "metadata": {
    "collapsed": false
   },
   "id": "e36e3ada1a279f8d"
  },
  {
   "cell_type": "code",
   "outputs": [
    {
     "name": "stdout",
     "output_type": "stream",
     "text": [
      "{'id': '3c0071fb-afa5-47b5-b266-2b10a4f5a98a', 'name': 'Opalescence', 'mana_cost': '{2}{W}{W}', 'cmc': 4.0, 'type_line': 'Enchantment', 'oracle_text': 'Each other non-Aura enchantment is a creature in addition to its other types and has base power and base toughness each equal to its mana value.', 'colors': ['W'], 'keywords': [], 'comments': ['This is the current interaction between Humility and Opalescence: The type-changing effect applies at layer 4, but the rest happens in the applicable layers. The rest of it will apply even if the permanent loses its ability before it’s finished applying. So if Opalescence, Humility, and Worship are on the battlefield and Opalescence entered the battlefield before Humility, the following is true: Layer 4: Humility and Worship each become creatures that are still enchantments. (Opalescence). Layer 6: Humility and Worship each lose their abilities. (Humility) Layer 7b: Humility becomes 4/4 and Worship becomes 4/4. (Opalescence). Humility becomes 1/1 and Worship becomes 1/1 (Humility). But if Humility entered the battlefield before Opalescence, the following is true: Layer 4: Humility and Worship each become creatures that are still enchantments (Opalescence). Layer 6: Humility and Worship each lose their abilities (Humility). Layer 7b: Humility becomes 1/1 and Worship becomes 1/1 (Humility). Humility becomes 4/4 and Worship becomes 4/4 (Opalescence).', 'A noncreature permanent that turns into a creature can attack, and its {T} abilities can be activated, only if its controller has continuously controlled that permanent since the beginning of their most recent turn. It doesn’t matter how long the permanent has been a creature.', 'With a Humility and two Opalescences on the battlefield, if Humility has the latest timestamp, then all creatures are 1/1 with no abilities. If the timestamp order is Opalescence, Humility, Opalescence, the second Opalescence is 1/1, and the Humility and first Opalescence are 4/4. If Humility has the earliest timestamp, then everything is 4/4.', 'Does not animate itself. But can be animated by another Opalescence.']}\n"
     ]
    }
   ],
   "source": [
    "card1 = \"Opalescence\"\n",
    "response = requests.get(f'https://api.scryfall.com/cards/named?exact={card1} ', \n",
    "                 headers={'Accept': 'application/json'})\n",
    "if response.status_code == 200:\n",
    "    # Parse the JSON response into a Python dictionary to delete keywords\n",
    "    data = response.json()\n",
    "    keywords = [\"object\", \"oracle_id\", \"mtgo_foil_id\", \"rarity\", \"color_identity\", \"penny_rank\", \"multiverse_ids\", \"mtgo_id\", \"tcgplayer_id\", \"cardmarket_id\", \"lang\", \"released_at\", \"uri\", \"scryfall_uri\", \"layout\", \"frame_effects\", \"highres_image\", \"image_status\", \"image_uris\", \"legalities\", \"games\", \"reserved\", \"foil\", \"nonfoil\", \"finishes\", \"oversized\", \"promo\", \"reprint\", \"variation\", \"set_id\", \"set\", \"set_name\", \"set_type\", \"set_uri\", \"set_search_uri\", \"scryfall_set_uri\", \"rulings_uri\", \"prints_search_uri\", \"collector_number\", \"digital\", \"flavor_text\", \"card_back_id\", \"artist\", \"artist_ids\", \"illustration_id\", \"border_color\", \"frame\", \"security_stamp\", \"full_art\", \"textless\", \"booster\", \"story_spotlight\", \"edhrec_rank\", \"preview\", \"related_uris\", \"prices\", \"tcgplayer_infinite_articles\", \"tcgplayer_infinite_decks\", \"edhrec\", \"purchase_uris\", \"cardmarket\", \"cardhoarder\"]\n",
    "    for keyword in keywords:\n",
    "        if keyword in data:\n",
    "            del data[keyword]\n",
    "    \n",
    "    clean_json = json.dumps(data)\n",
    "    # convert into json dict \n",
    "    card1 = json.loads(clean_json)\n",
    "    \n",
    "    # check for additional rulings via id\n",
    "    card_id = card1.get('id')\n",
    "    if card_id:\n",
    "        response = requests.get(f'https://api.scryfall.com/cards/{card_id}/rulings', \n",
    "                 headers={'Accept': 'application/json'})\n",
    "    \n",
    "    # add additional rules to card\n",
    "        if response.status_code == 200:\n",
    "            data_rulings = response.json()\n",
    "            comments = [item.get('comment') for item in data_rulings.get('data', [])]\n",
    "            card1['comments'] = comments\n",
    "    \n",
    "    with open('./data/cards/opalescence.json', 'w') as f:\n",
    "        json.dump(card1, f)\n",
    "    print(card1)"
   ],
   "metadata": {
    "collapsed": false,
    "ExecuteTime": {
     "end_time": "2024-03-08T13:13:03.513278Z",
     "start_time": "2024-03-08T13:13:02.744462Z"
    }
   },
   "id": "3080d61e967ea42e",
   "execution_count": 42
  },
  {
   "cell_type": "code",
   "outputs": [
    {
     "name": "stdout",
     "output_type": "stream",
     "text": [
      "Humility\n",
      "{'id': '55ad6a45-a840-45ba-89ad-066e20e983f3', 'name': 'Humility', 'mana_cost': '{2}{W}{W}', 'cmc': 4.0, 'type_line': 'Enchantment', 'oracle_text': 'All creatures lose all abilities and have base power and toughness 1/1.', 'colors': ['W'], 'keywords': [], 'comments': ['This is the current interaction between Humility and Opalescence: The type-changing effect applies at layer 4, but the rest happens in the applicable layers. The rest of it will apply even if the permanent loses its ability before it’s finished applying. So if Opalescence, Humility, and Worship are on the battlefield and Opalescence entered the battlefield before Humility, the following is true: Layer 4: Humility and Worship each become creatures that are still enchantments. (Opalescence). Layer 6: Humility and Worship each lose their abilities. (Humility) Layer 7b: Humility becomes 4/4 and Worship becomes 4/4. (Opalescence). Humility becomes 1/1 and Worship becomes 1/1 (Humility). But if Humility entered the battlefield before Opalescence, the following is true: Layer 4: Humility and Worship each become creatures that are still enchantments (Opalescence). Layer 6: Humility and Worship each lose their abilities (Humility). Layer 7b: Humility becomes 1/1 and Worship becomes 1/1 (Humility). Humility becomes 4/4 and Worship becomes 4/4 (Opalescence).', 'You apply power/toughness changing effects in a series of sublayers in the following order: (a) effects from characteristic-defining abilities; (b) effects that set power and/or toughness to a specific number or value; (c) effects that modify power and/or toughness but don’t set power and/or toughness to a specific number or value; (d) changes from counters; (e) effects that switch a creature’s power and toughness. This card’s effect is always applied in (b), which means that effects applied in sublayer (c), (d), or (e) will not be overwritten; they will be applied to the new value.', 'Removes all creature abilities. This includes mana abilities. Animated lands will also lose the ability to tap for mana.', 'With a Humility and two Opalescences on the battlefield, if Humility has the latest timestamp, then all creatures are 1/1 with no abilities. If the timestamp order is Opalescence, Humility, Opalescence, the second Opalescence is 1/1, and the Humility and first Opalescence are 4/4. If Humility has the earliest timestamp, then everything is 4/4.']}\n"
     ]
    }
   ],
   "source": [
    "card2 = \"Humility\"\n",
    "response = requests.get(f'https://api.scryfall.com/cards/named?exact={card2} ', \n",
    "                 headers={'Accept': 'application/json'})\n",
    "if response.status_code == 200:\n",
    "    # Parse the JSON response into a Python dictionary to delete keywords\n",
    "    data = response.json()\n",
    "    print(card2)\n",
    "    keywords = [\"object\", \"oracle_id\", \"mtgo_foil_id\", \"rarity\", \"color_identity\", \"penny_rank\", \"multiverse_ids\", \"mtgo_id\", \"tcgplayer_id\", \"cardmarket_id\", \"lang\", \"released_at\", \"uri\", \"scryfall_uri\", \"layout\", \"frame_effects\", \"highres_image\", \"image_status\", \"image_uris\", \"legalities\", \"games\", \"reserved\", \"foil\", \"nonfoil\", \"finishes\", \"oversized\", \"promo\", \"reprint\", \"variation\", \"set_id\", \"set\", \"set_name\", \"set_type\", \"set_uri\", \"set_search_uri\", \"scryfall_set_uri\", \"rulings_uri\", \"prints_search_uri\", \"collector_number\", \"digital\", \"flavor_text\", \"card_back_id\", \"artist\", \"artist_ids\", \"illustration_id\", \"border_color\", \"frame\", \"security_stamp\", \"full_art\", \"textless\", \"booster\", \"story_spotlight\", \"edhrec_rank\", \"preview\", \"related_uris\", \"prices\", \"tcgplayer_infinite_articles\", \"tcgplayer_infinite_decks\", \"edhrec\", \"purchase_uris\", \"cardmarket\", \"cardhoarder\"]\n",
    "    for keyword in keywords:\n",
    "        if keyword in data:\n",
    "            del data[keyword]\n",
    "    \n",
    "    clean_json = json.dumps(data)\n",
    "    # convert into json dict \n",
    "    card2 = json.loads(clean_json)\n",
    "    \n",
    "    # check for additional rulings via id\n",
    "    card_id = card2.get('id')\n",
    "    if card_id:\n",
    "        response = requests.get(f'https://api.scryfall.com/cards/{card_id}/rulings', \n",
    "                 headers={'Accept': 'application/json'})\n",
    "    \n",
    "    # add additional rules to card\n",
    "        if response.status_code == 200:\n",
    "            data_rulings = response.json()\n",
    "            comments = [item.get('comment') for item in data_rulings.get('data', [])]\n",
    "            card2['comments'] = comments\n",
    "    \n",
    "    with open('./data/cards/humility.json', 'w') as f:\n",
    "        json.dump(card2, f)\n",
    "    print(card2)"
   ],
   "metadata": {
    "collapsed": false,
    "ExecuteTime": {
     "end_time": "2024-03-08T13:06:50.171521Z",
     "start_time": "2024-03-08T13:06:49.702703Z"
    }
   },
   "id": "940cb0f195a2860c",
   "execution_count": 41
  },
  {
   "cell_type": "code",
   "outputs": [],
   "source": [
    "with open(\"./data/cards/opalescence.txt\", \"r\") as file:\n",
    "    card1 = file.read()\n",
    "\n",
    "with open(\"./data/cards/humility.txt\", \"r\") as file:\n",
    "    card2 = file.read()"
   ],
   "metadata": {
    "collapsed": false
   },
   "id": "bb6dbafea9a1b50f"
  },
  {
   "cell_type": "code",
   "outputs": [],
   "source": [
    "prompt_template = ChatPromptTemplate.from_template(\n",
    "    template=prompt_continuous_effects,\n",
    "    partial_variables={\"card1\": card1, \"card2\": card2},\n",
    ")"
   ],
   "metadata": {
    "collapsed": false,
    "ExecuteTime": {
     "end_time": "2024-03-08T12:51:10.598784Z",
     "start_time": "2024-03-08T12:51:10.592977Z"
    }
   },
   "id": "8866f2edf7bb637d",
   "execution_count": 29
  },
  {
   "cell_type": "code",
   "outputs": [
    {
     "name": "stdout",
     "output_type": "stream",
     "text": [
      "1. Oracle texts:\n",
      "- Opalescence: Each other non-Aura enchantment is a creature in addition to its other types and has base power and base toughness each equal to its mana value.\n",
      "- Humility: All creatures lose all abilities and have base power and toughness 1/1.\n",
      "\n",
      "2. The effects of these cards are applied in different layers according to the rules. The effect of Opalescence is applied in layer 4, which deals with type-changing effects. On the other hand, the effect of Humility is applied in layer 6, which deals with ability-removing effects.\n",
      "\n",
      "3. I will rule based on the concept of Layers (613.1 to 613.7) as it determines the order in which continuous effects are applied based on their respective layers.\n",
      "\n",
      "4. Judging: The continuous effect of Opalescence is applied in the game. The effect of Opalescence turns all other non-Aura enchantments into creatures with power and toughness equal to their mana value.\n",
      "\n",
      "5. Explanation: Since Opalescence's effect is applied in layer 4, which is earlier than the layer in which Humility's effect is applied, Opalescence's effect takes precedence. This means that all other non-Aura enchantments will become creatures with power and toughness equal to their mana value before Humility's effect of setting all creatures' power and toughness to 1/1 with no abilities is applied.\n",
      "\n",
      "6. Rule used: Layers (613.1 to 613.7) in Magic: the Gathering rules.\n"
     ]
    }
   ],
   "source": [
    "chain = ({\"rules_db\": retriever_rules, \"question\": RunnablePassthrough()} | prompt_template | model | StrOutputParser())\n",
    "answer = chain.invoke(\"What is the outcome of two played cards with continuous effects from Magic: the Gathering?\")\n",
    "print(answer)"
   ],
   "metadata": {
    "collapsed": false,
    "ExecuteTime": {
     "end_time": "2024-03-08T12:51:20.261344Z",
     "start_time": "2024-03-08T12:51:13.040375Z"
    }
   },
   "id": "b6b5a2e29d54be7b",
   "execution_count": 30
  },
  {
   "cell_type": "code",
   "outputs": [],
   "source": [
    "file_name = str(datetime.now().strftime(\"%Y-%m-%d %H-%M-%S\"))\n",
    "# file_name = current_datetime+\".txt\"\n",
    "\n",
    "with open(f'./data/answers/case2_{file_name}.txt', 'w') as f:\n",
    "    f.write(answer)"
   ],
   "metadata": {
    "collapsed": false,
    "ExecuteTime": {
     "end_time": "2024-03-04T15:46:06.931001Z",
     "start_time": "2024-03-04T15:46:06.925626Z"
    }
   },
   "id": "f4c911c5fff90359",
   "execution_count": 111
  },
  {
   "cell_type": "markdown",
   "source": [
    "## Case 2b: Humility vs. Opalescence \n",
    "- because timestamp is important here, testing the case with changed order"
   ],
   "metadata": {
    "collapsed": false
   },
   "id": "8505e1378aea73aa"
  },
  {
   "cell_type": "code",
   "outputs": [],
   "source": [
    "with open(\"./data/cards/humility.txt\", \"r\") as file:\n",
    "    card1 = file.read()\n",
    "\n",
    "with open(\"./data/cards/opalescence.txt\", \"r\") as file:\n",
    "    card2 = file.read()"
   ],
   "metadata": {
    "collapsed": false
   },
   "id": "93922763012c8728"
  },
  {
   "cell_type": "code",
   "outputs": [],
   "source": [
    "prompt_template = ChatPromptTemplate.from_template(\n",
    "    template=prompt_continuous_effects,\n",
    "    partial_variables={\"card1\": card1, \"card2\": card2},\n",
    ")"
   ],
   "metadata": {
    "collapsed": false,
    "ExecuteTime": {
     "end_time": "2024-03-08T12:53:41.441827Z",
     "start_time": "2024-03-08T12:53:41.437572Z"
    }
   },
   "id": "7389ad16be09ca26",
   "execution_count": 35
  },
  {
   "cell_type": "code",
   "outputs": [
    {
     "name": "stdout",
     "output_type": "stream",
     "text": [
      "1. Oracle texts:\n",
      "- Humility: All creatures lose all abilities and have base power and toughness 1/1.\n",
      "- Opalescence: Each other non-Aura enchantment is a creature in addition to its other types and has base power and base toughness each equal to its mana value.\n",
      "\n",
      "2. The effects of these cards are applied in different layers according to the layer system in Magic: the Gathering. The effect of Humility, which removes all creature abilities and sets their power and toughness to 1/1, is applied in Layer 6 (ability-removing effects) and Layer 7b (power/toughness setting effects). On the other hand, the effect of Opalescence, which turns non-Aura enchantments into creatures with power and toughness equal to their mana value, is applied in Layer 4 (type-changing effects) and Layer 7b (power/toughness setting effects).\n",
      "\n",
      "3. I will use the rule of Overriding of effects (613.9) to determine which continuous effect takes precedence in this scenario.\n",
      "\n",
      "4. Judging: The continuous effect of Humility, which sets all creatures' power and toughness to 1/1 and removes all abilities, will be applied in the game.\n",
      "\n",
      "5. I decided this way because the effect of Humility specifically states that it removes all creature abilities and sets their power and toughness to 1/1. This effect is applied in Layer 6 and Layer 7b, which are relevant to ability removal and power/toughness setting. Since Humility has the earlier timestamp, its effect will override the effect of Opalescence in this case.\n",
      "\n",
      "6. Rule used: Overriding of effects (613.9) - One continuous effect can override another, and the effect with the earlier timestamp takes precedence.\n"
     ]
    }
   ],
   "source": [
    "chain = ({\"rules_db\": retriever_rules, \"question\": RunnablePassthrough()} | prompt_template | model | StrOutputParser())\n",
    "answer = chain.invoke(\"What is the outcome of two played cards with continuous effects from Magic: the Gathering?\")\n",
    "print(answer)"
   ],
   "metadata": {
    "collapsed": false,
    "ExecuteTime": {
     "end_time": "2024-03-08T12:53:52.327874Z",
     "start_time": "2024-03-08T12:53:43.014046Z"
    }
   },
   "id": "b2fa02271b9c4fa3",
   "execution_count": 36
  },
  {
   "cell_type": "code",
   "outputs": [],
   "source": [
    "file_name = str(datetime.now().strftime(\"%Y-%m-%d %H-%M-%S\"))\n",
    "# file_name = current_datetime+\".txt\"\n",
    "\n",
    "with open(f'./data/answers/case2_{file_name}.txt', 'w') as f:\n",
    "    f.write(answer)"
   ],
   "metadata": {
    "collapsed": false,
    "ExecuteTime": {
     "end_time": "2024-03-08T12:54:08.785762Z",
     "start_time": "2024-03-08T12:54:08.781082Z"
    }
   },
   "id": "b9bb8f9747e17ec",
   "execution_count": 37
  },
  {
   "cell_type": "code",
   "outputs": [],
   "source": [
    "# cleanup\n",
    "rules_db.delete_collection()"
   ],
   "metadata": {
    "collapsed": false,
    "ExecuteTime": {
     "end_time": "2024-03-04T16:00:54.830639Z",
     "start_time": "2024-03-04T16:00:54.604429Z"
    }
   },
   "id": "ccc24138ef06e935",
   "execution_count": 144
  }
 ],
 "metadata": {
  "kernelspec": {
   "display_name": "Python 3",
   "language": "python",
   "name": "python3"
  },
  "language_info": {
   "codemirror_mode": {
    "name": "ipython",
    "version": 2
   },
   "file_extension": ".py",
   "mimetype": "text/x-python",
   "name": "python",
   "nbconvert_exporter": "python",
   "pygments_lexer": "ipython2",
   "version": "2.7.6"
  }
 },
 "nbformat": 4,
 "nbformat_minor": 5
}
